{
 "cells": [
  {
   "cell_type": "markdown",
   "id": "7970dc53",
   "metadata": {},
   "source": [
    "## Problem Recomendation Engine using Machine Learning"
   ]
  },
  {
   "cell_type": "raw",
   "id": "3595d220",
   "metadata": {},
   "source": [
    "OBJECTIVES\n",
    "1:To build a model which predicts the attempts taken by a user to solve a given problem ,provided the user current status and problem details\n",
    "2:To test the relation between user rank and attempts range\n",
    "3:To test the relation between user rank and problem level type"
   ]
  },
  {
   "cell_type": "code",
   "execution_count": null,
   "id": "06a0a792",
   "metadata": {},
   "outputs": [],
   "source": []
  },
  {
   "cell_type": "markdown",
   "id": "9ce20906",
   "metadata": {},
   "source": [
    "Recommending the questions that a programmer should solve given his/her current expertise is a big challenge for Online Judge Platforms but is an essential task to keep a programmer engaged on their platform."
   ]
  },
  {
   "cell_type": "markdown",
   "id": "f7ba7d83",
   "metadata": {},
   "source": [
    "We are given the data of programmers and questions that they have previously \n",
    "solved along with the time that they took to solve that particular question.\n",
    "Our task is to build a model that can predict the attempt taken to solve a problem given the user current status\n"
   ]
  },
  {
   "cell_type": "code",
   "execution_count": 1,
   "id": "1f24148e",
   "metadata": {},
   "outputs": [
    {
     "name": "stderr",
     "output_type": "stream",
     "text": [
      "C:\\Users\\shraj\\anaconda3\\lib\\site-packages\\scipy\\__init__.py:146: UserWarning: A NumPy version >=1.16.5 and <1.23.0 is required for this version of SciPy (detected version 1.24.3\n",
      "  warnings.warn(f\"A NumPy version >={np_minversion} and <{np_maxversion}\"\n"
     ]
    }
   ],
   "source": [
    "import numpy as np\n",
    "import pandas as pd\n",
    "import matplotlib.pyplot as plt\n",
    "import seaborn as sns\n",
    "import warnings\n",
    "warnings.filterwarnings('ignore')\n",
    "import scipy.stats as stat"
   ]
  },
  {
   "cell_type": "code",
   "execution_count": 2,
   "id": "bdce3eb1",
   "metadata": {},
   "outputs": [],
   "source": [
    "#loading all three datasets"
   ]
  },
  {
   "cell_type": "code",
   "execution_count": 3,
   "id": "0cbae30b",
   "metadata": {},
   "outputs": [],
   "source": [
    "#Loading probelm dataset contains information related to problems\n",
    "prblm=pd.read_csv(r\"D:\\finaldataset\\problem_data.csv\")"
   ]
  },
  {
   "cell_type": "code",
   "execution_count": 4,
   "id": "49489299",
   "metadata": {},
   "outputs": [],
   "source": [
    "#User dataset containing information about user\n",
    "user=pd.read_csv(r\"D:\\finaldataset\\user_data.csv\")"
   ]
  },
  {
   "cell_type": "code",
   "execution_count": 5,
   "id": "01f0941b",
   "metadata": {},
   "outputs": [],
   "source": [
    "#loading train datset contains information related to user and problem\n",
    "train=pd.read_csv(r\"D:\\finaldataset\\train_submissions.csv\")"
   ]
  },
  {
   "cell_type": "code",
   "execution_count": 6,
   "id": "aca143d8",
   "metadata": {},
   "outputs": [
    {
     "data": {
      "text/plain": [
       "(6544, 4)"
      ]
     },
     "execution_count": 6,
     "metadata": {},
     "output_type": "execute_result"
    }
   ],
   "source": [
    "#checking problem data set\n",
    "#shape \n",
    "#unqiue counts \n",
    "#missing values\n",
    "prblm.shape"
   ]
  },
  {
   "cell_type": "code",
   "execution_count": 7,
   "id": "2c7bdb95",
   "metadata": {},
   "outputs": [
    {
     "data": {
      "text/html": [
       "<div>\n",
       "<style scoped>\n",
       "    .dataframe tbody tr th:only-of-type {\n",
       "        vertical-align: middle;\n",
       "    }\n",
       "\n",
       "    .dataframe tbody tr th {\n",
       "        vertical-align: top;\n",
       "    }\n",
       "\n",
       "    .dataframe thead th {\n",
       "        text-align: right;\n",
       "    }\n",
       "</style>\n",
       "<table border=\"1\" class=\"dataframe\">\n",
       "  <thead>\n",
       "    <tr style=\"text-align: right;\">\n",
       "      <th></th>\n",
       "      <th>problem_id</th>\n",
       "      <th>level_type</th>\n",
       "      <th>points</th>\n",
       "      <th>tags</th>\n",
       "    </tr>\n",
       "  </thead>\n",
       "  <tbody>\n",
       "    <tr>\n",
       "      <th>0</th>\n",
       "      <td>prob_3649</td>\n",
       "      <td>H</td>\n",
       "      <td>NaN</td>\n",
       "      <td>NaN</td>\n",
       "    </tr>\n",
       "    <tr>\n",
       "      <th>1</th>\n",
       "      <td>prob_6191</td>\n",
       "      <td>A</td>\n",
       "      <td>NaN</td>\n",
       "      <td>NaN</td>\n",
       "    </tr>\n",
       "    <tr>\n",
       "      <th>2</th>\n",
       "      <td>prob_2020</td>\n",
       "      <td>F</td>\n",
       "      <td>NaN</td>\n",
       "      <td>NaN</td>\n",
       "    </tr>\n",
       "    <tr>\n",
       "      <th>3</th>\n",
       "      <td>prob_313</td>\n",
       "      <td>A</td>\n",
       "      <td>500.0</td>\n",
       "      <td>greedy,implementation</td>\n",
       "    </tr>\n",
       "    <tr>\n",
       "      <th>4</th>\n",
       "      <td>prob_101</td>\n",
       "      <td>A</td>\n",
       "      <td>500.0</td>\n",
       "      <td>constructive algorithms,greedy,math</td>\n",
       "    </tr>\n",
       "    <tr>\n",
       "      <th>5</th>\n",
       "      <td>prob_1479</td>\n",
       "      <td>E</td>\n",
       "      <td>NaN</td>\n",
       "      <td>NaN</td>\n",
       "    </tr>\n",
       "    <tr>\n",
       "      <th>6</th>\n",
       "      <td>prob_2940</td>\n",
       "      <td>B</td>\n",
       "      <td>NaN</td>\n",
       "      <td>NaN</td>\n",
       "    </tr>\n",
       "    <tr>\n",
       "      <th>7</th>\n",
       "      <td>prob_3059</td>\n",
       "      <td>B</td>\n",
       "      <td>5.0</td>\n",
       "      <td>brute force</td>\n",
       "    </tr>\n",
       "    <tr>\n",
       "      <th>8</th>\n",
       "      <td>prob_1958</td>\n",
       "      <td>D</td>\n",
       "      <td>NaN</td>\n",
       "      <td>NaN</td>\n",
       "    </tr>\n",
       "    <tr>\n",
       "      <th>9</th>\n",
       "      <td>prob_6154</td>\n",
       "      <td>C</td>\n",
       "      <td>NaN</td>\n",
       "      <td>NaN</td>\n",
       "    </tr>\n",
       "  </tbody>\n",
       "</table>\n",
       "</div>"
      ],
      "text/plain": [
       "  problem_id level_type  points                                 tags\n",
       "0  prob_3649          H     NaN                                  NaN\n",
       "1  prob_6191          A     NaN                                  NaN\n",
       "2  prob_2020          F     NaN                                  NaN\n",
       "3   prob_313          A   500.0                greedy,implementation\n",
       "4   prob_101          A   500.0  constructive algorithms,greedy,math\n",
       "5  prob_1479          E     NaN                                  NaN\n",
       "6  prob_2940          B     NaN                                  NaN\n",
       "7  prob_3059          B     5.0                          brute force\n",
       "8  prob_1958          D     NaN                                  NaN\n",
       "9  prob_6154          C     NaN                                  NaN"
      ]
     },
     "execution_count": 7,
     "metadata": {},
     "output_type": "execute_result"
    }
   ],
   "source": [
    "prblm.head(10)"
   ]
  },
  {
   "cell_type": "code",
   "execution_count": 8,
   "id": "49ee6545",
   "metadata": {},
   "outputs": [
    {
     "data": {
      "text/plain": [
       "(6544, 4)"
      ]
     },
     "execution_count": 8,
     "metadata": {},
     "output_type": "execute_result"
    }
   ],
   "source": [
    "prblm.shape"
   ]
  },
  {
   "cell_type": "code",
   "execution_count": 9,
   "id": "24d3c0d1",
   "metadata": {},
   "outputs": [
    {
     "data": {
      "text/plain": [
       "problem_id       0\n",
       "level_type     133\n",
       "points        3917\n",
       "tags          3484\n",
       "dtype: int64"
      ]
     },
     "execution_count": 9,
     "metadata": {},
     "output_type": "execute_result"
    }
   ],
   "source": [
    "prblm.isnull().sum()"
   ]
  },
  {
   "cell_type": "code",
   "execution_count": 10,
   "id": "60241c80",
   "metadata": {},
   "outputs": [],
   "source": [
    "#There are missing values in prblm dataset"
   ]
  },
  {
   "cell_type": "code",
   "execution_count": 11,
   "id": "4295b667",
   "metadata": {},
   "outputs": [
    {
     "data": {
      "text/plain": [
       "6544"
      ]
     },
     "execution_count": 11,
     "metadata": {},
     "output_type": "execute_result"
    }
   ],
   "source": [
    "prblm['problem_id'].nunique()"
   ]
  },
  {
   "cell_type": "markdown",
   "id": "8066c75b",
   "metadata": {},
   "source": [
    "No of rows in dataset and no of unique observation in problem_id columns are equall So it seem like its dificlt to impute missing values in this dataframe"
   ]
  },
  {
   "cell_type": "code",
   "execution_count": 12,
   "id": "bd1065ac",
   "metadata": {},
   "outputs": [
    {
     "data": {
      "text/html": [
       "<div>\n",
       "<style scoped>\n",
       "    .dataframe tbody tr th:only-of-type {\n",
       "        vertical-align: middle;\n",
       "    }\n",
       "\n",
       "    .dataframe tbody tr th {\n",
       "        vertical-align: top;\n",
       "    }\n",
       "\n",
       "    .dataframe thead th {\n",
       "        text-align: right;\n",
       "    }\n",
       "</style>\n",
       "<table border=\"1\" class=\"dataframe\">\n",
       "  <thead>\n",
       "    <tr style=\"text-align: right;\">\n",
       "      <th></th>\n",
       "      <th>user_id</th>\n",
       "      <th>submission_count</th>\n",
       "      <th>problem_solved</th>\n",
       "      <th>contribution</th>\n",
       "      <th>country</th>\n",
       "      <th>follower_count</th>\n",
       "      <th>last_online_time_seconds</th>\n",
       "      <th>max_rating</th>\n",
       "      <th>rating</th>\n",
       "      <th>rank</th>\n",
       "      <th>registration_time_seconds</th>\n",
       "    </tr>\n",
       "  </thead>\n",
       "  <tbody>\n",
       "    <tr>\n",
       "      <th>0</th>\n",
       "      <td>user_3311</td>\n",
       "      <td>47</td>\n",
       "      <td>40</td>\n",
       "      <td>0</td>\n",
       "      <td>NaN</td>\n",
       "      <td>4</td>\n",
       "      <td>1504111645</td>\n",
       "      <td>348.337</td>\n",
       "      <td>330.849</td>\n",
       "      <td>intermediate</td>\n",
       "      <td>1466686436</td>\n",
       "    </tr>\n",
       "    <tr>\n",
       "      <th>1</th>\n",
       "      <td>user_3028</td>\n",
       "      <td>63</td>\n",
       "      <td>52</td>\n",
       "      <td>0</td>\n",
       "      <td>India</td>\n",
       "      <td>17</td>\n",
       "      <td>1498998165</td>\n",
       "      <td>405.677</td>\n",
       "      <td>339.450</td>\n",
       "      <td>intermediate</td>\n",
       "      <td>1441893325</td>\n",
       "    </tr>\n",
       "    <tr>\n",
       "      <th>2</th>\n",
       "      <td>user_2268</td>\n",
       "      <td>226</td>\n",
       "      <td>203</td>\n",
       "      <td>-8</td>\n",
       "      <td>Egypt</td>\n",
       "      <td>24</td>\n",
       "      <td>1505566052</td>\n",
       "      <td>307.339</td>\n",
       "      <td>284.404</td>\n",
       "      <td>beginner</td>\n",
       "      <td>1454267603</td>\n",
       "    </tr>\n",
       "    <tr>\n",
       "      <th>3</th>\n",
       "      <td>user_480</td>\n",
       "      <td>611</td>\n",
       "      <td>490</td>\n",
       "      <td>1</td>\n",
       "      <td>Ukraine</td>\n",
       "      <td>94</td>\n",
       "      <td>1505257499</td>\n",
       "      <td>525.803</td>\n",
       "      <td>471.330</td>\n",
       "      <td>advanced</td>\n",
       "      <td>1350720417</td>\n",
       "    </tr>\n",
       "    <tr>\n",
       "      <th>4</th>\n",
       "      <td>user_650</td>\n",
       "      <td>504</td>\n",
       "      <td>479</td>\n",
       "      <td>12</td>\n",
       "      <td>Russia</td>\n",
       "      <td>4</td>\n",
       "      <td>1496613433</td>\n",
       "      <td>548.739</td>\n",
       "      <td>486.525</td>\n",
       "      <td>advanced</td>\n",
       "      <td>1395560498</td>\n",
       "    </tr>\n",
       "  </tbody>\n",
       "</table>\n",
       "</div>"
      ],
      "text/plain": [
       "     user_id  submission_count  problem_solved  contribution  country  \\\n",
       "0  user_3311                47              40             0      NaN   \n",
       "1  user_3028                63              52             0    India   \n",
       "2  user_2268               226             203            -8    Egypt   \n",
       "3   user_480               611             490             1  Ukraine   \n",
       "4   user_650               504             479            12   Russia   \n",
       "\n",
       "   follower_count  last_online_time_seconds  max_rating   rating  \\\n",
       "0               4                1504111645     348.337  330.849   \n",
       "1              17                1498998165     405.677  339.450   \n",
       "2              24                1505566052     307.339  284.404   \n",
       "3              94                1505257499     525.803  471.330   \n",
       "4               4                1496613433     548.739  486.525   \n",
       "\n",
       "           rank  registration_time_seconds  \n",
       "0  intermediate                 1466686436  \n",
       "1  intermediate                 1441893325  \n",
       "2      beginner                 1454267603  \n",
       "3      advanced                 1350720417  \n",
       "4      advanced                 1395560498  "
      ]
     },
     "execution_count": 12,
     "metadata": {},
     "output_type": "execute_result"
    }
   ],
   "source": [
    "user.head()"
   ]
  },
  {
   "cell_type": "code",
   "execution_count": 13,
   "id": "b67ca4f4",
   "metadata": {},
   "outputs": [
    {
     "data": {
      "text/plain": [
       "(3571, 11)"
      ]
     },
     "execution_count": 13,
     "metadata": {},
     "output_type": "execute_result"
    }
   ],
   "source": [
    "user.shape"
   ]
  },
  {
   "cell_type": "code",
   "execution_count": 14,
   "id": "8478e1a9",
   "metadata": {},
   "outputs": [
    {
     "data": {
      "text/plain": [
       "3571"
      ]
     },
     "execution_count": 14,
     "metadata": {},
     "output_type": "execute_result"
    }
   ],
   "source": [
    "#in user dataset user column is the main key\n",
    "#checking for no of unique values in this dataset\n",
    "user.user_id.nunique()"
   ]
  },
  {
   "cell_type": "code",
   "execution_count": 15,
   "id": "964e2125",
   "metadata": {},
   "outputs": [
    {
     "data": {
      "text/plain": [
       "user_id                         0\n",
       "submission_count                0\n",
       "problem_solved                  0\n",
       "contribution                    0\n",
       "country                      1153\n",
       "follower_count                  0\n",
       "last_online_time_seconds        0\n",
       "max_rating                      0\n",
       "rating                          0\n",
       "rank                            0\n",
       "registration_time_seconds       0\n",
       "dtype: int64"
      ]
     },
     "execution_count": 15,
     "metadata": {},
     "output_type": "execute_result"
    }
   ],
   "source": [
    "user.isnull().sum()"
   ]
  },
  {
   "cell_type": "markdown",
   "id": "05921a0b",
   "metadata": {},
   "source": [
    "No of unique values in user_id column is equall to no of rows in user dataset \n",
    "imputing almost looks difficult"
   ]
  },
  {
   "cell_type": "code",
   "execution_count": 16,
   "id": "c0bd95b8",
   "metadata": {},
   "outputs": [
    {
     "data": {
      "text/html": [
       "<div>\n",
       "<style scoped>\n",
       "    .dataframe tbody tr th:only-of-type {\n",
       "        vertical-align: middle;\n",
       "    }\n",
       "\n",
       "    .dataframe tbody tr th {\n",
       "        vertical-align: top;\n",
       "    }\n",
       "\n",
       "    .dataframe thead th {\n",
       "        text-align: right;\n",
       "    }\n",
       "</style>\n",
       "<table border=\"1\" class=\"dataframe\">\n",
       "  <thead>\n",
       "    <tr style=\"text-align: right;\">\n",
       "      <th></th>\n",
       "      <th>user_id</th>\n",
       "      <th>problem_id</th>\n",
       "      <th>attempts_range</th>\n",
       "    </tr>\n",
       "  </thead>\n",
       "  <tbody>\n",
       "    <tr>\n",
       "      <th>0</th>\n",
       "      <td>user_232</td>\n",
       "      <td>prob_6507</td>\n",
       "      <td>1</td>\n",
       "    </tr>\n",
       "    <tr>\n",
       "      <th>1</th>\n",
       "      <td>user_3568</td>\n",
       "      <td>prob_2994</td>\n",
       "      <td>3</td>\n",
       "    </tr>\n",
       "    <tr>\n",
       "      <th>2</th>\n",
       "      <td>user_1600</td>\n",
       "      <td>prob_5071</td>\n",
       "      <td>1</td>\n",
       "    </tr>\n",
       "    <tr>\n",
       "      <th>3</th>\n",
       "      <td>user_2256</td>\n",
       "      <td>prob_703</td>\n",
       "      <td>1</td>\n",
       "    </tr>\n",
       "    <tr>\n",
       "      <th>4</th>\n",
       "      <td>user_2321</td>\n",
       "      <td>prob_356</td>\n",
       "      <td>1</td>\n",
       "    </tr>\n",
       "  </tbody>\n",
       "</table>\n",
       "</div>"
      ],
      "text/plain": [
       "     user_id problem_id  attempts_range\n",
       "0   user_232  prob_6507               1\n",
       "1  user_3568  prob_2994               3\n",
       "2  user_1600  prob_5071               1\n",
       "3  user_2256   prob_703               1\n",
       "4  user_2321   prob_356               1"
      ]
     },
     "execution_count": 16,
     "metadata": {},
     "output_type": "execute_result"
    }
   ],
   "source": [
    "train.head()"
   ]
  },
  {
   "cell_type": "code",
   "execution_count": 17,
   "id": "1c217365",
   "metadata": {},
   "outputs": [
    {
     "name": "stdout",
     "output_type": "stream",
     "text": [
      "user shape is (3571, 11)\n",
      "problem shape is (6544, 4)\n",
      "train shape is (155295, 3)\n"
     ]
    }
   ],
   "source": [
    "#We need to merge different files so first  kets us check their shape\n",
    "print(\"user shape is\",user.shape)\n",
    "print(\"problem shape is\",prblm.shape)\n",
    "print(\"train shape is\",train.shape)"
   ]
  },
  {
   "cell_type": "code",
   "execution_count": 18,
   "id": "d8ff9ac0",
   "metadata": {},
   "outputs": [],
   "source": [
    "#Merging user and train dataset using common key user_id\n",
    "fnl1=pd.merge(user,train,how='inner',on=\"user_id\")"
   ]
  },
  {
   "cell_type": "code",
   "execution_count": 19,
   "id": "2948fe43",
   "metadata": {},
   "outputs": [
    {
     "data": {
      "text/plain": [
       "(155295, 13)"
      ]
     },
     "execution_count": 19,
     "metadata": {},
     "output_type": "execute_result"
    }
   ],
   "source": [
    "fnl1.shape"
   ]
  },
  {
   "cell_type": "code",
   "execution_count": 20,
   "id": "f79404c9",
   "metadata": {},
   "outputs": [
    {
     "data": {
      "text/html": [
       "<div>\n",
       "<style scoped>\n",
       "    .dataframe tbody tr th:only-of-type {\n",
       "        vertical-align: middle;\n",
       "    }\n",
       "\n",
       "    .dataframe tbody tr th {\n",
       "        vertical-align: top;\n",
       "    }\n",
       "\n",
       "    .dataframe thead th {\n",
       "        text-align: right;\n",
       "    }\n",
       "</style>\n",
       "<table border=\"1\" class=\"dataframe\">\n",
       "  <thead>\n",
       "    <tr style=\"text-align: right;\">\n",
       "      <th></th>\n",
       "      <th>user_id</th>\n",
       "      <th>submission_count</th>\n",
       "      <th>problem_solved</th>\n",
       "      <th>contribution</th>\n",
       "      <th>country</th>\n",
       "      <th>follower_count</th>\n",
       "      <th>last_online_time_seconds</th>\n",
       "      <th>max_rating</th>\n",
       "      <th>rating</th>\n",
       "      <th>rank</th>\n",
       "      <th>registration_time_seconds</th>\n",
       "      <th>problem_id</th>\n",
       "      <th>attempts_range</th>\n",
       "    </tr>\n",
       "  </thead>\n",
       "  <tbody>\n",
       "    <tr>\n",
       "      <th>0</th>\n",
       "      <td>user_3311</td>\n",
       "      <td>47</td>\n",
       "      <td>40</td>\n",
       "      <td>0</td>\n",
       "      <td>NaN</td>\n",
       "      <td>4</td>\n",
       "      <td>1504111645</td>\n",
       "      <td>348.337</td>\n",
       "      <td>330.849</td>\n",
       "      <td>intermediate</td>\n",
       "      <td>1466686436</td>\n",
       "      <td>prob_75</td>\n",
       "      <td>1</td>\n",
       "    </tr>\n",
       "    <tr>\n",
       "      <th>1</th>\n",
       "      <td>user_3311</td>\n",
       "      <td>47</td>\n",
       "      <td>40</td>\n",
       "      <td>0</td>\n",
       "      <td>NaN</td>\n",
       "      <td>4</td>\n",
       "      <td>1504111645</td>\n",
       "      <td>348.337</td>\n",
       "      <td>330.849</td>\n",
       "      <td>intermediate</td>\n",
       "      <td>1466686436</td>\n",
       "      <td>prob_1481</td>\n",
       "      <td>1</td>\n",
       "    </tr>\n",
       "    <tr>\n",
       "      <th>2</th>\n",
       "      <td>user_3311</td>\n",
       "      <td>47</td>\n",
       "      <td>40</td>\n",
       "      <td>0</td>\n",
       "      <td>NaN</td>\n",
       "      <td>4</td>\n",
       "      <td>1504111645</td>\n",
       "      <td>348.337</td>\n",
       "      <td>330.849</td>\n",
       "      <td>intermediate</td>\n",
       "      <td>1466686436</td>\n",
       "      <td>prob_3474</td>\n",
       "      <td>1</td>\n",
       "    </tr>\n",
       "    <tr>\n",
       "      <th>3</th>\n",
       "      <td>user_3311</td>\n",
       "      <td>47</td>\n",
       "      <td>40</td>\n",
       "      <td>0</td>\n",
       "      <td>NaN</td>\n",
       "      <td>4</td>\n",
       "      <td>1504111645</td>\n",
       "      <td>348.337</td>\n",
       "      <td>330.849</td>\n",
       "      <td>intermediate</td>\n",
       "      <td>1466686436</td>\n",
       "      <td>prob_334</td>\n",
       "      <td>1</td>\n",
       "    </tr>\n",
       "    <tr>\n",
       "      <th>4</th>\n",
       "      <td>user_3311</td>\n",
       "      <td>47</td>\n",
       "      <td>40</td>\n",
       "      <td>0</td>\n",
       "      <td>NaN</td>\n",
       "      <td>4</td>\n",
       "      <td>1504111645</td>\n",
       "      <td>348.337</td>\n",
       "      <td>330.849</td>\n",
       "      <td>intermediate</td>\n",
       "      <td>1466686436</td>\n",
       "      <td>prob_3508</td>\n",
       "      <td>1</td>\n",
       "    </tr>\n",
       "  </tbody>\n",
       "</table>\n",
       "</div>"
      ],
      "text/plain": [
       "     user_id  submission_count  problem_solved  contribution country  \\\n",
       "0  user_3311                47              40             0     NaN   \n",
       "1  user_3311                47              40             0     NaN   \n",
       "2  user_3311                47              40             0     NaN   \n",
       "3  user_3311                47              40             0     NaN   \n",
       "4  user_3311                47              40             0     NaN   \n",
       "\n",
       "   follower_count  last_online_time_seconds  max_rating   rating  \\\n",
       "0               4                1504111645     348.337  330.849   \n",
       "1               4                1504111645     348.337  330.849   \n",
       "2               4                1504111645     348.337  330.849   \n",
       "3               4                1504111645     348.337  330.849   \n",
       "4               4                1504111645     348.337  330.849   \n",
       "\n",
       "           rank  registration_time_seconds problem_id  attempts_range  \n",
       "0  intermediate                 1466686436    prob_75               1  \n",
       "1  intermediate                 1466686436  prob_1481               1  \n",
       "2  intermediate                 1466686436  prob_3474               1  \n",
       "3  intermediate                 1466686436   prob_334               1  \n",
       "4  intermediate                 1466686436  prob_3508               1  "
      ]
     },
     "execution_count": 20,
     "metadata": {},
     "output_type": "execute_result"
    }
   ],
   "source": [
    "fnl1.head()"
   ]
  },
  {
   "cell_type": "code",
   "execution_count": 21,
   "id": "4ad5050c",
   "metadata": {},
   "outputs": [],
   "source": [
    "#Creating final data frame by merging problem dataset using problem_id as a key\n",
    "fnl=pd.merge(fnl1,prblm,on='problem_id',how='inner')"
   ]
  },
  {
   "cell_type": "code",
   "execution_count": 22,
   "id": "e1a85ed8",
   "metadata": {},
   "outputs": [
    {
     "data": {
      "text/plain": [
       "(155295, 16)"
      ]
     },
     "execution_count": 22,
     "metadata": {},
     "output_type": "execute_result"
    }
   ],
   "source": [
    "fnl.shape"
   ]
  },
  {
   "cell_type": "code",
   "execution_count": 23,
   "id": "9135b1b2",
   "metadata": {},
   "outputs": [
    {
     "data": {
      "text/html": [
       "<div>\n",
       "<style scoped>\n",
       "    .dataframe tbody tr th:only-of-type {\n",
       "        vertical-align: middle;\n",
       "    }\n",
       "\n",
       "    .dataframe tbody tr th {\n",
       "        vertical-align: top;\n",
       "    }\n",
       "\n",
       "    .dataframe thead th {\n",
       "        text-align: right;\n",
       "    }\n",
       "</style>\n",
       "<table border=\"1\" class=\"dataframe\">\n",
       "  <thead>\n",
       "    <tr style=\"text-align: right;\">\n",
       "      <th></th>\n",
       "      <th>user_id</th>\n",
       "      <th>submission_count</th>\n",
       "      <th>problem_solved</th>\n",
       "      <th>contribution</th>\n",
       "      <th>country</th>\n",
       "      <th>follower_count</th>\n",
       "      <th>last_online_time_seconds</th>\n",
       "      <th>max_rating</th>\n",
       "      <th>rating</th>\n",
       "      <th>rank</th>\n",
       "      <th>registration_time_seconds</th>\n",
       "      <th>problem_id</th>\n",
       "      <th>attempts_range</th>\n",
       "      <th>level_type</th>\n",
       "      <th>points</th>\n",
       "      <th>tags</th>\n",
       "    </tr>\n",
       "  </thead>\n",
       "  <tbody>\n",
       "    <tr>\n",
       "      <th>0</th>\n",
       "      <td>user_3311</td>\n",
       "      <td>47</td>\n",
       "      <td>40</td>\n",
       "      <td>0</td>\n",
       "      <td>NaN</td>\n",
       "      <td>4</td>\n",
       "      <td>1504111645</td>\n",
       "      <td>348.337</td>\n",
       "      <td>330.849</td>\n",
       "      <td>intermediate</td>\n",
       "      <td>1466686436</td>\n",
       "      <td>prob_75</td>\n",
       "      <td>1</td>\n",
       "      <td>A</td>\n",
       "      <td>500.0</td>\n",
       "      <td>implementation</td>\n",
       "    </tr>\n",
       "    <tr>\n",
       "      <th>1</th>\n",
       "      <td>user_1972</td>\n",
       "      <td>107</td>\n",
       "      <td>99</td>\n",
       "      <td>0</td>\n",
       "      <td>India</td>\n",
       "      <td>11</td>\n",
       "      <td>1504291325</td>\n",
       "      <td>304.186</td>\n",
       "      <td>203.842</td>\n",
       "      <td>beginner</td>\n",
       "      <td>1439050893</td>\n",
       "      <td>prob_75</td>\n",
       "      <td>2</td>\n",
       "      <td>A</td>\n",
       "      <td>500.0</td>\n",
       "      <td>implementation</td>\n",
       "    </tr>\n",
       "    <tr>\n",
       "      <th>2</th>\n",
       "      <td>user_3317</td>\n",
       "      <td>735</td>\n",
       "      <td>715</td>\n",
       "      <td>0</td>\n",
       "      <td>Vietnam</td>\n",
       "      <td>9</td>\n",
       "      <td>1484278246</td>\n",
       "      <td>419.438</td>\n",
       "      <td>353.211</td>\n",
       "      <td>intermediate</td>\n",
       "      <td>1421847147</td>\n",
       "      <td>prob_75</td>\n",
       "      <td>2</td>\n",
       "      <td>A</td>\n",
       "      <td>500.0</td>\n",
       "      <td>implementation</td>\n",
       "    </tr>\n",
       "    <tr>\n",
       "      <th>3</th>\n",
       "      <td>user_2412</td>\n",
       "      <td>169</td>\n",
       "      <td>159</td>\n",
       "      <td>0</td>\n",
       "      <td>NaN</td>\n",
       "      <td>2</td>\n",
       "      <td>1505569083</td>\n",
       "      <td>345.757</td>\n",
       "      <td>345.757</td>\n",
       "      <td>intermediate</td>\n",
       "      <td>1429008478</td>\n",
       "      <td>prob_75</td>\n",
       "      <td>1</td>\n",
       "      <td>A</td>\n",
       "      <td>500.0</td>\n",
       "      <td>implementation</td>\n",
       "    </tr>\n",
       "    <tr>\n",
       "      <th>4</th>\n",
       "      <td>user_872</td>\n",
       "      <td>113</td>\n",
       "      <td>95</td>\n",
       "      <td>0</td>\n",
       "      <td>Bangladesh</td>\n",
       "      <td>7</td>\n",
       "      <td>1504977695</td>\n",
       "      <td>314.220</td>\n",
       "      <td>89.163</td>\n",
       "      <td>beginner</td>\n",
       "      <td>1480081730</td>\n",
       "      <td>prob_75</td>\n",
       "      <td>1</td>\n",
       "      <td>A</td>\n",
       "      <td>500.0</td>\n",
       "      <td>implementation</td>\n",
       "    </tr>\n",
       "  </tbody>\n",
       "</table>\n",
       "</div>"
      ],
      "text/plain": [
       "     user_id  submission_count  problem_solved  contribution     country  \\\n",
       "0  user_3311                47              40             0         NaN   \n",
       "1  user_1972               107              99             0       India   \n",
       "2  user_3317               735             715             0     Vietnam   \n",
       "3  user_2412               169             159             0         NaN   \n",
       "4   user_872               113              95             0  Bangladesh   \n",
       "\n",
       "   follower_count  last_online_time_seconds  max_rating   rating  \\\n",
       "0               4                1504111645     348.337  330.849   \n",
       "1              11                1504291325     304.186  203.842   \n",
       "2               9                1484278246     419.438  353.211   \n",
       "3               2                1505569083     345.757  345.757   \n",
       "4               7                1504977695     314.220   89.163   \n",
       "\n",
       "           rank  registration_time_seconds problem_id  attempts_range  \\\n",
       "0  intermediate                 1466686436    prob_75               1   \n",
       "1      beginner                 1439050893    prob_75               2   \n",
       "2  intermediate                 1421847147    prob_75               2   \n",
       "3  intermediate                 1429008478    prob_75               1   \n",
       "4      beginner                 1480081730    prob_75               1   \n",
       "\n",
       "  level_type  points            tags  \n",
       "0          A   500.0  implementation  \n",
       "1          A   500.0  implementation  \n",
       "2          A   500.0  implementation  \n",
       "3          A   500.0  implementation  \n",
       "4          A   500.0  implementation  "
      ]
     },
     "execution_count": 23,
     "metadata": {},
     "output_type": "execute_result"
    }
   ],
   "source": [
    "fnl.head()"
   ]
  },
  {
   "cell_type": "code",
   "execution_count": 24,
   "id": "a6cbea74",
   "metadata": {},
   "outputs": [
    {
     "data": {
      "text/plain": [
       "(155295, 16)"
      ]
     },
     "execution_count": 24,
     "metadata": {},
     "output_type": "execute_result"
    }
   ],
   "source": [
    "fnl.shape"
   ]
  },
  {
   "cell_type": "code",
   "execution_count": 25,
   "id": "ad2e619f",
   "metadata": {},
   "outputs": [],
   "source": [
    "fnl['timespent']=pd.to_timedelta((fnl.last_online_time_seconds)-(fnl.registration_time_seconds),unit='s')\n"
   ]
  },
  {
   "cell_type": "code",
   "execution_count": 26,
   "id": "eff03fda",
   "metadata": {},
   "outputs": [
    {
     "data": {
      "text/plain": [
       "(155295, 17)"
      ]
     },
     "execution_count": 26,
     "metadata": {},
     "output_type": "execute_result"
    }
   ],
   "source": [
    "fnl.shape"
   ]
  },
  {
   "cell_type": "code",
   "execution_count": 27,
   "id": "f24528bb",
   "metadata": {},
   "outputs": [
    {
     "data": {
      "text/plain": [
       "user_id                          0\n",
       "submission_count                 0\n",
       "problem_solved                   0\n",
       "contribution                     0\n",
       "country                      37853\n",
       "follower_count                   0\n",
       "last_online_time_seconds         0\n",
       "max_rating                       0\n",
       "rating                           0\n",
       "rank                             0\n",
       "registration_time_seconds        0\n",
       "problem_id                       0\n",
       "attempts_range                   0\n",
       "level_type                     620\n",
       "points                       29075\n",
       "tags                         15427\n",
       "timespent                        0\n",
       "dtype: int64"
      ]
     },
     "execution_count": 27,
     "metadata": {},
     "output_type": "execute_result"
    }
   ],
   "source": [
    "fnl.isnull().sum()"
   ]
  },
  {
   "cell_type": "code",
   "execution_count": 28,
   "id": "cc9697d8",
   "metadata": {},
   "outputs": [],
   "source": [
    "# Country columns has some missing data"
   ]
  },
  {
   "cell_type": "code",
   "execution_count": 29,
   "id": "d9ea1b72",
   "metadata": {},
   "outputs": [
    {
     "data": {
      "text/plain": [
       "user_id                          0\n",
       "submission_count                 0\n",
       "problem_solved                   0\n",
       "contribution                     0\n",
       "country                      37853\n",
       "follower_count                   0\n",
       "last_online_time_seconds         0\n",
       "max_rating                       0\n",
       "rating                           0\n",
       "rank                             0\n",
       "registration_time_seconds        0\n",
       "problem_id                       0\n",
       "attempts_range                   0\n",
       "level_type                     620\n",
       "points                       29075\n",
       "tags                         15427\n",
       "timespent                        0\n",
       "dtype: int64"
      ]
     },
     "execution_count": 29,
     "metadata": {},
     "output_type": "execute_result"
    }
   ],
   "source": [
    "fnl.isnull().sum()"
   ]
  },
  {
   "cell_type": "code",
   "execution_count": 30,
   "id": "c778f617",
   "metadata": {},
   "outputs": [
    {
     "data": {
      "text/html": [
       "<div>\n",
       "<style scoped>\n",
       "    .dataframe tbody tr th:only-of-type {\n",
       "        vertical-align: middle;\n",
       "    }\n",
       "\n",
       "    .dataframe tbody tr th {\n",
       "        vertical-align: top;\n",
       "    }\n",
       "\n",
       "    .dataframe thead th {\n",
       "        text-align: right;\n",
       "    }\n",
       "</style>\n",
       "<table border=\"1\" class=\"dataframe\">\n",
       "  <thead>\n",
       "    <tr style=\"text-align: right;\">\n",
       "      <th></th>\n",
       "      <th>problem_id</th>\n",
       "      <th>level_type</th>\n",
       "      <th>points</th>\n",
       "      <th>tags</th>\n",
       "    </tr>\n",
       "  </thead>\n",
       "  <tbody>\n",
       "    <tr>\n",
       "      <th>0</th>\n",
       "      <td>prob_3649</td>\n",
       "      <td>H</td>\n",
       "      <td>NaN</td>\n",
       "      <td>NaN</td>\n",
       "    </tr>\n",
       "    <tr>\n",
       "      <th>1</th>\n",
       "      <td>prob_6191</td>\n",
       "      <td>A</td>\n",
       "      <td>NaN</td>\n",
       "      <td>NaN</td>\n",
       "    </tr>\n",
       "    <tr>\n",
       "      <th>2</th>\n",
       "      <td>prob_2020</td>\n",
       "      <td>F</td>\n",
       "      <td>NaN</td>\n",
       "      <td>NaN</td>\n",
       "    </tr>\n",
       "    <tr>\n",
       "      <th>3</th>\n",
       "      <td>prob_313</td>\n",
       "      <td>A</td>\n",
       "      <td>500.0</td>\n",
       "      <td>greedy,implementation</td>\n",
       "    </tr>\n",
       "    <tr>\n",
       "      <th>4</th>\n",
       "      <td>prob_101</td>\n",
       "      <td>A</td>\n",
       "      <td>500.0</td>\n",
       "      <td>constructive algorithms,greedy,math</td>\n",
       "    </tr>\n",
       "  </tbody>\n",
       "</table>\n",
       "</div>"
      ],
      "text/plain": [
       "  problem_id level_type  points                                 tags\n",
       "0  prob_3649          H     NaN                                  NaN\n",
       "1  prob_6191          A     NaN                                  NaN\n",
       "2  prob_2020          F     NaN                                  NaN\n",
       "3   prob_313          A   500.0                greedy,implementation\n",
       "4   prob_101          A   500.0  constructive algorithms,greedy,math"
      ]
     },
     "execution_count": 30,
     "metadata": {},
     "output_type": "execute_result"
    }
   ],
   "source": [
    "prblm.head()"
   ]
  },
  {
   "cell_type": "code",
   "execution_count": 31,
   "id": "fb294cda",
   "metadata": {},
   "outputs": [
    {
     "data": {
      "text/plain": [
       "(6544, 4)"
      ]
     },
     "execution_count": 31,
     "metadata": {},
     "output_type": "execute_result"
    }
   ],
   "source": [
    "prblm.shape"
   ]
  },
  {
   "cell_type": "code",
   "execution_count": 32,
   "id": "94d60099",
   "metadata": {},
   "outputs": [
    {
     "data": {
      "text/plain": [
       "6544"
      ]
     },
     "execution_count": 32,
     "metadata": {},
     "output_type": "execute_result"
    }
   ],
   "source": [
    "prblm['problem_id'].nunique()"
   ]
  },
  {
   "cell_type": "code",
   "execution_count": 33,
   "id": "297e6898",
   "metadata": {},
   "outputs": [
    {
     "data": {
      "text/html": [
       "<div>\n",
       "<style scoped>\n",
       "    .dataframe tbody tr th:only-of-type {\n",
       "        vertical-align: middle;\n",
       "    }\n",
       "\n",
       "    .dataframe tbody tr th {\n",
       "        vertical-align: top;\n",
       "    }\n",
       "\n",
       "    .dataframe thead th {\n",
       "        text-align: right;\n",
       "    }\n",
       "</style>\n",
       "<table border=\"1\" class=\"dataframe\">\n",
       "  <thead>\n",
       "    <tr style=\"text-align: right;\">\n",
       "      <th></th>\n",
       "      <th>user_id</th>\n",
       "      <th>submission_count</th>\n",
       "      <th>problem_solved</th>\n",
       "      <th>contribution</th>\n",
       "      <th>country</th>\n",
       "      <th>follower_count</th>\n",
       "      <th>last_online_time_seconds</th>\n",
       "      <th>max_rating</th>\n",
       "      <th>rating</th>\n",
       "      <th>rank</th>\n",
       "      <th>registration_time_seconds</th>\n",
       "      <th>problem_id</th>\n",
       "      <th>attempts_range</th>\n",
       "      <th>level_type</th>\n",
       "      <th>points</th>\n",
       "      <th>tags</th>\n",
       "      <th>timespent</th>\n",
       "    </tr>\n",
       "  </thead>\n",
       "  <tbody>\n",
       "    <tr>\n",
       "      <th>69009</th>\n",
       "      <td>user_2412</td>\n",
       "      <td>169</td>\n",
       "      <td>159</td>\n",
       "      <td>0</td>\n",
       "      <td>NaN</td>\n",
       "      <td>2</td>\n",
       "      <td>1505569083</td>\n",
       "      <td>345.757</td>\n",
       "      <td>345.757</td>\n",
       "      <td>intermediate</td>\n",
       "      <td>1429008478</td>\n",
       "      <td>prob_5518</td>\n",
       "      <td>4</td>\n",
       "      <td>C</td>\n",
       "      <td>1500.0</td>\n",
       "      <td>dfs and similar,math,trees</td>\n",
       "      <td>886 days 02:50:05</td>\n",
       "    </tr>\n",
       "    <tr>\n",
       "      <th>79624</th>\n",
       "      <td>user_2412</td>\n",
       "      <td>169</td>\n",
       "      <td>159</td>\n",
       "      <td>0</td>\n",
       "      <td>NaN</td>\n",
       "      <td>2</td>\n",
       "      <td>1505569083</td>\n",
       "      <td>345.757</td>\n",
       "      <td>345.757</td>\n",
       "      <td>intermediate</td>\n",
       "      <td>1429008478</td>\n",
       "      <td>prob_196</td>\n",
       "      <td>3</td>\n",
       "      <td>B</td>\n",
       "      <td>1000.0</td>\n",
       "      <td>games</td>\n",
       "      <td>886 days 02:50:05</td>\n",
       "    </tr>\n",
       "    <tr>\n",
       "      <th>103752</th>\n",
       "      <td>user_2412</td>\n",
       "      <td>169</td>\n",
       "      <td>159</td>\n",
       "      <td>0</td>\n",
       "      <td>NaN</td>\n",
       "      <td>2</td>\n",
       "      <td>1505569083</td>\n",
       "      <td>345.757</td>\n",
       "      <td>345.757</td>\n",
       "      <td>intermediate</td>\n",
       "      <td>1429008478</td>\n",
       "      <td>prob_5091</td>\n",
       "      <td>3</td>\n",
       "      <td>B</td>\n",
       "      <td>1000.0</td>\n",
       "      <td>bitmasks,brute force,dp</td>\n",
       "      <td>886 days 02:50:05</td>\n",
       "    </tr>\n",
       "    <tr>\n",
       "      <th>105575</th>\n",
       "      <td>user_2412</td>\n",
       "      <td>169</td>\n",
       "      <td>159</td>\n",
       "      <td>0</td>\n",
       "      <td>NaN</td>\n",
       "      <td>2</td>\n",
       "      <td>1505569083</td>\n",
       "      <td>345.757</td>\n",
       "      <td>345.757</td>\n",
       "      <td>intermediate</td>\n",
       "      <td>1429008478</td>\n",
       "      <td>prob_3480</td>\n",
       "      <td>4</td>\n",
       "      <td>D</td>\n",
       "      <td>1750.0</td>\n",
       "      <td>greedy,implementation,sortings</td>\n",
       "      <td>886 days 02:50:05</td>\n",
       "    </tr>\n",
       "    <tr>\n",
       "      <th>106745</th>\n",
       "      <td>user_2412</td>\n",
       "      <td>169</td>\n",
       "      <td>159</td>\n",
       "      <td>0</td>\n",
       "      <td>NaN</td>\n",
       "      <td>2</td>\n",
       "      <td>1505569083</td>\n",
       "      <td>345.757</td>\n",
       "      <td>345.757</td>\n",
       "      <td>intermediate</td>\n",
       "      <td>1429008478</td>\n",
       "      <td>prob_5923</td>\n",
       "      <td>4</td>\n",
       "      <td>A</td>\n",
       "      <td>500.0</td>\n",
       "      <td>brute force,math</td>\n",
       "      <td>886 days 02:50:05</td>\n",
       "    </tr>\n",
       "    <tr>\n",
       "      <th>106802</th>\n",
       "      <td>user_2412</td>\n",
       "      <td>169</td>\n",
       "      <td>159</td>\n",
       "      <td>0</td>\n",
       "      <td>NaN</td>\n",
       "      <td>2</td>\n",
       "      <td>1505569083</td>\n",
       "      <td>345.757</td>\n",
       "      <td>345.757</td>\n",
       "      <td>intermediate</td>\n",
       "      <td>1429008478</td>\n",
       "      <td>prob_786</td>\n",
       "      <td>4</td>\n",
       "      <td>C</td>\n",
       "      <td>1500.0</td>\n",
       "      <td>brute force,dp,strings</td>\n",
       "      <td>886 days 02:50:05</td>\n",
       "    </tr>\n",
       "    <tr>\n",
       "      <th>106901</th>\n",
       "      <td>user_2412</td>\n",
       "      <td>169</td>\n",
       "      <td>159</td>\n",
       "      <td>0</td>\n",
       "      <td>NaN</td>\n",
       "      <td>2</td>\n",
       "      <td>1505569083</td>\n",
       "      <td>345.757</td>\n",
       "      <td>345.757</td>\n",
       "      <td>intermediate</td>\n",
       "      <td>1429008478</td>\n",
       "      <td>prob_1129</td>\n",
       "      <td>4</td>\n",
       "      <td>C</td>\n",
       "      <td>1500.0</td>\n",
       "      <td>implementation,math,sortings</td>\n",
       "      <td>886 days 02:50:05</td>\n",
       "    </tr>\n",
       "    <tr>\n",
       "      <th>107003</th>\n",
       "      <td>user_2412</td>\n",
       "      <td>169</td>\n",
       "      <td>159</td>\n",
       "      <td>0</td>\n",
       "      <td>NaN</td>\n",
       "      <td>2</td>\n",
       "      <td>1505569083</td>\n",
       "      <td>345.757</td>\n",
       "      <td>345.757</td>\n",
       "      <td>intermediate</td>\n",
       "      <td>1429008478</td>\n",
       "      <td>prob_5972</td>\n",
       "      <td>4</td>\n",
       "      <td>J</td>\n",
       "      <td>NaN</td>\n",
       "      <td>NaN</td>\n",
       "      <td>886 days 02:50:05</td>\n",
       "    </tr>\n",
       "  </tbody>\n",
       "</table>\n",
       "</div>"
      ],
      "text/plain": [
       "          user_id  submission_count  problem_solved  contribution country  \\\n",
       "69009   user_2412               169             159             0     NaN   \n",
       "79624   user_2412               169             159             0     NaN   \n",
       "103752  user_2412               169             159             0     NaN   \n",
       "105575  user_2412               169             159             0     NaN   \n",
       "106745  user_2412               169             159             0     NaN   \n",
       "106802  user_2412               169             159             0     NaN   \n",
       "106901  user_2412               169             159             0     NaN   \n",
       "107003  user_2412               169             159             0     NaN   \n",
       "\n",
       "        follower_count  last_online_time_seconds  max_rating   rating  \\\n",
       "69009                2                1505569083     345.757  345.757   \n",
       "79624                2                1505569083     345.757  345.757   \n",
       "103752               2                1505569083     345.757  345.757   \n",
       "105575               2                1505569083     345.757  345.757   \n",
       "106745               2                1505569083     345.757  345.757   \n",
       "106802               2                1505569083     345.757  345.757   \n",
       "106901               2                1505569083     345.757  345.757   \n",
       "107003               2                1505569083     345.757  345.757   \n",
       "\n",
       "                rank  registration_time_seconds problem_id  attempts_range  \\\n",
       "69009   intermediate                 1429008478  prob_5518               4   \n",
       "79624   intermediate                 1429008478   prob_196               3   \n",
       "103752  intermediate                 1429008478  prob_5091               3   \n",
       "105575  intermediate                 1429008478  prob_3480               4   \n",
       "106745  intermediate                 1429008478  prob_5923               4   \n",
       "106802  intermediate                 1429008478   prob_786               4   \n",
       "106901  intermediate                 1429008478  prob_1129               4   \n",
       "107003  intermediate                 1429008478  prob_5972               4   \n",
       "\n",
       "       level_type  points                            tags         timespent  \n",
       "69009           C  1500.0      dfs and similar,math,trees 886 days 02:50:05  \n",
       "79624           B  1000.0                           games 886 days 02:50:05  \n",
       "103752          B  1000.0         bitmasks,brute force,dp 886 days 02:50:05  \n",
       "105575          D  1750.0  greedy,implementation,sortings 886 days 02:50:05  \n",
       "106745          A   500.0                brute force,math 886 days 02:50:05  \n",
       "106802          C  1500.0          brute force,dp,strings 886 days 02:50:05  \n",
       "106901          C  1500.0    implementation,math,sortings 886 days 02:50:05  \n",
       "107003          J     NaN                             NaN 886 days 02:50:05  "
      ]
     },
     "execution_count": 33,
     "metadata": {},
     "output_type": "execute_result"
    }
   ],
   "source": [
    "fnl.query(\"user_id=='user_2412' & attempts_range >= 3\")"
   ]
  },
  {
   "cell_type": "code",
   "execution_count": 38,
   "id": "b08c78a7",
   "metadata": {},
   "outputs": [
    {
     "data": {
      "text/plain": [
       "<Figure size 2880x1008 with 0 Axes>"
      ]
     },
     "metadata": {},
     "output_type": "display_data"
    },
    {
     "data": {
      "image/png": "[encoded data removed]",
      "text/plain": [
       "<Figure size 432x288 with 6 Axes>"
      ]
     },
     "metadata": {
      "needs_background": "light"
     },
     "output_type": "display_data"
    }
   ],
   "source": [
    "fig=plt.figure(figsize=(40,14))\n",
    "fnl['points'].hist(by=fnl['attempts_range'])\n",
    "plt.show()"
   ]
  },
  {
   "cell_type": "code",
   "execution_count": 103,
   "id": "1478a7cc",
   "metadata": {},
   "outputs": [
    {
     "data": {
      "text/plain": [
       "<AxesSubplot:xlabel='attempts_range', ylabel='points'>"
      ]
     },
     "execution_count": 103,
     "metadata": {},
     "output_type": "execute_result"
    },
    {
     "data": {
      "image/png": "[encoded data removed]",
      "text/plain": [
       "<Figure size 432x288 with 1 Axes>"
      ]
     },
     "metadata": {},
     "output_type": "display_data"
    }
   ],
   "source": [
    "sns.boxplot(x='attempts_range',y='points',data=fnl)"
   ]
  },
  {
   "cell_type": "code",
   "execution_count": 104,
   "id": "aeb37cc5",
   "metadata": {},
   "outputs": [
    {
     "data": {
      "text/plain": [
       "user_id                          0\n",
       "submission_count                 0\n",
       "problem_solved                   0\n",
       "contribution                     0\n",
       "country                      37853\n",
       "follower_count                   0\n",
       "last_online_time_seconds         0\n",
       "max_rating                       0\n",
       "rating                           0\n",
       "rank                             0\n",
       "registration_time_seconds        0\n",
       "problem_id                       0\n",
       "attempts_range                   0\n",
       "level_type                     620\n",
       "points                           0\n",
       "tags                         15427\n",
       "timespent                        0\n",
       "dtype: int64"
      ]
     },
     "execution_count": 104,
     "metadata": {},
     "output_type": "execute_result"
    }
   ],
   "source": [
    "fnl['points']=fnl.groupby('attempts_range')['points'].transform(lambda x:x.fillna(x.mean()))\n",
    "fnl.isnull().sum()"
   ]
  },
  {
   "cell_type": "code",
   "execution_count": 105,
   "id": "c6fd9122",
   "metadata": {},
   "outputs": [
    {
     "data": {
      "text/html": [
       "<div>\n",
       "<style scoped>\n",
       "    .dataframe tbody tr th:only-of-type {\n",
       "        vertical-align: middle;\n",
       "    }\n",
       "\n",
       "    .dataframe tbody tr th {\n",
       "        vertical-align: top;\n",
       "    }\n",
       "\n",
       "    .dataframe thead th {\n",
       "        text-align: right;\n",
       "    }\n",
       "</style>\n",
       "<table border=\"1\" class=\"dataframe\">\n",
       "  <thead>\n",
       "    <tr style=\"text-align: right;\">\n",
       "      <th></th>\n",
       "      <th>problem_id</th>\n",
       "      <th>level_type</th>\n",
       "      <th>points</th>\n",
       "      <th>tags</th>\n",
       "    </tr>\n",
       "  </thead>\n",
       "  <tbody>\n",
       "    <tr>\n",
       "      <th>0</th>\n",
       "      <td>prob_3649</td>\n",
       "      <td>H</td>\n",
       "      <td>NaN</td>\n",
       "      <td>NaN</td>\n",
       "    </tr>\n",
       "    <tr>\n",
       "      <th>1</th>\n",
       "      <td>prob_6191</td>\n",
       "      <td>A</td>\n",
       "      <td>NaN</td>\n",
       "      <td>NaN</td>\n",
       "    </tr>\n",
       "    <tr>\n",
       "      <th>2</th>\n",
       "      <td>prob_2020</td>\n",
       "      <td>F</td>\n",
       "      <td>NaN</td>\n",
       "      <td>NaN</td>\n",
       "    </tr>\n",
       "    <tr>\n",
       "      <th>3</th>\n",
       "      <td>prob_313</td>\n",
       "      <td>A</td>\n",
       "      <td>500.0</td>\n",
       "      <td>greedy,implementation</td>\n",
       "    </tr>\n",
       "    <tr>\n",
       "      <th>4</th>\n",
       "      <td>prob_101</td>\n",
       "      <td>A</td>\n",
       "      <td>500.0</td>\n",
       "      <td>constructive algorithms,greedy,math</td>\n",
       "    </tr>\n",
       "  </tbody>\n",
       "</table>\n",
       "</div>"
      ],
      "text/plain": [
       "  problem_id level_type  points                                 tags\n",
       "0  prob_3649          H     NaN                                  NaN\n",
       "1  prob_6191          A     NaN                                  NaN\n",
       "2  prob_2020          F     NaN                                  NaN\n",
       "3   prob_313          A   500.0                greedy,implementation\n",
       "4   prob_101          A   500.0  constructive algorithms,greedy,math"
      ]
     },
     "execution_count": 105,
     "metadata": {},
     "output_type": "execute_result"
    }
   ],
   "source": [
    "prblm.head(5)"
   ]
  },
  {
   "cell_type": "code",
   "execution_count": 106,
   "id": "90bd522e",
   "metadata": {},
   "outputs": [
    {
     "data": {
      "text/plain": [
       "133"
      ]
     },
     "execution_count": 106,
     "metadata": {},
     "output_type": "execute_result"
    }
   ],
   "source": [
    "prblm.level_type.isnull().sum()"
   ]
  },
  {
   "cell_type": "code",
   "execution_count": 107,
   "id": "a7f750d7",
   "metadata": {},
   "outputs": [
    {
     "data": {
      "text/html": [
       "<div>\n",
       "<style scoped>\n",
       "    .dataframe tbody tr th:only-of-type {\n",
       "        vertical-align: middle;\n",
       "    }\n",
       "\n",
       "    .dataframe tbody tr th {\n",
       "        vertical-align: top;\n",
       "    }\n",
       "\n",
       "    .dataframe thead th {\n",
       "        text-align: right;\n",
       "    }\n",
       "</style>\n",
       "<table border=\"1\" class=\"dataframe\">\n",
       "  <thead>\n",
       "    <tr style=\"text-align: right;\">\n",
       "      <th></th>\n",
       "      <th>points</th>\n",
       "    </tr>\n",
       "    <tr>\n",
       "      <th>level_type</th>\n",
       "      <th></th>\n",
       "    </tr>\n",
       "  </thead>\n",
       "  <tbody>\n",
       "    <tr>\n",
       "      <th>A</th>\n",
       "      <td>559.041685</td>\n",
       "    </tr>\n",
       "    <tr>\n",
       "      <th>B</th>\n",
       "      <td>966.266154</td>\n",
       "    </tr>\n",
       "    <tr>\n",
       "      <th>C</th>\n",
       "      <td>1380.994470</td>\n",
       "    </tr>\n",
       "    <tr>\n",
       "      <th>D</th>\n",
       "      <td>1740.681957</td>\n",
       "    </tr>\n",
       "    <tr>\n",
       "      <th>E</th>\n",
       "      <td>1915.737730</td>\n",
       "    </tr>\n",
       "    <tr>\n",
       "      <th>F</th>\n",
       "      <td>1490.903863</td>\n",
       "    </tr>\n",
       "    <tr>\n",
       "      <th>G</th>\n",
       "      <td>1157.854967</td>\n",
       "    </tr>\n",
       "    <tr>\n",
       "      <th>H</th>\n",
       "      <td>1010.089619</td>\n",
       "    </tr>\n",
       "    <tr>\n",
       "      <th>I</th>\n",
       "      <td>1005.405151</td>\n",
       "    </tr>\n",
       "    <tr>\n",
       "      <th>J</th>\n",
       "      <td>1000.573712</td>\n",
       "    </tr>\n",
       "    <tr>\n",
       "      <th>K</th>\n",
       "      <td>1000.337416</td>\n",
       "    </tr>\n",
       "    <tr>\n",
       "      <th>L</th>\n",
       "      <td>1001.701757</td>\n",
       "    </tr>\n",
       "    <tr>\n",
       "      <th>M</th>\n",
       "      <td>975.221001</td>\n",
       "    </tr>\n",
       "    <tr>\n",
       "      <th>N</th>\n",
       "      <td>980.455416</td>\n",
       "    </tr>\n",
       "  </tbody>\n",
       "</table>\n",
       "</div>"
      ],
      "text/plain": [
       "                 points\n",
       "level_type             \n",
       "A            559.041685\n",
       "B            966.266154\n",
       "C           1380.994470\n",
       "D           1740.681957\n",
       "E           1915.737730\n",
       "F           1490.903863\n",
       "G           1157.854967\n",
       "H           1010.089619\n",
       "I           1005.405151\n",
       "J           1000.573712\n",
       "K           1000.337416\n",
       "L           1001.701757\n",
       "M            975.221001\n",
       "N            980.455416"
      ]
     },
     "execution_count": 107,
     "metadata": {},
     "output_type": "execute_result"
    }
   ],
   "source": [
    "fnl.groupby('level_type')['points'].agg(pd.Series.mean).to_frame()"
   ]
  },
  {
   "cell_type": "code",
   "execution_count": 108,
   "id": "b8d81a35",
   "metadata": {},
   "outputs": [
    {
     "data": {
      "text/html": [
       "<div>\n",
       "<style scoped>\n",
       "    .dataframe tbody tr th:only-of-type {\n",
       "        vertical-align: middle;\n",
       "    }\n",
       "\n",
       "    .dataframe tbody tr th {\n",
       "        vertical-align: top;\n",
       "    }\n",
       "\n",
       "    .dataframe thead tr th {\n",
       "        text-align: left;\n",
       "    }\n",
       "\n",
       "    .dataframe thead tr:last-of-type th {\n",
       "        text-align: right;\n",
       "    }\n",
       "</style>\n",
       "<table border=\"1\" class=\"dataframe\">\n",
       "  <thead>\n",
       "    <tr>\n",
       "      <th></th>\n",
       "      <th colspan=\"4\" halign=\"left\">points</th>\n",
       "    </tr>\n",
       "    <tr>\n",
       "      <th></th>\n",
       "      <th>mean</th>\n",
       "      <th>median</th>\n",
       "      <th>min</th>\n",
       "      <th>max</th>\n",
       "    </tr>\n",
       "    <tr>\n",
       "      <th>level_type</th>\n",
       "      <th></th>\n",
       "      <th></th>\n",
       "      <th></th>\n",
       "      <th></th>\n",
       "    </tr>\n",
       "  </thead>\n",
       "  <tbody>\n",
       "    <tr>\n",
       "      <th>A</th>\n",
       "      <td>522.310160</td>\n",
       "      <td>500.0</td>\n",
       "      <td>3.0</td>\n",
       "      <td>3000.0</td>\n",
       "    </tr>\n",
       "    <tr>\n",
       "      <th>B</th>\n",
       "      <td>994.860585</td>\n",
       "      <td>1000.0</td>\n",
       "      <td>-1.0</td>\n",
       "      <td>3000.0</td>\n",
       "    </tr>\n",
       "    <tr>\n",
       "      <th>C</th>\n",
       "      <td>1504.516000</td>\n",
       "      <td>1500.0</td>\n",
       "      <td>8.0</td>\n",
       "      <td>3000.0</td>\n",
       "    </tr>\n",
       "    <tr>\n",
       "      <th>D</th>\n",
       "      <td>2007.369615</td>\n",
       "      <td>2000.0</td>\n",
       "      <td>500.0</td>\n",
       "      <td>3000.0</td>\n",
       "    </tr>\n",
       "    <tr>\n",
       "      <th>E</th>\n",
       "      <td>2498.188406</td>\n",
       "      <td>2500.0</td>\n",
       "      <td>500.0</td>\n",
       "      <td>5000.0</td>\n",
       "    </tr>\n",
       "    <tr>\n",
       "      <th>F</th>\n",
       "      <td>2724.637681</td>\n",
       "      <td>2750.0</td>\n",
       "      <td>500.0</td>\n",
       "      <td>3500.0</td>\n",
       "    </tr>\n",
       "    <tr>\n",
       "      <th>G</th>\n",
       "      <td>2989.130435</td>\n",
       "      <td>3250.0</td>\n",
       "      <td>500.0</td>\n",
       "      <td>3500.0</td>\n",
       "    </tr>\n",
       "    <tr>\n",
       "      <th>H</th>\n",
       "      <td>2833.333333</td>\n",
       "      <td>3500.0</td>\n",
       "      <td>1500.0</td>\n",
       "      <td>3500.0</td>\n",
       "    </tr>\n",
       "    <tr>\n",
       "      <th>I</th>\n",
       "      <td>NaN</td>\n",
       "      <td>NaN</td>\n",
       "      <td>NaN</td>\n",
       "      <td>NaN</td>\n",
       "    </tr>\n",
       "    <tr>\n",
       "      <th>J</th>\n",
       "      <td>NaN</td>\n",
       "      <td>NaN</td>\n",
       "      <td>NaN</td>\n",
       "      <td>NaN</td>\n",
       "    </tr>\n",
       "    <tr>\n",
       "      <th>K</th>\n",
       "      <td>NaN</td>\n",
       "      <td>NaN</td>\n",
       "      <td>NaN</td>\n",
       "      <td>NaN</td>\n",
       "    </tr>\n",
       "    <tr>\n",
       "      <th>L</th>\n",
       "      <td>NaN</td>\n",
       "      <td>NaN</td>\n",
       "      <td>NaN</td>\n",
       "      <td>NaN</td>\n",
       "    </tr>\n",
       "    <tr>\n",
       "      <th>M</th>\n",
       "      <td>NaN</td>\n",
       "      <td>NaN</td>\n",
       "      <td>NaN</td>\n",
       "      <td>NaN</td>\n",
       "    </tr>\n",
       "    <tr>\n",
       "      <th>N</th>\n",
       "      <td>NaN</td>\n",
       "      <td>NaN</td>\n",
       "      <td>NaN</td>\n",
       "      <td>NaN</td>\n",
       "    </tr>\n",
       "  </tbody>\n",
       "</table>\n",
       "</div>"
      ],
      "text/plain": [
       "                 points                        \n",
       "                   mean  median     min     max\n",
       "level_type                                     \n",
       "A            522.310160   500.0     3.0  3000.0\n",
       "B            994.860585  1000.0    -1.0  3000.0\n",
       "C           1504.516000  1500.0     8.0  3000.0\n",
       "D           2007.369615  2000.0   500.0  3000.0\n",
       "E           2498.188406  2500.0   500.0  5000.0\n",
       "F           2724.637681  2750.0   500.0  3500.0\n",
       "G           2989.130435  3250.0   500.0  3500.0\n",
       "H           2833.333333  3500.0  1500.0  3500.0\n",
       "I                   NaN     NaN     NaN     NaN\n",
       "J                   NaN     NaN     NaN     NaN\n",
       "K                   NaN     NaN     NaN     NaN\n",
       "L                   NaN     NaN     NaN     NaN\n",
       "M                   NaN     NaN     NaN     NaN\n",
       "N                   NaN     NaN     NaN     NaN"
      ]
     },
     "execution_count": 108,
     "metadata": {},
     "output_type": "execute_result"
    }
   ],
   "source": [
    "prblm.groupby('level_type').agg({'points':['mean','median','min','max']})"
   ]
  },
  {
   "cell_type": "code",
   "execution_count": 109,
   "id": "e889c97b",
   "metadata": {
    "scrolled": true
   },
   "outputs": [
    {
     "data": {
      "text/html": [
       "<div>\n",
       "<style scoped>\n",
       "    .dataframe tbody tr th:only-of-type {\n",
       "        vertical-align: middle;\n",
       "    }\n",
       "\n",
       "    .dataframe tbody tr th {\n",
       "        vertical-align: top;\n",
       "    }\n",
       "\n",
       "    .dataframe thead tr th {\n",
       "        text-align: left;\n",
       "    }\n",
       "\n",
       "    .dataframe thead tr:last-of-type th {\n",
       "        text-align: right;\n",
       "    }\n",
       "</style>\n",
       "<table border=\"1\" class=\"dataframe\">\n",
       "  <thead>\n",
       "    <tr>\n",
       "      <th></th>\n",
       "      <th colspan=\"4\" halign=\"left\">points</th>\n",
       "    </tr>\n",
       "    <tr>\n",
       "      <th></th>\n",
       "      <th>mean</th>\n",
       "      <th>median</th>\n",
       "      <th>min</th>\n",
       "      <th>max</th>\n",
       "    </tr>\n",
       "    <tr>\n",
       "      <th>level_type</th>\n",
       "      <th></th>\n",
       "      <th></th>\n",
       "      <th></th>\n",
       "      <th></th>\n",
       "    </tr>\n",
       "  </thead>\n",
       "  <tbody>\n",
       "    <tr>\n",
       "      <th>A</th>\n",
       "      <td>559.041685</td>\n",
       "      <td>500.000000</td>\n",
       "      <td>3.000000</td>\n",
       "      <td>3000.000000</td>\n",
       "    </tr>\n",
       "    <tr>\n",
       "      <th>B</th>\n",
       "      <td>966.266154</td>\n",
       "      <td>1000.000000</td>\n",
       "      <td>-1.000000</td>\n",
       "      <td>3000.000000</td>\n",
       "    </tr>\n",
       "    <tr>\n",
       "      <th>C</th>\n",
       "      <td>1380.994470</td>\n",
       "      <td>1500.000000</td>\n",
       "      <td>8.000000</td>\n",
       "      <td>3000.000000</td>\n",
       "    </tr>\n",
       "    <tr>\n",
       "      <th>D</th>\n",
       "      <td>1740.681957</td>\n",
       "      <td>2000.000000</td>\n",
       "      <td>500.000000</td>\n",
       "      <td>3000.000000</td>\n",
       "    </tr>\n",
       "    <tr>\n",
       "      <th>E</th>\n",
       "      <td>1915.737730</td>\n",
       "      <td>2250.000000</td>\n",
       "      <td>500.000000</td>\n",
       "      <td>5000.000000</td>\n",
       "    </tr>\n",
       "    <tr>\n",
       "      <th>F</th>\n",
       "      <td>1490.903863</td>\n",
       "      <td>1046.629058</td>\n",
       "      <td>500.000000</td>\n",
       "      <td>3500.000000</td>\n",
       "    </tr>\n",
       "    <tr>\n",
       "      <th>G</th>\n",
       "      <td>1157.854967</td>\n",
       "      <td>1046.629058</td>\n",
       "      <td>500.000000</td>\n",
       "      <td>3500.000000</td>\n",
       "    </tr>\n",
       "    <tr>\n",
       "      <th>H</th>\n",
       "      <td>1010.089619</td>\n",
       "      <td>896.713869</td>\n",
       "      <td>896.713869</td>\n",
       "      <td>3500.000000</td>\n",
       "    </tr>\n",
       "    <tr>\n",
       "      <th>I</th>\n",
       "      <td>1005.405151</td>\n",
       "      <td>896.713869</td>\n",
       "      <td>896.713869</td>\n",
       "      <td>1429.213518</td>\n",
       "    </tr>\n",
       "    <tr>\n",
       "      <th>J</th>\n",
       "      <td>1000.573712</td>\n",
       "      <td>896.713869</td>\n",
       "      <td>896.713869</td>\n",
       "      <td>1429.213518</td>\n",
       "    </tr>\n",
       "    <tr>\n",
       "      <th>K</th>\n",
       "      <td>1000.337416</td>\n",
       "      <td>896.713869</td>\n",
       "      <td>896.713869</td>\n",
       "      <td>1429.213518</td>\n",
       "    </tr>\n",
       "    <tr>\n",
       "      <th>L</th>\n",
       "      <td>1001.701757</td>\n",
       "      <td>896.713869</td>\n",
       "      <td>896.713869</td>\n",
       "      <td>1429.213518</td>\n",
       "    </tr>\n",
       "    <tr>\n",
       "      <th>M</th>\n",
       "      <td>975.221001</td>\n",
       "      <td>896.713869</td>\n",
       "      <td>896.713869</td>\n",
       "      <td>1429.213518</td>\n",
       "    </tr>\n",
       "    <tr>\n",
       "      <th>N</th>\n",
       "      <td>980.455416</td>\n",
       "      <td>896.713869</td>\n",
       "      <td>896.713869</td>\n",
       "      <td>1241.713486</td>\n",
       "    </tr>\n",
       "  </tbody>\n",
       "</table>\n",
       "</div>"
      ],
      "text/plain": [
       "                 points                                      \n",
       "                   mean       median         min          max\n",
       "level_type                                                   \n",
       "A            559.041685   500.000000    3.000000  3000.000000\n",
       "B            966.266154  1000.000000   -1.000000  3000.000000\n",
       "C           1380.994470  1500.000000    8.000000  3000.000000\n",
       "D           1740.681957  2000.000000  500.000000  3000.000000\n",
       "E           1915.737730  2250.000000  500.000000  5000.000000\n",
       "F           1490.903863  1046.629058  500.000000  3500.000000\n",
       "G           1157.854967  1046.629058  500.000000  3500.000000\n",
       "H           1010.089619   896.713869  896.713869  3500.000000\n",
       "I           1005.405151   896.713869  896.713869  1429.213518\n",
       "J           1000.573712   896.713869  896.713869  1429.213518\n",
       "K           1000.337416   896.713869  896.713869  1429.213518\n",
       "L           1001.701757   896.713869  896.713869  1429.213518\n",
       "M            975.221001   896.713869  896.713869  1429.213518\n",
       "N            980.455416   896.713869  896.713869  1241.713486"
      ]
     },
     "execution_count": 109,
     "metadata": {},
     "output_type": "execute_result"
    }
   ],
   "source": [
    "#point summary for level types \n",
    "fnl.groupby('level_type').agg({'points':['mean','median','min','max']})"
   ]
  },
  {
   "cell_type": "code",
   "execution_count": 110,
   "id": "536ddedb",
   "metadata": {},
   "outputs": [
    {
     "data": {
      "text/html": [
       "<div>\n",
       "<style scoped>\n",
       "    .dataframe tbody tr th:only-of-type {\n",
       "        vertical-align: middle;\n",
       "    }\n",
       "\n",
       "    .dataframe tbody tr th {\n",
       "        vertical-align: top;\n",
       "    }\n",
       "\n",
       "    .dataframe thead th {\n",
       "        text-align: right;\n",
       "    }\n",
       "</style>\n",
       "<table border=\"1\" class=\"dataframe\">\n",
       "  <thead>\n",
       "    <tr style=\"text-align: right;\">\n",
       "      <th></th>\n",
       "      <th>points</th>\n",
       "    </tr>\n",
       "  </thead>\n",
       "  <tbody>\n",
       "    <tr>\n",
       "      <th>mean</th>\n",
       "      <td>805.504371</td>\n",
       "    </tr>\n",
       "    <tr>\n",
       "      <th>median</th>\n",
       "      <td>896.713869</td>\n",
       "    </tr>\n",
       "    <tr>\n",
       "      <th>min</th>\n",
       "      <td>3.000000</td>\n",
       "    </tr>\n",
       "    <tr>\n",
       "      <th>max</th>\n",
       "      <td>1429.213518</td>\n",
       "    </tr>\n",
       "  </tbody>\n",
       "</table>\n",
       "</div>"
      ],
      "text/plain": [
       "             points\n",
       "mean     805.504371\n",
       "median   896.713869\n",
       "min        3.000000\n",
       "max     1429.213518"
      ]
     },
     "execution_count": 110,
     "metadata": {},
     "output_type": "execute_result"
    }
   ],
   "source": [
    "#Point summary for missing level_type of problem\n",
    "fnl[fnl['level_type'].isnull()].agg({'points':['mean','median','min','max']})"
   ]
  },
  {
   "cell_type": "code",
   "execution_count": 111,
   "id": "a83057d4",
   "metadata": {},
   "outputs": [],
   "source": [
    "#WE cant conclude anything fromm \n",
    "#summary of missing types points and gnereal summary of points"
   ]
  },
  {
   "cell_type": "code",
   "execution_count": 112,
   "id": "af264cf2",
   "metadata": {},
   "outputs": [
    {
     "data": {
      "text/plain": [
       "0"
      ]
     },
     "execution_count": 112,
     "metadata": {},
     "output_type": "execute_result"
    }
   ],
   "source": [
    "fnl.dropna(subset=['level_type'],axis=0,inplace=True)\n",
    "fnl.level_type.isnull().sum()"
   ]
  },
  {
   "cell_type": "code",
   "execution_count": 113,
   "id": "f6faeadd",
   "metadata": {},
   "outputs": [],
   "source": [
    "user['timespent']=pd.to_timedelta((user.last_online_time_seconds)-(user.registration_time_seconds),unit='s')\n"
   ]
  },
  {
   "cell_type": "code",
   "execution_count": 114,
   "id": "e206189b",
   "metadata": {},
   "outputs": [
    {
     "data": {
      "text/plain": [
       "(154675, 17)"
      ]
     },
     "execution_count": 114,
     "metadata": {},
     "output_type": "execute_result"
    }
   ],
   "source": [
    "fnl.shape"
   ]
  },
  {
   "cell_type": "code",
   "execution_count": 115,
   "id": "ece343e1",
   "metadata": {},
   "outputs": [],
   "source": [
    "fnl['days']=fnl.timespent.dt.days+ (fnl.timespent.dt.seconds / (60*60*24))"
   ]
  },
  {
   "cell_type": "code",
   "execution_count": 116,
   "id": "c9af0474",
   "metadata": {},
   "outputs": [],
   "source": [
    "#converting attempts_range from integer to object\n",
    "fnl['attempts_range']=fnl['attempts_range'].astype(object)"
   ]
  },
  {
   "cell_type": "code",
   "execution_count": 117,
   "id": "8ed99904",
   "metadata": {},
   "outputs": [
    {
     "data": {
      "text/plain": [
       "user_id                               object\n",
       "submission_count                       int64\n",
       "problem_solved                         int64\n",
       "contribution                           int64\n",
       "country                               object\n",
       "follower_count                         int64\n",
       "last_online_time_seconds               int64\n",
       "max_rating                           float64\n",
       "rating                               float64\n",
       "rank                                  object\n",
       "registration_time_seconds              int64\n",
       "problem_id                            object\n",
       "attempts_range                        object\n",
       "level_type                            object\n",
       "points                               float64\n",
       "tags                                  object\n",
       "timespent                    timedelta64[ns]\n",
       "days                                 float64\n",
       "dtype: object"
      ]
     },
     "execution_count": 117,
     "metadata": {},
     "output_type": "execute_result"
    }
   ],
   "source": [
    "fnl.dtypes"
   ]
  },
  {
   "cell_type": "code",
   "execution_count": 118,
   "id": "a11c98e0",
   "metadata": {},
   "outputs": [
    {
     "data": {
      "text/plain": [
       "user_id                          0\n",
       "submission_count                 0\n",
       "problem_solved                   0\n",
       "contribution                     0\n",
       "country                      37732\n",
       "follower_count                   0\n",
       "last_online_time_seconds         0\n",
       "max_rating                       0\n",
       "rating                           0\n",
       "rank                             0\n",
       "registration_time_seconds        0\n",
       "problem_id                       0\n",
       "attempts_range                   0\n",
       "level_type                       0\n",
       "points                           0\n",
       "tags                         15027\n",
       "timespent                        0\n",
       "days                             0\n",
       "dtype: int64"
      ]
     },
     "execution_count": 118,
     "metadata": {},
     "output_type": "execute_result"
    }
   ],
   "source": [
    "fnl.isnull().sum()"
   ]
  },
  {
   "cell_type": "code",
   "execution_count": 119,
   "id": "d1880ab1",
   "metadata": {},
   "outputs": [],
   "source": [
    "#filling missing values in tags with not_give\n",
    "fnl['tags'].fillna('not_given',inplace=True)"
   ]
  },
  {
   "cell_type": "code",
   "execution_count": 120,
   "id": "0de4fae9",
   "metadata": {},
   "outputs": [
    {
     "data": {
      "text/plain": [
       "15027"
      ]
     },
     "execution_count": 120,
     "metadata": {},
     "output_type": "execute_result"
    }
   ],
   "source": [
    "#verifying for fillings\n",
    "(fnl.tags=='not_given').sum()"
   ]
  },
  {
   "cell_type": "code",
   "execution_count": 121,
   "id": "e9bec2af",
   "metadata": {},
   "outputs": [
    {
     "data": {
      "text/plain": [
       "0"
      ]
     },
     "execution_count": 121,
     "metadata": {},
     "output_type": "execute_result"
    }
   ],
   "source": [
    "fnl.tags.isnull().sum()"
   ]
  },
  {
   "cell_type": "code",
   "execution_count": 122,
   "id": "0ee111bf",
   "metadata": {},
   "outputs": [
    {
     "data": {
      "text/plain": [
       "Text(0.5, 1.0, 'Rankwise distribution of contribution')"
      ]
     },
     "execution_count": 122,
     "metadata": {},
     "output_type": "execute_result"
    },
    {
     "data": {
      "image/png": "[encoded data removed]",
      "text/plain": [
       "<Figure size 432x288 with 1 Axes>"
      ]
     },
     "metadata": {},
     "output_type": "display_data"
    }
   ],
   "source": [
    "sns.boxplot(x='attempts_range',y='problem_solved',data=fnl)\n",
    "plt.title(\"Rankwise distribution of contribution\")"
   ]
  },
  {
   "cell_type": "markdown",
   "id": "d44e4443",
   "metadata": {},
   "source": [
    "###### EDA and Statistical testing"
   ]
  },
  {
   "cell_type": "markdown",
   "id": "11025f68",
   "metadata": {},
   "source": [
    "### Analysis of target variable (Attempt range)"
   ]
  },
  {
   "cell_type": "markdown",
   "id": "16923910",
   "metadata": {},
   "source": [
    "Analysing the distribution of attempt range"
   ]
  },
  {
   "cell_type": "code",
   "execution_count": 123,
   "id": "91a1f859",
   "metadata": {},
   "outputs": [
    {
     "name": "stdout",
     "output_type": "stream",
     "text": [
      "Unique values of attempts range : 1 2 4 6 3 5\n"
     ]
    }
   ],
   "source": [
    "#Unique attempt range\n",
    "print('Unique values of attempts range :',end=\" \")\n",
    "print(*fnl['attempts_range'].unique())"
   ]
  },
  {
   "cell_type": "code",
   "execution_count": 124,
   "id": "ba0721c2",
   "metadata": {
    "scrolled": true
   },
   "outputs": [
    {
     "data": {
      "text/plain": [
       "<Figure size 504x288 with 0 Axes>"
      ]
     },
     "metadata": {},
     "output_type": "display_data"
    },
    {
     "data": {
      "image/png": "[encoded data removed]",
      "text/plain": [
       "<Figure size 360x360 with 1 Axes>"
      ]
     },
     "metadata": {},
     "output_type": "display_data"
    }
   ],
   "source": [
    "fig=plt.figure(figsize=(7,4))\n",
    "fig.patch.set_facecolor('lightcoral')\n",
    "sns.set_style('darkgrid')\n",
    "sns.displot(fnl['attempts_range'],bins =6,color= 'red',kde_kws={\"shade\": True});\n",
    "plt.axvline(x= fnl.attempts_range.mean(),ls='--',color='black',linewidth=4,label=\"mean\")\n",
    "plt.title(\"Distribution of attempts range\",fontweight='bold',fontsize=20);\n",
    "plt.legend([\"mean\"],prop={\"size\":10});\n",
    "plt.show()\n",
    "\n",
    "\n"
   ]
  },
  {
   "cell_type": "markdown",
   "id": "2d350369",
   "metadata": {},
   "source": [
    "Attmept range is not normally distributed\n",
    "It looks like right skewed"
   ]
  },
  {
   "cell_type": "code",
   "execution_count": 125,
   "id": "b424f7cb",
   "metadata": {},
   "outputs": [
    {
     "data": {
      "text/plain": [
       "Text(0.5, 1.0, 'Box plot showing distribution of attempts range')"
      ]
     },
     "execution_count": 125,
     "metadata": {},
     "output_type": "execute_result"
    },
    {
     "data": {
      "image/png": "[encoded data removed]",
      "text/plain": [
       "<Figure size 432x288 with 1 Axes>"
      ]
     },
     "metadata": {},
     "output_type": "display_data"
    }
   ],
   "source": [
    "sns.boxplot(x='attempts_range',data=fnl)\n",
    "plt.title(\"Box plot showing distribution of attempts range\")"
   ]
  },
  {
   "cell_type": "markdown",
   "id": "77f89ae7",
   "metadata": {},
   "source": [
    "From the above plot we can see that attempt range is highly densed around 1 and 2.\n",
    "Attempt range three has really very less observation as compared to 2 and 1\n",
    "but it has decent ammount of observation as compared to 4,5,6.\n",
    "Attmept range 1 has high density may be its beacause the problems are easier one to solve or expert and advanced people may solve with less attempts beacuase of expereince and people who are beginer and intermediate are may be getting easy basic level problem."
   ]
  },
  {
   "cell_type": "markdown",
   "id": "c20a3dcb",
   "metadata": {},
   "source": [
    "### Analysing the variable submission count"
   ]
  },
  {
   "cell_type": "code",
   "execution_count": 126,
   "id": "3a19500c",
   "metadata": {},
   "outputs": [
    {
     "data": {
      "text/html": [
       "<div>\n",
       "<style scoped>\n",
       "    .dataframe tbody tr th:only-of-type {\n",
       "        vertical-align: middle;\n",
       "    }\n",
       "\n",
       "    .dataframe tbody tr th {\n",
       "        vertical-align: top;\n",
       "    }\n",
       "\n",
       "    .dataframe thead th {\n",
       "        text-align: right;\n",
       "    }\n",
       "</style>\n",
       "<table border=\"1\" class=\"dataframe\">\n",
       "  <thead>\n",
       "    <tr style=\"text-align: right;\">\n",
       "      <th></th>\n",
       "      <th>user_id</th>\n",
       "      <th>submission_count</th>\n",
       "      <th>problem_solved</th>\n",
       "      <th>contribution</th>\n",
       "      <th>country</th>\n",
       "      <th>follower_count</th>\n",
       "      <th>last_online_time_seconds</th>\n",
       "      <th>max_rating</th>\n",
       "      <th>rating</th>\n",
       "      <th>rank</th>\n",
       "      <th>registration_time_seconds</th>\n",
       "      <th>timespent</th>\n",
       "    </tr>\n",
       "  </thead>\n",
       "  <tbody>\n",
       "    <tr>\n",
       "      <th>0</th>\n",
       "      <td>user_3311</td>\n",
       "      <td>47</td>\n",
       "      <td>40</td>\n",
       "      <td>0</td>\n",
       "      <td>NaN</td>\n",
       "      <td>4</td>\n",
       "      <td>1504111645</td>\n",
       "      <td>348.337</td>\n",
       "      <td>330.849</td>\n",
       "      <td>intermediate</td>\n",
       "      <td>1466686436</td>\n",
       "      <td>433 days 03:53:29</td>\n",
       "    </tr>\n",
       "    <tr>\n",
       "      <th>1</th>\n",
       "      <td>user_3028</td>\n",
       "      <td>63</td>\n",
       "      <td>52</td>\n",
       "      <td>0</td>\n",
       "      <td>India</td>\n",
       "      <td>17</td>\n",
       "      <td>1498998165</td>\n",
       "      <td>405.677</td>\n",
       "      <td>339.450</td>\n",
       "      <td>intermediate</td>\n",
       "      <td>1441893325</td>\n",
       "      <td>660 days 22:27:20</td>\n",
       "    </tr>\n",
       "    <tr>\n",
       "      <th>2</th>\n",
       "      <td>user_2268</td>\n",
       "      <td>226</td>\n",
       "      <td>203</td>\n",
       "      <td>-8</td>\n",
       "      <td>Egypt</td>\n",
       "      <td>24</td>\n",
       "      <td>1505566052</td>\n",
       "      <td>307.339</td>\n",
       "      <td>284.404</td>\n",
       "      <td>beginner</td>\n",
       "      <td>1454267603</td>\n",
       "      <td>593 days 17:34:09</td>\n",
       "    </tr>\n",
       "    <tr>\n",
       "      <th>3</th>\n",
       "      <td>user_480</td>\n",
       "      <td>611</td>\n",
       "      <td>490</td>\n",
       "      <td>1</td>\n",
       "      <td>Ukraine</td>\n",
       "      <td>94</td>\n",
       "      <td>1505257499</td>\n",
       "      <td>525.803</td>\n",
       "      <td>471.330</td>\n",
       "      <td>advanced</td>\n",
       "      <td>1350720417</td>\n",
       "      <td>1788 days 14:58:02</td>\n",
       "    </tr>\n",
       "    <tr>\n",
       "      <th>4</th>\n",
       "      <td>user_650</td>\n",
       "      <td>504</td>\n",
       "      <td>479</td>\n",
       "      <td>12</td>\n",
       "      <td>Russia</td>\n",
       "      <td>4</td>\n",
       "      <td>1496613433</td>\n",
       "      <td>548.739</td>\n",
       "      <td>486.525</td>\n",
       "      <td>advanced</td>\n",
       "      <td>1395560498</td>\n",
       "      <td>1169 days 14:15:35</td>\n",
       "    </tr>\n",
       "  </tbody>\n",
       "</table>\n",
       "</div>"
      ],
      "text/plain": [
       "     user_id  submission_count  problem_solved  contribution  country  \\\n",
       "0  user_3311                47              40             0      NaN   \n",
       "1  user_3028                63              52             0    India   \n",
       "2  user_2268               226             203            -8    Egypt   \n",
       "3   user_480               611             490             1  Ukraine   \n",
       "4   user_650               504             479            12   Russia   \n",
       "\n",
       "   follower_count  last_online_time_seconds  max_rating   rating  \\\n",
       "0               4                1504111645     348.337  330.849   \n",
       "1              17                1498998165     405.677  339.450   \n",
       "2              24                1505566052     307.339  284.404   \n",
       "3              94                1505257499     525.803  471.330   \n",
       "4               4                1496613433     548.739  486.525   \n",
       "\n",
       "           rank  registration_time_seconds          timespent  \n",
       "0  intermediate                 1466686436  433 days 03:53:29  \n",
       "1  intermediate                 1441893325  660 days 22:27:20  \n",
       "2      beginner                 1454267603  593 days 17:34:09  \n",
       "3      advanced                 1350720417 1788 days 14:58:02  \n",
       "4      advanced                 1395560498 1169 days 14:15:35  "
      ]
     },
     "execution_count": 126,
     "metadata": {},
     "output_type": "execute_result"
    }
   ],
   "source": [
    "user.head()"
   ]
  },
  {
   "cell_type": "code",
   "execution_count": 127,
   "id": "73d71e8f",
   "metadata": {},
   "outputs": [
    {
     "data": {
      "image/png": "[encoded data removed]",
      "text/plain": [
       "<Figure size 360x360 with 1 Axes>"
      ]
     },
     "metadata": {},
     "output_type": "display_data"
    },
    {
     "data": {
      "image/png": "[encoded data removed]",
      "text/plain": [
       "<Figure size 432x288 with 1 Axes>"
      ]
     },
     "metadata": {},
     "output_type": "display_data"
    }
   ],
   "source": [
    "submsn=fnl.drop_duplicates('user_id',keep='first')\n",
    "sns.displot(submsn['submission_count'])\n",
    "plt.title('Distribution plot for submission_count')\n",
    "plt.show()\n",
    "sns.boxplot(\"submission_count\",data=submsn)\n",
    "plt.title(\"Box plot for submission count\")\n",
    "plt.show()"
   ]
  },
  {
   "cell_type": "code",
   "execution_count": 128,
   "id": "a39d31c6",
   "metadata": {},
   "outputs": [
    {
     "name": "stdout",
     "output_type": "stream",
     "text": [
      "First Quantile of submission_count distribution is 71.0 \n",
      "Second Quantile ofsubmission_count distribution is 171.0 \n",
      "Third Quantile of submission_count distribution is 393.0 \n",
      "Forth Quantile of submission_count distribution is 4570 \n",
      "Average submission_count is 303.0 \n"
     ]
    }
   ],
   "source": [
    "print('First Quantile of submission_count distribution is {} '.format(np.quantile(submsn['submission_count'], 0.25)))\n",
    "print('Second Quantile ofsubmission_count distribution is {} '.format(np.quantile(submsn['submission_count'], 0.50)))\n",
    "print('Third Quantile of submission_count distribution is {} '.format(np.quantile(submsn['submission_count'], 0.75)))\n",
    "print('Forth Quantile of submission_count distribution is {} '.format(np.quantile(submsn['submission_count'], 1)))\n",
    "print('Average submission_count is {} '.format(np.round(submsn['submission_count'].mean(),1)))\n"
   ]
  },
  {
   "cell_type": "markdown",
   "id": "b384c8f2",
   "metadata": {},
   "source": [
    "Submission count is highly densed between 50-450\n",
    "It looks like there are few outliers .\n",
    "Lower quartile is at 71 and third quartile is at 393.\n",
    "Average submission count is 303 with median of 171."
   ]
  },
  {
   "cell_type": "markdown",
   "id": "61f20304",
   "metadata": {},
   "source": [
    "### Analysing the variable contribution"
   ]
  },
  {
   "cell_type": "code",
   "execution_count": 129,
   "id": "636b6c03",
   "metadata": {},
   "outputs": [
    {
     "data": {
      "text/plain": [
       "Text(0.5, 1.0, 'Distribution of contribution')"
      ]
     },
     "execution_count": 129,
     "metadata": {},
     "output_type": "execute_result"
    },
    {
     "data": {
      "image/png": "[encoded data removed]",
      "text/plain": [
       "<Figure size 360x360 with 1 Axes>"
      ]
     },
     "metadata": {},
     "output_type": "display_data"
    }
   ],
   "source": [
    "sns.displot(submsn['contribution'])\n",
    "plt.title(\"Distribution of contribution\")"
   ]
  },
  {
   "cell_type": "markdown",
   "id": "bb484000",
   "metadata": {},
   "source": [
    "It looks like there  are lots of zero entries. May be it could be answered by exploring user level i.e if many user belongs to beginer level then there is less chance of contributing."
   ]
  },
  {
   "cell_type": "markdown",
   "id": "a9789d3d",
   "metadata": {},
   "source": [
    "### Analysing user rank and contribution"
   ]
  },
  {
   "cell_type": "code",
   "execution_count": 130,
   "id": "2479677e",
   "metadata": {},
   "outputs": [
    {
     "data": {
      "text/plain": [
       "Text(0.5, 1.0, 'Rankwise distribution of contribution')"
      ]
     },
     "execution_count": 130,
     "metadata": {},
     "output_type": "execute_result"
    },
    {
     "data": {
      "image/png": "[encoded data removed]",
      "text/plain": [
       "<Figure size 432x288 with 1 Axes>"
      ]
     },
     "metadata": {},
     "output_type": "display_data"
    }
   ],
   "source": [
    "sns.boxplot(x='rank',y='contribution',data=submsn,order=['beginner','intermediate','advanced','expert'])\n",
    "plt.title(\"Rankwise distribution of contribution\")"
   ]
  },
  {
   "cell_type": "code",
   "execution_count": 131,
   "id": "ad5ec8ff",
   "metadata": {},
   "outputs": [
    {
     "name": "stdout",
     "output_type": "stream",
     "text": [
      "No of obervation per attempt range based on  user rank\n",
      " rank            advanced  beginner  expert  intermediate  Total\n",
      "attempts_range                                                 \n",
      "1                  16602     26991    3263         35620  82476\n",
      "2                   9017     16768    1408         19942  47135\n",
      "3                   2426      5303     290          6063  14082\n",
      "4                    982      2058     105          2333   5478\n",
      "5                    435       912      58          1079   2484\n",
      "6                    660      1012      85          1263   3020\n",
      "\n",
      "Total no of users in each user rank\n",
      "\n",
      "colsum: rank\n",
      "beginner        53044\n",
      "intermediate    66300\n",
      "expert           5209\n",
      "advanced        30122\n",
      "dtype: int64\n"
     ]
    }
   ],
   "source": [
    "ct=pd.crosstab(fnl['attempts_range'],fnl['rank'])\n",
    "ct['Total']=ct.sum(axis=1)\n",
    "colsum=ct.sum(axis=0)\n",
    "print(\"No of obervation per attempt range based on  user rank\\n\",ct)\n",
    "print()\n",
    "print('Total no of users in each user rank')\n",
    "print()\n",
    "print('colsum:',colsum[[1,3,2,0]])"
   ]
  },
  {
   "cell_type": "markdown",
   "id": "f9fbfa3d",
   "metadata": {},
   "source": [
    "Contributions are majorlly made by expert and few by advanced since no of users mainly belongs to beginer and intermediate level may be thats why we have large count of zero contribution"
   ]
  },
  {
   "cell_type": "code",
   "execution_count": 132,
   "id": "72e729bd",
   "metadata": {},
   "outputs": [
    {
     "data": {
      "text/html": [
       "<div>\n",
       "<style scoped>\n",
       "    .dataframe tbody tr th:only-of-type {\n",
       "        vertical-align: middle;\n",
       "    }\n",
       "\n",
       "    .dataframe tbody tr th {\n",
       "        vertical-align: top;\n",
       "    }\n",
       "\n",
       "    .dataframe thead th {\n",
       "        text-align: right;\n",
       "    }\n",
       "</style>\n",
       "<table border=\"1\" class=\"dataframe\">\n",
       "  <thead>\n",
       "    <tr style=\"text-align: right;\">\n",
       "      <th></th>\n",
       "      <th>user_id</th>\n",
       "      <th>submission_count</th>\n",
       "      <th>problem_solved</th>\n",
       "      <th>contribution</th>\n",
       "      <th>country</th>\n",
       "      <th>follower_count</th>\n",
       "      <th>last_online_time_seconds</th>\n",
       "      <th>max_rating</th>\n",
       "      <th>rating</th>\n",
       "      <th>rank</th>\n",
       "      <th>registration_time_seconds</th>\n",
       "      <th>problem_id</th>\n",
       "      <th>attempts_range</th>\n",
       "      <th>level_type</th>\n",
       "      <th>points</th>\n",
       "      <th>tags</th>\n",
       "      <th>timespent</th>\n",
       "      <th>days</th>\n",
       "    </tr>\n",
       "  </thead>\n",
       "  <tbody>\n",
       "    <tr>\n",
       "      <th>59</th>\n",
       "      <td>user_1036</td>\n",
       "      <td>132</td>\n",
       "      <td>97</td>\n",
       "      <td>-1</td>\n",
       "      <td>India</td>\n",
       "      <td>23</td>\n",
       "      <td>1502985694</td>\n",
       "      <td>391.342</td>\n",
       "      <td>391.342</td>\n",
       "      <td>intermediate</td>\n",
       "      <td>1452261316</td>\n",
       "      <td>prob_75</td>\n",
       "      <td>1</td>\n",
       "      <td>A</td>\n",
       "      <td>500.000000</td>\n",
       "      <td>implementation</td>\n",
       "      <td>587 days 02:06:18</td>\n",
       "      <td>587.087708</td>\n",
       "    </tr>\n",
       "    <tr>\n",
       "      <th>65</th>\n",
       "      <td>user_1864</td>\n",
       "      <td>73</td>\n",
       "      <td>61</td>\n",
       "      <td>-3</td>\n",
       "      <td>NaN</td>\n",
       "      <td>7</td>\n",
       "      <td>1505583277</td>\n",
       "      <td>319.667</td>\n",
       "      <td>289.851</td>\n",
       "      <td>beginner</td>\n",
       "      <td>1468147526</td>\n",
       "      <td>prob_75</td>\n",
       "      <td>1</td>\n",
       "      <td>A</td>\n",
       "      <td>500.000000</td>\n",
       "      <td>implementation</td>\n",
       "      <td>433 days 06:49:11</td>\n",
       "      <td>433.284155</td>\n",
       "    </tr>\n",
       "    <tr>\n",
       "      <th>80</th>\n",
       "      <td>user_1867</td>\n",
       "      <td>66</td>\n",
       "      <td>47</td>\n",
       "      <td>-2</td>\n",
       "      <td>NaN</td>\n",
       "      <td>4</td>\n",
       "      <td>1504613917</td>\n",
       "      <td>342.890</td>\n",
       "      <td>322.248</td>\n",
       "      <td>intermediate</td>\n",
       "      <td>1439453311</td>\n",
       "      <td>prob_75</td>\n",
       "      <td>1</td>\n",
       "      <td>A</td>\n",
       "      <td>500.000000</td>\n",
       "      <td>implementation</td>\n",
       "      <td>754 days 04:10:06</td>\n",
       "      <td>754.173681</td>\n",
       "    </tr>\n",
       "    <tr>\n",
       "      <th>85</th>\n",
       "      <td>user_1588</td>\n",
       "      <td>127</td>\n",
       "      <td>107</td>\n",
       "      <td>-7</td>\n",
       "      <td>India</td>\n",
       "      <td>3</td>\n",
       "      <td>1502733152</td>\n",
       "      <td>304.759</td>\n",
       "      <td>222.764</td>\n",
       "      <td>beginner</td>\n",
       "      <td>1469444000</td>\n",
       "      <td>prob_75</td>\n",
       "      <td>2</td>\n",
       "      <td>A</td>\n",
       "      <td>500.000000</td>\n",
       "      <td>implementation</td>\n",
       "      <td>385 days 06:59:12</td>\n",
       "      <td>385.291111</td>\n",
       "    </tr>\n",
       "    <tr>\n",
       "      <th>90</th>\n",
       "      <td>user_2170</td>\n",
       "      <td>128</td>\n",
       "      <td>107</td>\n",
       "      <td>-13</td>\n",
       "      <td>NaN</td>\n",
       "      <td>1</td>\n",
       "      <td>1504464139</td>\n",
       "      <td>316.800</td>\n",
       "      <td>227.924</td>\n",
       "      <td>beginner</td>\n",
       "      <td>1449682171</td>\n",
       "      <td>prob_75</td>\n",
       "      <td>1</td>\n",
       "      <td>A</td>\n",
       "      <td>500.000000</td>\n",
       "      <td>implementation</td>\n",
       "      <td>634 days 01:12:48</td>\n",
       "      <td>634.050556</td>\n",
       "    </tr>\n",
       "    <tr>\n",
       "      <th>...</th>\n",
       "      <td>...</td>\n",
       "      <td>...</td>\n",
       "      <td>...</td>\n",
       "      <td>...</td>\n",
       "      <td>...</td>\n",
       "      <td>...</td>\n",
       "      <td>...</td>\n",
       "      <td>...</td>\n",
       "      <td>...</td>\n",
       "      <td>...</td>\n",
       "      <td>...</td>\n",
       "      <td>...</td>\n",
       "      <td>...</td>\n",
       "      <td>...</td>\n",
       "      <td>...</td>\n",
       "      <td>...</td>\n",
       "      <td>...</td>\n",
       "      <td>...</td>\n",
       "    </tr>\n",
       "    <tr>\n",
       "      <th>155279</th>\n",
       "      <td>user_588</td>\n",
       "      <td>280</td>\n",
       "      <td>256</td>\n",
       "      <td>-3</td>\n",
       "      <td>Vietnam</td>\n",
       "      <td>32</td>\n",
       "      <td>1505541018</td>\n",
       "      <td>516.342</td>\n",
       "      <td>492.259</td>\n",
       "      <td>advanced</td>\n",
       "      <td>1476608983</td>\n",
       "      <td>prob_5430</td>\n",
       "      <td>3</td>\n",
       "      <td>D</td>\n",
       "      <td>2000.000000</td>\n",
       "      <td>sortings</td>\n",
       "      <td>334 days 20:40:35</td>\n",
       "      <td>334.861516</td>\n",
       "    </tr>\n",
       "    <tr>\n",
       "      <th>155280</th>\n",
       "      <td>user_588</td>\n",
       "      <td>280</td>\n",
       "      <td>256</td>\n",
       "      <td>-3</td>\n",
       "      <td>Vietnam</td>\n",
       "      <td>32</td>\n",
       "      <td>1505541018</td>\n",
       "      <td>516.342</td>\n",
       "      <td>492.259</td>\n",
       "      <td>advanced</td>\n",
       "      <td>1476608983</td>\n",
       "      <td>prob_4306</td>\n",
       "      <td>2</td>\n",
       "      <td>D</td>\n",
       "      <td>2000.000000</td>\n",
       "      <td>dp,matrices</td>\n",
       "      <td>334 days 20:40:35</td>\n",
       "      <td>334.861516</td>\n",
       "    </tr>\n",
       "    <tr>\n",
       "      <th>155281</th>\n",
       "      <td>user_588</td>\n",
       "      <td>280</td>\n",
       "      <td>256</td>\n",
       "      <td>-3</td>\n",
       "      <td>Vietnam</td>\n",
       "      <td>32</td>\n",
       "      <td>1505541018</td>\n",
       "      <td>516.342</td>\n",
       "      <td>492.259</td>\n",
       "      <td>advanced</td>\n",
       "      <td>1476608983</td>\n",
       "      <td>prob_2612</td>\n",
       "      <td>6</td>\n",
       "      <td>E</td>\n",
       "      <td>2500.000000</td>\n",
       "      <td>data structures,dp</td>\n",
       "      <td>334 days 20:40:35</td>\n",
       "      <td>334.861516</td>\n",
       "    </tr>\n",
       "    <tr>\n",
       "      <th>155283</th>\n",
       "      <td>user_1629</td>\n",
       "      <td>324</td>\n",
       "      <td>301</td>\n",
       "      <td>-1</td>\n",
       "      <td>China</td>\n",
       "      <td>46</td>\n",
       "      <td>1505050989</td>\n",
       "      <td>500.573</td>\n",
       "      <td>474.484</td>\n",
       "      <td>advanced</td>\n",
       "      <td>1414162814</td>\n",
       "      <td>prob_240</td>\n",
       "      <td>2</td>\n",
       "      <td>F</td>\n",
       "      <td>1046.629058</td>\n",
       "      <td>not_given</td>\n",
       "      <td>1051 days 22:42:55</td>\n",
       "      <td>1051.946470</td>\n",
       "    </tr>\n",
       "    <tr>\n",
       "      <th>155284</th>\n",
       "      <td>user_1629</td>\n",
       "      <td>324</td>\n",
       "      <td>301</td>\n",
       "      <td>-1</td>\n",
       "      <td>China</td>\n",
       "      <td>46</td>\n",
       "      <td>1505050989</td>\n",
       "      <td>500.573</td>\n",
       "      <td>474.484</td>\n",
       "      <td>advanced</td>\n",
       "      <td>1414162814</td>\n",
       "      <td>prob_6038</td>\n",
       "      <td>1</td>\n",
       "      <td>G</td>\n",
       "      <td>896.713869</td>\n",
       "      <td>not_given</td>\n",
       "      <td>1051 days 22:42:55</td>\n",
       "      <td>1051.946470</td>\n",
       "    </tr>\n",
       "  </tbody>\n",
       "</table>\n",
       "<p>11104 rows × 18 columns</p>\n",
       "</div>"
      ],
      "text/plain": [
       "          user_id  submission_count  problem_solved  contribution  country  \\\n",
       "59      user_1036               132              97            -1    India   \n",
       "65      user_1864                73              61            -3      NaN   \n",
       "80      user_1867                66              47            -2      NaN   \n",
       "85      user_1588               127             107            -7    India   \n",
       "90      user_2170               128             107           -13      NaN   \n",
       "...           ...               ...             ...           ...      ...   \n",
       "155279   user_588               280             256            -3  Vietnam   \n",
       "155280   user_588               280             256            -3  Vietnam   \n",
       "155281   user_588               280             256            -3  Vietnam   \n",
       "155283  user_1629               324             301            -1    China   \n",
       "155284  user_1629               324             301            -1    China   \n",
       "\n",
       "        follower_count  last_online_time_seconds  max_rating   rating  \\\n",
       "59                  23                1502985694     391.342  391.342   \n",
       "65                   7                1505583277     319.667  289.851   \n",
       "80                   4                1504613917     342.890  322.248   \n",
       "85                   3                1502733152     304.759  222.764   \n",
       "90                   1                1504464139     316.800  227.924   \n",
       "...                ...                       ...         ...      ...   \n",
       "155279              32                1505541018     516.342  492.259   \n",
       "155280              32                1505541018     516.342  492.259   \n",
       "155281              32                1505541018     516.342  492.259   \n",
       "155283              46                1505050989     500.573  474.484   \n",
       "155284              46                1505050989     500.573  474.484   \n",
       "\n",
       "                rank  registration_time_seconds problem_id attempts_range  \\\n",
       "59      intermediate                 1452261316    prob_75              1   \n",
       "65          beginner                 1468147526    prob_75              1   \n",
       "80      intermediate                 1439453311    prob_75              1   \n",
       "85          beginner                 1469444000    prob_75              2   \n",
       "90          beginner                 1449682171    prob_75              1   \n",
       "...              ...                        ...        ...            ...   \n",
       "155279      advanced                 1476608983  prob_5430              3   \n",
       "155280      advanced                 1476608983  prob_4306              2   \n",
       "155281      advanced                 1476608983  prob_2612              6   \n",
       "155283      advanced                 1414162814   prob_240              2   \n",
       "155284      advanced                 1414162814  prob_6038              1   \n",
       "\n",
       "       level_type       points                tags          timespent  \\\n",
       "59              A   500.000000      implementation  587 days 02:06:18   \n",
       "65              A   500.000000      implementation  433 days 06:49:11   \n",
       "80              A   500.000000      implementation  754 days 04:10:06   \n",
       "85              A   500.000000      implementation  385 days 06:59:12   \n",
       "90              A   500.000000      implementation  634 days 01:12:48   \n",
       "...           ...          ...                 ...                ...   \n",
       "155279          D  2000.000000            sortings  334 days 20:40:35   \n",
       "155280          D  2000.000000         dp,matrices  334 days 20:40:35   \n",
       "155281          E  2500.000000  data structures,dp  334 days 20:40:35   \n",
       "155283          F  1046.629058           not_given 1051 days 22:42:55   \n",
       "155284          G   896.713869           not_given 1051 days 22:42:55   \n",
       "\n",
       "               days  \n",
       "59       587.087708  \n",
       "65       433.284155  \n",
       "80       754.173681  \n",
       "85       385.291111  \n",
       "90       634.050556  \n",
       "...             ...  \n",
       "155279   334.861516  \n",
       "155280   334.861516  \n",
       "155281   334.861516  \n",
       "155283  1051.946470  \n",
       "155284  1051.946470  \n",
       "\n",
       "[11104 rows x 18 columns]"
      ]
     },
     "execution_count": 132,
     "metadata": {},
     "output_type": "execute_result"
    }
   ],
   "source": [
    "fnl[fnl['contribution']<0]"
   ]
  },
  {
   "cell_type": "markdown",
   "id": "23a21506",
   "metadata": {},
   "source": [
    "there are some negative entries in contribution column"
   ]
  },
  {
   "cell_type": "markdown",
   "id": "f5532b02",
   "metadata": {},
   "source": [
    "### Rank of user"
   ]
  },
  {
   "cell_type": "code",
   "execution_count": 133,
   "id": "66265cc3",
   "metadata": {},
   "outputs": [
    {
     "data": {
      "text/plain": [
       "Text(0.5, 1.0, 'Rank mof users')"
      ]
     },
     "execution_count": 133,
     "metadata": {},
     "output_type": "execute_result"
    },
    {
     "data": {
      "image/png": "[encoded data removed]",
      "text/plain": [
       "<Figure size 360x360 with 1 Axes>"
      ]
     },
     "metadata": {},
     "output_type": "display_data"
    }
   ],
   "source": [
    "sns.displot(user['rank'])\n",
    "plt.title(\"Rank mof users\")"
   ]
  },
  {
   "cell_type": "markdown",
   "id": "d4674ccb",
   "metadata": {},
   "source": [
    "Majority of the users belongs to beginner and intermediate level.Very few observations for expert and advanced "
   ]
  },
  {
   "cell_type": "markdown",
   "id": "aad4346c",
   "metadata": {},
   "source": [
    "### Studying the relation between rank of user and attempt range"
   ]
  },
  {
   "cell_type": "code",
   "execution_count": 134,
   "id": "6bf5a129",
   "metadata": {},
   "outputs": [
    {
     "data": {
      "text/plain": [
       "Text(0.5, 1.0, 'Rank wise count of user per attempts range')"
      ]
     },
     "execution_count": 134,
     "metadata": {},
     "output_type": "execute_result"
    },
    {
     "data": {
      "image/png": "[encoded data removed]",
      "text/plain": [
       "<Figure size 432x288 with 1 Axes>"
      ]
     },
     "metadata": {},
     "output_type": "display_data"
    }
   ],
   "source": [
    "pd.crosstab(fnl['attempts_range'],fnl['rank']).plot(kind='line',marker='o')\n",
    "plt.title('Rank wise count of user per attempts range')"
   ]
  },
  {
   "cell_type": "markdown",
   "id": "d05de770",
   "metadata": {},
   "source": [
    "While studying taregt variable we had seen that attempt range is highly distributed around 1 and 2.\n",
    "Here we observe that even most of the beginer and expert takes 1 or 2 attempts to solve the problem.\n",
    "The reason why many beginer and intrmediate solve problem in one attempt may be it is becaus that problems given to them are  may be simpler one to solve."
   ]
  },
  {
   "cell_type": "markdown",
   "id": "d8410f1c",
   "metadata": {},
   "source": [
    "In the above plot very few expert were taking 1 and 2 attempts range.But now looking at cross table  there are very few users at expert level. May be this is why graph is showing very few pepole from exprt lvl who solved prblm within 1 or 2 attmpts range."
   ]
  },
  {
   "cell_type": "markdown",
   "id": "b4cf2b59",
   "metadata": {},
   "source": [
    "### Rank of user and problem leveltype"
   ]
  },
  {
   "cell_type": "code",
   "execution_count": 135,
   "id": "2cad95ad",
   "metadata": {},
   "outputs": [
    {
     "data": {
      "text/plain": [
       "Text(0.5, 1.0, 'distribution plot of Rank of users and type of problem solved')"
      ]
     },
     "execution_count": 135,
     "metadata": {},
     "output_type": "execute_result"
    },
    {
     "data": {
      "image/png": "[encoded data removed]",
      "text/plain": [
       "<Figure size 811.375x360 with 1 Axes>"
      ]
     },
     "metadata": {},
     "output_type": "display_data"
    }
   ],
   "source": [
    "myvector=(['A','B','C','D','E','F','G','H','I','J','K','L','M','N'])\n",
    "sns.displot(data=fnl,x='level_type',hue='rank',multiple='stack',aspect=2,col_order=['A','B','C','D','E','F','G','H','I','J','K','L','M','N'])\n",
    "plt.title(\"distribution plot of Rank of users and type of problem solved\")"
   ]
  },
  {
   "cell_type": "markdown",
   "id": "1554eae9",
   "metadata": {},
   "source": [
    "Intermediate user have found trying to solve almost all type of problem\n",
    "Most of the beginer are found to be solving type A,B in majority followed by type D and C\n",
    "Expert have found solving problems of type between A to F"
   ]
  },
  {
   "cell_type": "markdown",
   "id": "a997130c",
   "metadata": {},
   "source": [
    "#### Analysing which country has more no of users"
   ]
  },
  {
   "cell_type": "code",
   "execution_count": 136,
   "id": "dc916f75",
   "metadata": {},
   "outputs": [
    {
     "data": {
      "text/plain": [
       "Text(0.5, 1.0, 'country with highest users')"
      ]
     },
     "execution_count": 136,
     "metadata": {},
     "output_type": "execute_result"
    },
    {
     "data": {
      "image/png": "[encoded data removed]",
      "text/plain": [
       "<Figure size 432x288 with 1 Axes>"
      ]
     },
     "metadata": {},
     "output_type": "display_data"
    }
   ],
   "source": [
    "g=sns.countplot(x='country',data=user,order=fnl['country'].value_counts()[:10].index)\n",
    "g.set_xticklabels(g.get_xticklabels(),rotation='90',ha='right')\n",
    "plt.title(\"country with highest users\")"
   ]
  },
  {
   "cell_type": "markdown",
   "id": "ed1f84b8",
   "metadata": {},
   "source": [
    "India has highest users followed by Bangladesh and Russia where as China and Egypt stands at 4th and 5th place based on no of users.\n",
    "Countries like India Bangladesh and China which are in Asia(continent) are three among 5 countries with hieghest users."
   ]
  },
  {
   "cell_type": "markdown",
   "id": "54aaa8f7",
   "metadata": {},
   "source": [
    "#### Comparison across levels of rank(categorical vrbl) based on timespent "
   ]
  },
  {
   "cell_type": "code",
   "execution_count": 137,
   "id": "b4f2f0e5",
   "metadata": {},
   "outputs": [
    {
     "data": {
      "text/plain": [
       "0     433.162141\n",
       "1     660.935648\n",
       "2     593.732049\n",
       "3    1788.623634\n",
       "4    1169.594155\n",
       "Name: days, dtype: float64"
      ]
     },
     "execution_count": 137,
     "metadata": {},
     "output_type": "execute_result"
    }
   ],
   "source": [
    "#formulae to convert timedelta64 to only days format (float)\n",
    "user['days']=user.timespent.dt.days+ (user.timespent.dt.seconds / (60*60*24))\n",
    "user['days'].head(5)\n",
    "\n"
   ]
  },
  {
   "cell_type": "code",
   "execution_count": 138,
   "id": "ee484707",
   "metadata": {},
   "outputs": [
    {
     "data": {
      "image/png": "[encoded data removed]",
      "text/plain": [
       "<Figure size 432x288 with 1 Axes>"
      ]
     },
     "metadata": {},
     "output_type": "display_data"
    }
   ],
   "source": [
    "sns.boxplot(x='rank',y=user['days'],data=user,order=['beginner','intermediate','advanced','expert'])\n",
    "plt.title(\"Distribution of days spent based on different ranks\")\n",
    "plt.show()"
   ]
  },
  {
   "cell_type": "markdown",
   "id": "f2eccb06",
   "metadata": {},
   "source": [
    "by looking at distribution of user levels based on time spent(i.e no of days) we can coclude that more no of time they spend on practicing in the website more skills they acquire\n",
    "experts have spent on a median of 2000 days where intermediates spent 600-700\n",
    "days\n",
    "There are some outlier in no of days spent for beginer and intermediate level users\n"
   ]
  },
  {
   "cell_type": "markdown",
   "id": "cc9fcd79",
   "metadata": {},
   "source": [
    "### Level Type"
   ]
  },
  {
   "cell_type": "code",
   "execution_count": 139,
   "id": "e3a47c00",
   "metadata": {},
   "outputs": [
    {
     "data": {
      "text/plain": [
       "level_type\n",
       "A    1\n",
       "B    1\n",
       "C    1\n",
       "D    1\n",
       "E    1\n",
       "F    1\n",
       "G    1\n",
       "H    1\n",
       "I    1\n",
       "J    1\n",
       "K    1\n",
       "L    1\n",
       "M    1\n",
       "N    1\n",
       "Name: attempts_range, dtype: int64"
      ]
     },
     "execution_count": 139,
     "metadata": {},
     "output_type": "execute_result"
    }
   ],
   "source": [
    "fnl.groupby('level_type')['attempts_range'].agg(pd.Series.mode)"
   ]
  },
  {
   "cell_type": "code",
   "execution_count": 140,
   "id": "99b07d69",
   "metadata": {},
   "outputs": [
    {
     "data": {
      "image/png": "[encoded data removed]",
      "text/plain": [
       "<Figure size 432x288 with 1 Axes>"
      ]
     },
     "metadata": {},
     "output_type": "display_data"
    }
   ],
   "source": [
    "sns.countplot(prblm['level_type'])\n",
    "plt.title(\"Count plot of problem level type\")\n",
    "plt.show()"
   ]
  },
  {
   "cell_type": "code",
   "execution_count": 141,
   "id": "c1d6a919",
   "metadata": {},
   "outputs": [
    {
     "data": {
      "image/png": "[encoded data removed]",
      "text/plain": [
       "<Figure size 432x288 with 1 Axes>"
      ]
     },
     "metadata": {},
     "output_type": "display_data"
    }
   ],
   "source": [
    "plt.plot(prblm.groupby('level_type')['level_type'].count())\n",
    "plt.title(\"Count plot of problem level type\")\n",
    "plt.show()"
   ]
  },
  {
   "cell_type": "code",
   "execution_count": 142,
   "id": "e6f10266",
   "metadata": {},
   "outputs": [
    {
     "data": {
      "image/png": "[encoded data removed]",
      "text/plain": [
       "<Figure size 432x288 with 1 Axes>"
      ]
     },
     "metadata": {},
     "output_type": "display_data"
    }
   ],
   "source": [
    "plt.plot(fnl.groupby('level_type')['level_type'].count())\n",
    "plt.title(\"Count plot of problem level type\")\n",
    "plt.show()"
   ]
  },
  {
   "cell_type": "markdown",
   "id": "9cdef1aa",
   "metadata": {},
   "source": [
    "Problems of leveltype between A to E has many observations where as L,M,N has least observations"
   ]
  },
  {
   "cell_type": "markdown",
   "id": "a84dee72",
   "metadata": {},
   "source": [
    "### Analysis of rank and rating"
   ]
  },
  {
   "cell_type": "code",
   "execution_count": 143,
   "id": "8c47b57f",
   "metadata": {},
   "outputs": [
    {
     "data": {
      "text/plain": [
       "Text(0.5, 1.0, 'Distribution of user ratings based on user ranks')"
      ]
     },
     "execution_count": 143,
     "metadata": {},
     "output_type": "execute_result"
    },
    {
     "data": {
      "image/png": "[encoded data removed]",
      "text/plain": [
       "<Figure size 432x288 with 1 Axes>"
      ]
     },
     "metadata": {},
     "output_type": "display_data"
    }
   ],
   "source": [
    "sns.boxplot(x='rank',y=user['rating'],data=user,order=['beginner','intermediate','advanced','expert'])\n",
    "plt.title(\"Distribution of user ratings based on user ranks\")"
   ]
  },
  {
   "cell_type": "markdown",
   "id": "50848576",
   "metadata": {},
   "source": [
    "By looking at distribution of ratings based on rank it looks like there is some relation between these two variable. Higher the the rank higher the rating is."
   ]
  },
  {
   "cell_type": "code",
   "execution_count": 144,
   "id": "e9ef35e3",
   "metadata": {},
   "outputs": [
    {
     "data": {
      "text/plain": [
       "<AxesSubplot:xlabel='rank', ylabel='rating'>"
      ]
     },
     "execution_count": 144,
     "metadata": {},
     "output_type": "execute_result"
    },
    {
     "data": {
      "image/png": "[encoded data removed]",
      "text/plain": [
       "<Figure size 432x288 with 1 Axes>"
      ]
     },
     "metadata": {},
     "output_type": "display_data"
    }
   ],
   "source": [
    "sns.boxplot(x='rank',y='rating',data=fnl,order=['beginner','intermediate','advanced','expert'])"
   ]
  },
  {
   "cell_type": "code",
   "execution_count": 145,
   "id": "da92685f",
   "metadata": {},
   "outputs": [
    {
     "data": {
      "text/plain": [
       "Text(0.5, 1.0, 'Distribution of user ratings based on attempts range')"
      ]
     },
     "execution_count": 145,
     "metadata": {},
     "output_type": "execute_result"
    },
    {
     "data": {
      "image/png": "[encoded data removed]",
      "text/plain": [
       "<Figure size 432x288 with 1 Axes>"
      ]
     },
     "metadata": {},
     "output_type": "display_data"
    }
   ],
   "source": [
    "sns.boxplot(x='attempts_range',y=user['rating'],data=fnl,)\n",
    "plt.title(\"Distribution of user ratings based on attempts range\")"
   ]
  },
  {
   "cell_type": "markdown",
   "id": "a53dbbe7",
   "metadata": {},
   "source": [
    "### Analysing probelm_solved and user ratings"
   ]
  },
  {
   "cell_type": "code",
   "execution_count": 146,
   "id": "0cb50a9a",
   "metadata": {},
   "outputs": [
    {
     "data": {
      "text/plain": [
       "Text(0.5, 0, 'User rating')"
      ]
     },
     "execution_count": 146,
     "metadata": {},
     "output_type": "execute_result"
    },
    {
     "data": {
      "image/png": "[encoded data removed]",
      "text/plain": [
       "<Figure size 432x288 with 1 Axes>"
      ]
     },
     "metadata": {},
     "output_type": "display_data"
    }
   ],
   "source": [
    "plt.scatter(x=user.rating,y=user.problem_solved)\n",
    "plt.title('Scatter plot of problemsolved vs ratings')\n",
    "plt.ylabel(\"no of problem solved\")\n",
    "plt.xlabel('User rating')"
   ]
  },
  {
   "cell_type": "markdown",
   "id": "4f4300c5",
   "metadata": {},
   "source": [
    "Its is hard to find relation between user rating and no of problem solved using scatter plot. Even people who have solved too few problem have good ratings"
   ]
  },
  {
   "cell_type": "code",
   "execution_count": 147,
   "id": "85157b3f",
   "metadata": {},
   "outputs": [
    {
     "name": "stdout",
     "output_type": "stream",
     "text": [
      "[[1.         0.55515281]\n",
      " [0.55515281 1.        ]]\n"
     ]
    }
   ],
   "source": [
    "print(np.corrcoef(user['rating'],user['problem_solved']))"
   ]
  },
  {
   "cell_type": "markdown",
   "id": "3821427b",
   "metadata": {},
   "source": [
    "Correlation coeeficient vallue is 0.55.So there is slight relation between two variable ratings and no of problem solved"
   ]
  },
  {
   "cell_type": "markdown",
   "id": "18d64373",
   "metadata": {},
   "source": [
    "### User ratings"
   ]
  },
  {
   "cell_type": "code",
   "execution_count": 148,
   "id": "a9714693",
   "metadata": {},
   "outputs": [
    {
     "data": {
      "text/plain": [
       "Text(0.5, 1.0, 'Distribution of User Rating ')"
      ]
     },
     "execution_count": 148,
     "metadata": {},
     "output_type": "execute_result"
    },
    {
     "data": {
      "image/png": "[encoded data removed]",
      "text/plain": [
       "<Figure size 432x288 with 1 Axes>"
      ]
     },
     "metadata": {},
     "output_type": "display_data"
    }
   ],
   "source": [
    "sns.boxplot(user.rating)\n",
    "plt.title(\"Distribution of User Rating \")"
   ]
  },
  {
   "cell_type": "code",
   "execution_count": 149,
   "id": "6af08e1e",
   "metadata": {},
   "outputs": [
    {
     "name": "stdout",
     "output_type": "stream",
     "text": [
      "Min of user rating 0.0\n",
      "Max of user rating 911.124\n",
      "Min  problem soplved 0\n",
      "Max  problem solved 4476\n"
     ]
    }
   ],
   "source": [
    "print(\"Min of user rating\",np.min(user['rating']))\n",
    "print(\"Max of user rating\",np.max(user['rating']))\n",
    "print(\"Min  problem soplved\",np.min(user['problem_solved']))\n",
    "print(\"Max  problem solved\",np.max(user['problem_solved']))\n",
    "\n"
   ]
  },
  {
   "cell_type": "code",
   "execution_count": 150,
   "id": "ef34fc66",
   "metadata": {},
   "outputs": [
    {
     "name": "stdout",
     "output_type": "stream",
     "text": [
      "First Quantile of submission_count distribution is 279.243 \n",
      "Second Quantile ofsubmission_count distribution is 329.702 \n",
      "Third Quantile of submission_count distribution is 413.4175 \n",
      "Forth Quantile of submission_count distribution is 911.124 \n",
      "Average submission_count is 350.2 \n"
     ]
    }
   ],
   "source": [
    "print('First Quantile of submission_count distribution is {} '.format(np.quantile(user['rating'], 0.25)))\n",
    "print('Second Quantile ofsubmission_count distribution is {} '.format(np.quantile(user['rating'], 0.50)))\n",
    "print('Third Quantile of submission_count distribution is {} '.format(np.quantile(user['rating'], 0.75)))\n",
    "print('Forth Quantile of submission_count distribution is {} '.format(np.quantile(user['rating'], 1)))\n",
    "print('Average submission_count is {} '.format(np.round(user['rating'].mean(),1)))"
   ]
  },
  {
   "cell_type": "code",
   "execution_count": 151,
   "id": "603449d6",
   "metadata": {},
   "outputs": [
    {
     "data": {
      "text/html": [
       "<div>\n",
       "<style scoped>\n",
       "    .dataframe tbody tr th:only-of-type {\n",
       "        vertical-align: middle;\n",
       "    }\n",
       "\n",
       "    .dataframe tbody tr th {\n",
       "        vertical-align: top;\n",
       "    }\n",
       "\n",
       "    .dataframe thead th {\n",
       "        text-align: right;\n",
       "    }\n",
       "</style>\n",
       "<table border=\"1\" class=\"dataframe\">\n",
       "  <thead>\n",
       "    <tr style=\"text-align: right;\">\n",
       "      <th></th>\n",
       "      <th>user_id</th>\n",
       "      <th>submission_count</th>\n",
       "      <th>problem_solved</th>\n",
       "      <th>contribution</th>\n",
       "      <th>country</th>\n",
       "      <th>follower_count</th>\n",
       "      <th>last_online_time_seconds</th>\n",
       "      <th>max_rating</th>\n",
       "      <th>rating</th>\n",
       "      <th>rank</th>\n",
       "      <th>registration_time_seconds</th>\n",
       "      <th>timespent</th>\n",
       "      <th>days</th>\n",
       "    </tr>\n",
       "  </thead>\n",
       "  <tbody>\n",
       "    <tr>\n",
       "      <th>605</th>\n",
       "      <td>user_227</td>\n",
       "      <td>347</td>\n",
       "      <td>275</td>\n",
       "      <td>3</td>\n",
       "      <td>Romania</td>\n",
       "      <td>101</td>\n",
       "      <td>1505307769</td>\n",
       "      <td>472.19</td>\n",
       "      <td>0.0</td>\n",
       "      <td>beginner</td>\n",
       "      <td>1365247630</td>\n",
       "      <td>1621 days 01:35:39</td>\n",
       "      <td>1621.066424</td>\n",
       "    </tr>\n",
       "  </tbody>\n",
       "</table>\n",
       "</div>"
      ],
      "text/plain": [
       "      user_id  submission_count  problem_solved  contribution  country  \\\n",
       "605  user_227               347             275             3  Romania   \n",
       "\n",
       "     follower_count  last_online_time_seconds  max_rating  rating      rank  \\\n",
       "605             101                1505307769      472.19     0.0  beginner   \n",
       "\n",
       "     registration_time_seconds          timespent         days  \n",
       "605                 1365247630 1621 days 01:35:39  1621.066424  "
      ]
     },
     "execution_count": 151,
     "metadata": {},
     "output_type": "execute_result"
    }
   ],
   "source": [
    "user[user['rating']==0]"
   ]
  },
  {
   "cell_type": "code",
   "execution_count": 152,
   "id": "a6c13afe",
   "metadata": {},
   "outputs": [
    {
     "name": "stdout",
     "output_type": "stream",
     "text": [
      "Ratings\n",
      "1st qaurtile 279.243\n",
      "2nd qaurtile 329.702\n",
      "3rd qaurtile 413.4175\n",
      "upper limit 614.67925\n",
      "Lower limit 77.98124999999996\n"
     ]
    }
   ],
   "source": [
    "print('Ratings')\n",
    "print(\"1st qaurtile\",np.quantile(user['rating'],0.25))\n",
    "print(\"2nd qaurtile\",np.quantile(user['rating'],0.5))\n",
    "print(\"3rd qaurtile\",np.quantile(user['rating'],0.75))\n",
    "iqr=np.quantile(user['rating'],0.75)-np.quantile(user['rating'],0.25)\n",
    "print('upper limit',np.quantile(user['rating'],0.75)+(1.5*iqr))\n",
    "print(\"Lower limit\",np.quantile(user['rating'],0.25)-(1.5*iqr))"
   ]
  },
  {
   "cell_type": "markdown",
   "id": "adc41b35",
   "metadata": {},
   "source": [
    "25% of the ratings are bellow 279.243 ,Median rating is 329.702 , and 75% of the observations in rating is below 413.4175 "
   ]
  },
  {
   "cell_type": "markdown",
   "id": "54567f91",
   "metadata": {},
   "source": [
    "### Analysing level_type and points"
   ]
  },
  {
   "cell_type": "code",
   "execution_count": 153,
   "id": "0eef19d4",
   "metadata": {},
   "outputs": [
    {
     "data": {
      "image/png": "[encoded data removed]",
      "text/plain": [
       "<Figure size 432x288 with 1 Axes>"
      ]
     },
     "metadata": {},
     "output_type": "display_data"
    }
   ],
   "source": [
    "sns.boxplot(fnl['level_type'],fnl['points'],order=['A','B','C','D','E','F','G','H','I','J','K','L','M','N'])\n",
    "plt.show()"
   ]
  },
  {
   "cell_type": "markdown",
   "id": "e2e37206",
   "metadata": {},
   "source": [
    "Point are distributed between 1000 and 2500 for problems of levle type E\n",
    "and for problems of type F has points distributed between 800 to 2200\n",
    "Problems of level type from G to N has almost similar distributiomn of points."
   ]
  },
  {
   "cell_type": "markdown",
   "id": "7932ffe9",
   "metadata": {},
   "source": [
    "### Analysing Problem solved"
   ]
  },
  {
   "cell_type": "code",
   "execution_count": 154,
   "id": "e9562140",
   "metadata": {},
   "outputs": [
    {
     "data": {
      "image/png": "[encoded data removed]",
      "text/plain": [
       "<Figure size 432x288 with 1 Axes>"
      ]
     },
     "metadata": {},
     "output_type": "display_data"
    }
   ],
   "source": [
    "sns.boxplot(y='problem_solved',x='rank',data=fnl,order=['beginner','intermediate','advanced','expert'])\n",
    "plt.title(\"distribution of problem solved over different ranks\")\n",
    "plt.show()"
   ]
  },
  {
   "cell_type": "markdown",
   "id": "2c8f4b33",
   "metadata": {},
   "source": [
    "Experts are found to be solving more no of problem and users from adnaced category found to be second most problem solvers and distribution of problem solved found to be very less in beginer and inter mediate."
   ]
  },
  {
   "cell_type": "code",
   "execution_count": 155,
   "id": "827ea7f4",
   "metadata": {},
   "outputs": [
    {
     "data": {
      "text/plain": [
       "user_id                          0\n",
       "submission_count                 0\n",
       "problem_solved                   0\n",
       "contribution                     0\n",
       "country                      37732\n",
       "follower_count                   0\n",
       "last_online_time_seconds         0\n",
       "max_rating                       0\n",
       "rating                           0\n",
       "rank                             0\n",
       "registration_time_seconds        0\n",
       "problem_id                       0\n",
       "attempts_range                   0\n",
       "level_type                       0\n",
       "points                           0\n",
       "tags                             0\n",
       "timespent                        0\n",
       "days                             0\n",
       "dtype: int64"
      ]
     },
     "execution_count": 155,
     "metadata": {},
     "output_type": "execute_result"
    }
   ],
   "source": [
    "fnl.isnull().sum()"
   ]
  },
  {
   "cell_type": "markdown",
   "id": "3a6a2e1e",
   "metadata": {},
   "source": [
    "### Statistical Testing"
   ]
  },
  {
   "cell_type": "markdown",
   "id": "8402cebb",
   "metadata": {},
   "source": [
    "##### Testing the independence of user rank and problem level type\n",
    "###### H0: There is no significant relationship between problem level_type and user rank\n",
    "###### H1: There is significant relationship between problem level_type and user rank"
   ]
  },
  {
   "cell_type": "code",
   "execution_count": 156,
   "id": "0c79a4d7",
   "metadata": {},
   "outputs": [],
   "source": [
    "tst1=fnl[fnl['level_type'].isin(['A','B','C','D','E','F','G'])]"
   ]
  },
  {
   "cell_type": "code",
   "execution_count": 157,
   "id": "549f55a4",
   "metadata": {},
   "outputs": [
    {
     "data": {
      "text/html": [
       "<div>\n",
       "<style scoped>\n",
       "    .dataframe tbody tr th:only-of-type {\n",
       "        vertical-align: middle;\n",
       "    }\n",
       "\n",
       "    .dataframe tbody tr th {\n",
       "        vertical-align: top;\n",
       "    }\n",
       "\n",
       "    .dataframe thead th {\n",
       "        text-align: right;\n",
       "    }\n",
       "</style>\n",
       "<table border=\"1\" class=\"dataframe\">\n",
       "  <thead>\n",
       "    <tr style=\"text-align: right;\">\n",
       "      <th>level_type</th>\n",
       "      <th>A</th>\n",
       "      <th>B</th>\n",
       "      <th>C</th>\n",
       "      <th>D</th>\n",
       "      <th>E</th>\n",
       "      <th>F</th>\n",
       "      <th>G</th>\n",
       "      <th>All</th>\n",
       "    </tr>\n",
       "    <tr>\n",
       "      <th>rank</th>\n",
       "      <th></th>\n",
       "      <th></th>\n",
       "      <th></th>\n",
       "      <th></th>\n",
       "      <th></th>\n",
       "      <th></th>\n",
       "      <th></th>\n",
       "      <th></th>\n",
       "    </tr>\n",
       "  </thead>\n",
       "  <tbody>\n",
       "    <tr>\n",
       "      <th>advanced</th>\n",
       "      <td>6492</td>\n",
       "      <td>6276</td>\n",
       "      <td>6427</td>\n",
       "      <td>4829</td>\n",
       "      <td>2713</td>\n",
       "      <td>1002</td>\n",
       "      <td>634</td>\n",
       "      <td>28373</td>\n",
       "    </tr>\n",
       "    <tr>\n",
       "      <th>beginner</th>\n",
       "      <td>29455</td>\n",
       "      <td>14951</td>\n",
       "      <td>5329</td>\n",
       "      <td>1690</td>\n",
       "      <td>559</td>\n",
       "      <td>219</td>\n",
       "      <td>183</td>\n",
       "      <td>52386</td>\n",
       "    </tr>\n",
       "    <tr>\n",
       "      <th>expert</th>\n",
       "      <td>794</td>\n",
       "      <td>772</td>\n",
       "      <td>1075</td>\n",
       "      <td>985</td>\n",
       "      <td>693</td>\n",
       "      <td>313</td>\n",
       "      <td>182</td>\n",
       "      <td>4814</td>\n",
       "    </tr>\n",
       "    <tr>\n",
       "      <th>intermediate</th>\n",
       "      <td>22977</td>\n",
       "      <td>18420</td>\n",
       "      <td>13045</td>\n",
       "      <td>6421</td>\n",
       "      <td>2232</td>\n",
       "      <td>784</td>\n",
       "      <td>545</td>\n",
       "      <td>64424</td>\n",
       "    </tr>\n",
       "    <tr>\n",
       "      <th>All</th>\n",
       "      <td>59718</td>\n",
       "      <td>40419</td>\n",
       "      <td>25876</td>\n",
       "      <td>13925</td>\n",
       "      <td>6197</td>\n",
       "      <td>2318</td>\n",
       "      <td>1544</td>\n",
       "      <td>149997</td>\n",
       "    </tr>\n",
       "  </tbody>\n",
       "</table>\n",
       "</div>"
      ],
      "text/plain": [
       "level_type        A      B      C      D     E     F     G     All\n",
       "rank                                                              \n",
       "advanced       6492   6276   6427   4829  2713  1002   634   28373\n",
       "beginner      29455  14951   5329   1690   559   219   183   52386\n",
       "expert          794    772   1075    985   693   313   182    4814\n",
       "intermediate  22977  18420  13045   6421  2232   784   545   64424\n",
       "All           59718  40419  25876  13925  6197  2318  1544  149997"
      ]
     },
     "execution_count": 157,
     "metadata": {},
     "output_type": "execute_result"
    }
   ],
   "source": [
    "crs1=pd.crosstab(tst1['rank'],tst1['level_type'],margins=True)\n",
    "crs1\n"
   ]
  },
  {
   "cell_type": "code",
   "execution_count": 158,
   "id": "c4f5c993",
   "metadata": {},
   "outputs": [
    {
     "data": {
      "text/plain": [
       "(21573.86131855569, 0.0, 18)"
      ]
     },
     "execution_count": 158,
     "metadata": {},
     "output_type": "execute_result"
    }
   ],
   "source": [
    "obs=np.array(crs1.iloc[0:4,:7])\n",
    "\n",
    "stat.chi2_contingency(obs)[0:3]"
   ]
  },
  {
   "cell_type": "markdown",
   "id": "0dd20c12",
   "metadata": {},
   "source": [
    "###### P value is 0 so we reject the null hypothesis and conclude that user level and problem type are associated."
   ]
  },
  {
   "cell_type": "markdown",
   "id": "64855fdb",
   "metadata": {},
   "source": [
    "Cramer V test"
   ]
  },
  {
   "cell_type": "code",
   "execution_count": 159,
   "id": "4c41a85b",
   "metadata": {},
   "outputs": [
    {
     "data": {
      "text/plain": [
       "3"
      ]
     },
     "execution_count": 159,
     "metadata": {},
     "output_type": "execute_result"
    }
   ],
   "source": [
    "min_dimnsn=np.min(obs.shape)-1\n",
    "min_dimnsn"
   ]
  },
  {
   "cell_type": "code",
   "execution_count": 160,
   "id": "95edf2b8",
   "metadata": {},
   "outputs": [
    {
     "data": {
      "text/plain": [
       "0.21895861001269815"
      ]
     },
     "execution_count": 160,
     "metadata": {},
     "output_type": "execute_result"
    }
   ],
   "source": [
    "cramerv=np.sqrt((stat.chi2_contingency(obs)[0]/np.sum(obs))/min_dimnsn)\n",
    "cramerv"
   ]
  },
  {
   "cell_type": "markdown",
   "id": "51aa26d8",
   "metadata": {},
   "source": [
    "###### CramerV value is almost nearer to 0.2 so we conclude that there is a weak  relation between probelm level type and user rank"
   ]
  },
  {
   "cell_type": "markdown",
   "id": "fe185a0b",
   "metadata": {},
   "source": [
    "# Testing the independence of user rank and Attempt range\n",
    "###### H0: There is no significant relationship between attempts range and user rank\n",
    "###### H1: There is significant relationship between attempts range and user rank"
   ]
  },
  {
   "cell_type": "code",
   "execution_count": 161,
   "id": "0d9a68e1",
   "metadata": {},
   "outputs": [
    {
     "data": {
      "text/html": [
       "<div>\n",
       "<style scoped>\n",
       "    .dataframe tbody tr th:only-of-type {\n",
       "        vertical-align: middle;\n",
       "    }\n",
       "\n",
       "    .dataframe tbody tr th {\n",
       "        vertical-align: top;\n",
       "    }\n",
       "\n",
       "    .dataframe thead th {\n",
       "        text-align: right;\n",
       "    }\n",
       "</style>\n",
       "<table border=\"1\" class=\"dataframe\">\n",
       "  <thead>\n",
       "    <tr style=\"text-align: right;\">\n",
       "      <th>attempts_range</th>\n",
       "      <th>1</th>\n",
       "      <th>2</th>\n",
       "      <th>3</th>\n",
       "      <th>4</th>\n",
       "      <th>5</th>\n",
       "      <th>6</th>\n",
       "    </tr>\n",
       "    <tr>\n",
       "      <th>rank</th>\n",
       "      <th></th>\n",
       "      <th></th>\n",
       "      <th></th>\n",
       "      <th></th>\n",
       "      <th></th>\n",
       "      <th></th>\n",
       "    </tr>\n",
       "  </thead>\n",
       "  <tbody>\n",
       "    <tr>\n",
       "      <th>advanced</th>\n",
       "      <td>16602</td>\n",
       "      <td>9017</td>\n",
       "      <td>2426</td>\n",
       "      <td>982</td>\n",
       "      <td>435</td>\n",
       "      <td>660</td>\n",
       "    </tr>\n",
       "    <tr>\n",
       "      <th>beginner</th>\n",
       "      <td>26991</td>\n",
       "      <td>16768</td>\n",
       "      <td>5303</td>\n",
       "      <td>2058</td>\n",
       "      <td>912</td>\n",
       "      <td>1012</td>\n",
       "    </tr>\n",
       "    <tr>\n",
       "      <th>expert</th>\n",
       "      <td>3263</td>\n",
       "      <td>1408</td>\n",
       "      <td>290</td>\n",
       "      <td>105</td>\n",
       "      <td>58</td>\n",
       "      <td>85</td>\n",
       "    </tr>\n",
       "    <tr>\n",
       "      <th>intermediate</th>\n",
       "      <td>35620</td>\n",
       "      <td>19942</td>\n",
       "      <td>6063</td>\n",
       "      <td>2333</td>\n",
       "      <td>1079</td>\n",
       "      <td>1263</td>\n",
       "    </tr>\n",
       "  </tbody>\n",
       "</table>\n",
       "</div>"
      ],
      "text/plain": [
       "attempts_range      1      2     3     4     5     6\n",
       "rank                                                \n",
       "advanced        16602   9017  2426   982   435   660\n",
       "beginner        26991  16768  5303  2058   912  1012\n",
       "expert           3263   1408   290   105    58    85\n",
       "intermediate    35620  19942  6063  2333  1079  1263"
      ]
     },
     "execution_count": 161,
     "metadata": {},
     "output_type": "execute_result"
    }
   ],
   "source": [
    "crs2=pd.crosstab(fnl['rank'],fnl['attempts_range'])\n",
    "crs2"
   ]
  },
  {
   "cell_type": "code",
   "execution_count": 162,
   "id": "ffa5babc",
   "metadata": {},
   "outputs": [
    {
     "data": {
      "text/plain": [
       "(456.1746093160834,\n",
       " 1.0255713829788438e-87,\n",
       " 15,\n",
       " array([[16061.69110716,  9179.24984645,  2742.3824406 ,  1066.80663326,\n",
       "           483.74364312,   588.1263294 ],\n",
       "        [28284.1890674 , 16164.40239211,  4829.25882011,  1878.61666074,\n",
       "           851.85903346,  1035.67402618],\n",
       "        [ 2777.54959754,  1587.36844998,   474.2404267 ,   184.48296105,\n",
       "            83.653829  ,   101.70473574],\n",
       "        [35352.5702279 , 20203.97931146,  6036.11831259,  2348.09374495,\n",
       "          1064.74349442,  1294.49490868]]))"
      ]
     },
     "execution_count": 162,
     "metadata": {},
     "output_type": "execute_result"
    }
   ],
   "source": [
    "stat.chi2_contingency(crs2)"
   ]
  },
  {
   "cell_type": "markdown",
   "id": "65164690",
   "metadata": {},
   "source": [
    "###### P value is less than 0.05 so we reject the null hypothesis and conclude that user level and attempts_range are associated."
   ]
  },
  {
   "cell_type": "code",
   "execution_count": 163,
   "id": "e94b6935",
   "metadata": {},
   "outputs": [
    {
     "data": {
      "text/plain": [
       "3"
      ]
     },
     "execution_count": 163,
     "metadata": {},
     "output_type": "execute_result"
    }
   ],
   "source": [
    "min_dimnsn=np.min(crs2.shape)-1\n",
    "min_dimnsn"
   ]
  },
  {
   "cell_type": "code",
   "execution_count": 164,
   "id": "97764035",
   "metadata": {},
   "outputs": [
    {
     "data": {
      "text/plain": [
       "0.03135413794210461"
      ]
     },
     "execution_count": 164,
     "metadata": {},
     "output_type": "execute_result"
    }
   ],
   "source": [
    "cramerv=np.sqrt((stat.chi2_contingency(crs2)[0]/sum(np.sum(crs2)))/min_dimnsn)\n",
    "cramerv"
   ]
  },
  {
   "cell_type": "markdown",
   "id": "ace6d736",
   "metadata": {},
   "source": [
    "###### cramer_v value is 0.0314 which is very low so we conclude that there is a weak relationship between user rank and attempts range"
   ]
  },
  {
   "cell_type": "markdown",
   "id": "582d2afc",
   "metadata": {},
   "source": [
    "### Testing the relation between user_rank  and problem_solved"
   ]
  },
  {
   "cell_type": "markdown",
   "id": "aeeb7e6f",
   "metadata": {},
   "source": [
    "###### Testing assumption of anova"
   ]
  },
  {
   "cell_type": "code",
   "execution_count": 165,
   "id": "1dc3e9fe",
   "metadata": {},
   "outputs": [],
   "source": [
    "# Normality"
   ]
  },
  {
   "cell_type": "markdown",
   "id": "36ef21e7",
   "metadata": {},
   "source": [
    "###### H0:There is no significant difference among group means\n",
    "###### H1 : There is a significant difference among group means for atleaast two groups"
   ]
  },
  {
   "cell_type": "code",
   "execution_count": 166,
   "id": "b63a3909",
   "metadata": {},
   "outputs": [],
   "source": [
    "#To get rid of repeated observation in dataframe\n",
    "fn_1=fnl.copy()\n",
    "fn_1.drop_duplicates(subset='user_id',keep='first',inplace=True)\n"
   ]
  },
  {
   "cell_type": "code",
   "execution_count": 168,
   "id": "9e5c2e96",
   "metadata": {},
   "outputs": [
    {
     "data": {
      "image/png": "[encoded data removed]",
      "text/plain": [
       "<Figure size 432x288 with 1 Axes>"
      ]
     },
     "metadata": {},
     "output_type": "display_data"
    },
    {
     "data": {
      "image/png": "[encoded data removed]",
      "text/plain": [
       "<Figure size 432x288 with 1 Axes>"
      ]
     },
     "metadata": {},
     "output_type": "display_data"
    },
    {
     "data": {
      "image/png": "[encoded data removed]",
      "text/plain": [
       "<Figure size 432x288 with 1 Axes>"
      ]
     },
     "metadata": {},
     "output_type": "display_data"
    },
    {
     "data": {
      "image/png": "[encoded data removed]",
      "text/plain": [
       "<Figure size 432x288 with 1 Axes>"
      ]
     },
     "metadata": {},
     "output_type": "display_data"
    }
   ],
   "source": [
    "#Checking for  normality\n",
    "for i in fn_1['rank'].unique():\n",
    "        stat.probplot(fn_1[fn_1['rank']==i]['problem_solved'],dist='norm',plot=plt)\n",
    "        plt.title('Q-Q plot of' + i)\n",
    "        plt.show()"
   ]
  },
  {
   "cell_type": "code",
   "execution_count": 169,
   "id": "96d323b1",
   "metadata": {},
   "outputs": [
    {
     "name": "stdout",
     "output_type": "stream",
     "text": [
      "No of observation for each values of categorical variable rank\n"
     ]
    },
    {
     "data": {
      "text/plain": [
       "intermediate    66300\n",
       "beginner        53044\n",
       "advanced        30122\n",
       "expert           5209\n",
       "Name: rank, dtype: int64"
      ]
     },
     "execution_count": 169,
     "metadata": {},
     "output_type": "execute_result"
    }
   ],
   "source": [
    "print(\"No of observation for each values of categorical variable rank\")\n",
    "fnl['rank'].value_counts()"
   ]
  },
  {
   "cell_type": "markdown",
   "id": "a0245996",
   "metadata": {},
   "source": [
    "Since observation are large enough we assume that data is normally distributed"
   ]
  },
  {
   "cell_type": "code",
   "execution_count": 170,
   "id": "0b46013b",
   "metadata": {},
   "outputs": [],
   "source": [
    "# Variance"
   ]
  },
  {
   "cell_type": "markdown",
   "id": "c965174b",
   "metadata": {},
   "source": [
    "###### H0: Groups have equall variance\n",
    "###### H1: Atleast one group has different variance compared to others"
   ]
  },
  {
   "cell_type": "code",
   "execution_count": 171,
   "id": "3171422e",
   "metadata": {},
   "outputs": [
    {
     "data": {
      "text/plain": [
       "rank\n",
       "expert          768.343682\n",
       "advanced        477.676716\n",
       "intermediate    259.947050\n",
       "beginner        152.189074\n",
       "Name: problem_solved, dtype: float64"
      ]
     },
     "execution_count": 171,
     "metadata": {},
     "output_type": "execute_result"
    }
   ],
   "source": [
    "fnl.groupby('rank')['problem_solved'].std().nlargest()"
   ]
  },
  {
   "cell_type": "code",
   "execution_count": 172,
   "id": "05c3d87c",
   "metadata": {},
   "outputs": [
    {
     "data": {
      "text/plain": [
       "5.021383265195975"
      ]
     },
     "execution_count": 172,
     "metadata": {},
     "output_type": "execute_result"
    }
   ],
   "source": [
    "#Homogenity of variance\n",
    "fn_1.groupby('rank')['problem_solved'].std().max()/fn_1.groupby('rank')['problem_solved'].std().min()"
   ]
  },
  {
   "cell_type": "markdown",
   "id": "be4963d2",
   "metadata": {},
   "source": [
    "Ratio is 5.02 which is greater than threshold value 2 \n",
    "Assumption of homogenity in variance doesnt holds so we go for non parametric test"
   ]
  },
  {
   "cell_type": "code",
   "execution_count": 173,
   "id": "68adbf87",
   "metadata": {},
   "outputs": [],
   "source": [
    "fn=fnl.copy()"
   ]
  },
  {
   "cell_type": "code",
   "execution_count": 174,
   "id": "7f61db34",
   "metadata": {},
   "outputs": [],
   "source": [
    "fn.drop_duplicates(subset='user_id',keep='first',inplace=True)"
   ]
  },
  {
   "cell_type": "code",
   "execution_count": 175,
   "id": "785f35b2",
   "metadata": {},
   "outputs": [],
   "source": [
    "k=[]\n",
    "for i in fn['rank'].unique():\n",
    "    k.append(fn[fn['rank']==i]['problem_solved'])"
   ]
  },
  {
   "cell_type": "code",
   "execution_count": 176,
   "id": "4da4630d",
   "metadata": {},
   "outputs": [
    {
     "data": {
      "text/plain": [
       "BartlettResult(statistic=1602.6492977097962, pvalue=0.0)"
      ]
     },
     "execution_count": 176,
     "metadata": {},
     "output_type": "execute_result"
    }
   ],
   "source": [
    "stat.bartlett(k[0],k[1],k[2],k[3])"
   ]
  },
  {
   "cell_type": "markdown",
   "id": "7e30a42d",
   "metadata": {},
   "source": [
    "###### Here p value is less than 0.05 so we reject the null hypothesis and conclude that group variance are not equall for all the groups"
   ]
  },
  {
   "cell_type": "code",
   "execution_count": 177,
   "id": "afdd926c",
   "metadata": {},
   "outputs": [],
   "source": [
    "#Assumptions of anova are failed lets go for alternative non parametric test"
   ]
  },
  {
   "cell_type": "markdown",
   "id": "c8927466",
   "metadata": {},
   "source": [
    "###### Ho:The median is same for all the data groups"
   ]
  },
  {
   "cell_type": "markdown",
   "id": "c4d1b116",
   "metadata": {},
   "source": [
    "###### H1:The median is not same for all data group"
   ]
  },
  {
   "cell_type": "code",
   "execution_count": 178,
   "id": "7eb09c23",
   "metadata": {},
   "outputs": [
    {
     "data": {
      "text/plain": [
       "KruskalResult(statistic=996.4395456079167, pvalue=1.0653753085302547e-215)"
      ]
     },
     "execution_count": 178,
     "metadata": {},
     "output_type": "execute_result"
    }
   ],
   "source": [
    "stat.kruskal(k[0],k[1],k[2],k[3])"
   ]
  },
  {
   "cell_type": "markdown",
   "id": "914e790f",
   "metadata": {},
   "source": [
    "###### Here p value is less than 0.05 so we rejct the null hypothesis and conclude that median is not same for all the groups"
   ]
  },
  {
   "cell_type": "code",
   "execution_count": 179,
   "id": "2b09b0e5",
   "metadata": {},
   "outputs": [
    {
     "data": {
      "text/html": [
       "<div>\n",
       "<style scoped>\n",
       "    .dataframe tbody tr th:only-of-type {\n",
       "        vertical-align: middle;\n",
       "    }\n",
       "\n",
       "    .dataframe tbody tr th {\n",
       "        vertical-align: top;\n",
       "    }\n",
       "\n",
       "    .dataframe thead th {\n",
       "        text-align: right;\n",
       "    }\n",
       "</style>\n",
       "<table border=\"1\" class=\"dataframe\">\n",
       "  <thead>\n",
       "    <tr style=\"text-align: right;\">\n",
       "      <th></th>\n",
       "      <th>user_id</th>\n",
       "      <th>submission_count</th>\n",
       "      <th>problem_solved</th>\n",
       "      <th>contribution</th>\n",
       "      <th>country</th>\n",
       "      <th>follower_count</th>\n",
       "      <th>last_online_time_seconds</th>\n",
       "      <th>max_rating</th>\n",
       "      <th>rating</th>\n",
       "      <th>rank</th>\n",
       "      <th>registration_time_seconds</th>\n",
       "      <th>problem_id</th>\n",
       "      <th>attempts_range</th>\n",
       "      <th>level_type</th>\n",
       "      <th>points</th>\n",
       "      <th>tags</th>\n",
       "      <th>timespent</th>\n",
       "      <th>days</th>\n",
       "    </tr>\n",
       "  </thead>\n",
       "  <tbody>\n",
       "    <tr>\n",
       "      <th>0</th>\n",
       "      <td>user_3311</td>\n",
       "      <td>47</td>\n",
       "      <td>40</td>\n",
       "      <td>0</td>\n",
       "      <td>NaN</td>\n",
       "      <td>4</td>\n",
       "      <td>1504111645</td>\n",
       "      <td>348.337</td>\n",
       "      <td>330.849</td>\n",
       "      <td>intermediate</td>\n",
       "      <td>1466686436</td>\n",
       "      <td>prob_75</td>\n",
       "      <td>1</td>\n",
       "      <td>A</td>\n",
       "      <td>500.0</td>\n",
       "      <td>implementation</td>\n",
       "      <td>433 days 03:53:29</td>\n",
       "      <td>433.162141</td>\n",
       "    </tr>\n",
       "    <tr>\n",
       "      <th>1</th>\n",
       "      <td>user_1972</td>\n",
       "      <td>107</td>\n",
       "      <td>99</td>\n",
       "      <td>0</td>\n",
       "      <td>India</td>\n",
       "      <td>11</td>\n",
       "      <td>1504291325</td>\n",
       "      <td>304.186</td>\n",
       "      <td>203.842</td>\n",
       "      <td>beginner</td>\n",
       "      <td>1439050893</td>\n",
       "      <td>prob_75</td>\n",
       "      <td>2</td>\n",
       "      <td>A</td>\n",
       "      <td>500.0</td>\n",
       "      <td>implementation</td>\n",
       "      <td>755 days 02:20:32</td>\n",
       "      <td>755.097593</td>\n",
       "    </tr>\n",
       "    <tr>\n",
       "      <th>2</th>\n",
       "      <td>user_3317</td>\n",
       "      <td>735</td>\n",
       "      <td>715</td>\n",
       "      <td>0</td>\n",
       "      <td>Vietnam</td>\n",
       "      <td>9</td>\n",
       "      <td>1484278246</td>\n",
       "      <td>419.438</td>\n",
       "      <td>353.211</td>\n",
       "      <td>intermediate</td>\n",
       "      <td>1421847147</td>\n",
       "      <td>prob_75</td>\n",
       "      <td>2</td>\n",
       "      <td>A</td>\n",
       "      <td>500.0</td>\n",
       "      <td>implementation</td>\n",
       "      <td>722 days 13:58:19</td>\n",
       "      <td>722.582164</td>\n",
       "    </tr>\n",
       "  </tbody>\n",
       "</table>\n",
       "</div>"
      ],
      "text/plain": [
       "     user_id  submission_count  problem_solved  contribution  country  \\\n",
       "0  user_3311                47              40             0      NaN   \n",
       "1  user_1972               107              99             0    India   \n",
       "2  user_3317               735             715             0  Vietnam   \n",
       "\n",
       "   follower_count  last_online_time_seconds  max_rating   rating  \\\n",
       "0               4                1504111645     348.337  330.849   \n",
       "1              11                1504291325     304.186  203.842   \n",
       "2               9                1484278246     419.438  353.211   \n",
       "\n",
       "           rank  registration_time_seconds problem_id attempts_range  \\\n",
       "0  intermediate                 1466686436    prob_75              1   \n",
       "1      beginner                 1439050893    prob_75              2   \n",
       "2  intermediate                 1421847147    prob_75              2   \n",
       "\n",
       "  level_type  points            tags         timespent        days  \n",
       "0          A   500.0  implementation 433 days 03:53:29  433.162141  \n",
       "1          A   500.0  implementation 755 days 02:20:32  755.097593  \n",
       "2          A   500.0  implementation 722 days 13:58:19  722.582164  "
      ]
     },
     "execution_count": 179,
     "metadata": {},
     "output_type": "execute_result"
    }
   ],
   "source": [
    "fnl.head(3)"
   ]
  },
  {
   "cell_type": "markdown",
   "id": "9f7c8f32",
   "metadata": {},
   "source": [
    "### Relation between Problem_solved and attempts_range"
   ]
  },
  {
   "cell_type": "code",
   "execution_count": 180,
   "id": "490612c2",
   "metadata": {},
   "outputs": [
    {
     "name": "stdout",
     "output_type": "stream",
     "text": [
      "Attempts_rangte   no of observations\n",
      "     1                   82476\n",
      "     2                   47135\n",
      "     4                   5478\n",
      "     6                   3020\n",
      "     3                   14082\n",
      "     5                   2484\n"
     ]
    }
   ],
   "source": [
    "print(\"Attempts_rangte\" ,\" \",'no of observations')\n",
    "for i in fnl['attempts_range'].unique():\n",
    "     print(\"    \",i,\"                 \",(fnl['attempts_range']==i).sum())"
   ]
  },
  {
   "cell_type": "markdown",
   "id": "333d2867",
   "metadata": {},
   "source": [
    "Since observations are large we assume that data is from normal population"
   ]
  },
  {
   "cell_type": "markdown",
   "id": "7e2dce10",
   "metadata": {},
   "source": [
    "###### Ho:All groups have equall variance\n",
    "###### H1:At least one group has a variance that is not equal to the rest."
   ]
  },
  {
   "cell_type": "code",
   "execution_count": 181,
   "id": "0ae5275e",
   "metadata": {},
   "outputs": [
    {
     "data": {
      "text/plain": [
       "BartlettResult(statistic=603.2942526532659, pvalue=3.9272447030076706e-128)"
      ]
     },
     "execution_count": 181,
     "metadata": {},
     "output_type": "execute_result"
    }
   ],
   "source": [
    "# TEsting second assumption of anova (equality of variance)\n",
    "# Bartlett test\n",
    "lst=[]\n",
    "for i in fnl['attempts_range'].unique():\n",
    "       lst.append(fnl[fnl['attempts_range']==i]['problem_solved'])\n",
    "\n",
    "stat.bartlett(lst[0],lst[1],lst[2],lst[3],lst[4],lst[5])"
   ]
  },
  {
   "cell_type": "markdown",
   "id": "c7faeaeb",
   "metadata": {},
   "source": [
    "###### P value is less than 0.05 so we reject null hypothesis and conclude that all group variance are not equall.Assumption for anova fails So we go for non parametric test"
   ]
  },
  {
   "cell_type": "markdown",
   "id": "1d510031",
   "metadata": {},
   "source": [
    "###### H0:Median is same for grorups\n",
    "###### H1:Median is not same for all data group"
   ]
  },
  {
   "cell_type": "code",
   "execution_count": 182,
   "id": "128d644a",
   "metadata": {},
   "outputs": [
    {
     "data": {
      "text/plain": [
       "KruskalResult(statistic=84.8122829150244, pvalue=8.241820096288942e-17)"
      ]
     },
     "execution_count": 182,
     "metadata": {},
     "output_type": "execute_result"
    }
   ],
   "source": [
    "stat.kruskal(lst[0],lst[1],lst[2],lst[3],lst[4],lst[5])"
   ]
  },
  {
   "cell_type": "markdown",
   "id": "554994dc",
   "metadata": {},
   "source": [
    "###### Here p value is less than 0.05 so we reject null hypothesis and conclude that  median is not same for all the group "
   ]
  },
  {
   "cell_type": "markdown",
   "id": "38fbc065",
   "metadata": {},
   "source": [
    "#### Log linear model "
   ]
  },
  {
   "cell_type": "markdown",
   "id": "73153ef0",
   "metadata": {},
   "source": [
    "# To check whether there is any relation between attempt_range and level_type"
   ]
  },
  {
   "cell_type": "code",
   "execution_count": 183,
   "id": "c2e3544c",
   "metadata": {},
   "outputs": [
    {
     "data": {
      "text/html": [
       "<div>\n",
       "<style scoped>\n",
       "    .dataframe tbody tr th:only-of-type {\n",
       "        vertical-align: middle;\n",
       "    }\n",
       "\n",
       "    .dataframe tbody tr th {\n",
       "        vertical-align: top;\n",
       "    }\n",
       "\n",
       "    .dataframe thead th {\n",
       "        text-align: right;\n",
       "    }\n",
       "</style>\n",
       "<table border=\"1\" class=\"dataframe\">\n",
       "  <thead>\n",
       "    <tr style=\"text-align: right;\">\n",
       "      <th>level_type</th>\n",
       "      <th>A</th>\n",
       "      <th>B</th>\n",
       "      <th>C</th>\n",
       "      <th>D</th>\n",
       "      <th>E</th>\n",
       "      <th>F</th>\n",
       "      <th>G</th>\n",
       "      <th>H</th>\n",
       "      <th>I</th>\n",
       "      <th>J</th>\n",
       "      <th>K</th>\n",
       "      <th>L</th>\n",
       "      <th>M</th>\n",
       "      <th>N</th>\n",
       "    </tr>\n",
       "    <tr>\n",
       "      <th>attempts_range</th>\n",
       "      <th></th>\n",
       "      <th></th>\n",
       "      <th></th>\n",
       "      <th></th>\n",
       "      <th></th>\n",
       "      <th></th>\n",
       "      <th></th>\n",
       "      <th></th>\n",
       "      <th></th>\n",
       "      <th></th>\n",
       "      <th></th>\n",
       "      <th></th>\n",
       "      <th></th>\n",
       "      <th></th>\n",
       "    </tr>\n",
       "  </thead>\n",
       "  <tbody>\n",
       "    <tr>\n",
       "      <th>1</th>\n",
       "      <td>37407</td>\n",
       "      <td>21091</td>\n",
       "      <td>11588</td>\n",
       "      <td>5865</td>\n",
       "      <td>2383</td>\n",
       "      <td>945</td>\n",
       "      <td>750</td>\n",
       "      <td>616</td>\n",
       "      <td>478</td>\n",
       "      <td>545</td>\n",
       "      <td>388</td>\n",
       "      <td>245</td>\n",
       "      <td>142</td>\n",
       "      <td>33</td>\n",
       "    </tr>\n",
       "    <tr>\n",
       "      <th>2</th>\n",
       "      <td>16324</td>\n",
       "      <td>12691</td>\n",
       "      <td>8617</td>\n",
       "      <td>4742</td>\n",
       "      <td>2125</td>\n",
       "      <td>744</td>\n",
       "      <td>474</td>\n",
       "      <td>346</td>\n",
       "      <td>300</td>\n",
       "      <td>292</td>\n",
       "      <td>246</td>\n",
       "      <td>160</td>\n",
       "      <td>57</td>\n",
       "      <td>17</td>\n",
       "    </tr>\n",
       "    <tr>\n",
       "      <th>3</th>\n",
       "      <td>3825</td>\n",
       "      <td>3812</td>\n",
       "      <td>3004</td>\n",
       "      <td>1752</td>\n",
       "      <td>814</td>\n",
       "      <td>305</td>\n",
       "      <td>158</td>\n",
       "      <td>99</td>\n",
       "      <td>96</td>\n",
       "      <td>90</td>\n",
       "      <td>70</td>\n",
       "      <td>34</td>\n",
       "      <td>17</td>\n",
       "      <td>6</td>\n",
       "    </tr>\n",
       "    <tr>\n",
       "      <th>4</th>\n",
       "      <td>1208</td>\n",
       "      <td>1475</td>\n",
       "      <td>1265</td>\n",
       "      <td>745</td>\n",
       "      <td>360</td>\n",
       "      <td>131</td>\n",
       "      <td>76</td>\n",
       "      <td>81</td>\n",
       "      <td>44</td>\n",
       "      <td>39</td>\n",
       "      <td>28</td>\n",
       "      <td>19</td>\n",
       "      <td>5</td>\n",
       "      <td>2</td>\n",
       "    </tr>\n",
       "    <tr>\n",
       "      <th>5</th>\n",
       "      <td>472</td>\n",
       "      <td>661</td>\n",
       "      <td>607</td>\n",
       "      <td>358</td>\n",
       "      <td>197</td>\n",
       "      <td>77</td>\n",
       "      <td>38</td>\n",
       "      <td>17</td>\n",
       "      <td>17</td>\n",
       "      <td>19</td>\n",
       "      <td>10</td>\n",
       "      <td>9</td>\n",
       "      <td>2</td>\n",
       "      <td>0</td>\n",
       "    </tr>\n",
       "    <tr>\n",
       "      <th>6</th>\n",
       "      <td>482</td>\n",
       "      <td>689</td>\n",
       "      <td>795</td>\n",
       "      <td>463</td>\n",
       "      <td>318</td>\n",
       "      <td>116</td>\n",
       "      <td>48</td>\n",
       "      <td>25</td>\n",
       "      <td>20</td>\n",
       "      <td>30</td>\n",
       "      <td>17</td>\n",
       "      <td>13</td>\n",
       "      <td>4</td>\n",
       "      <td>0</td>\n",
       "    </tr>\n",
       "  </tbody>\n",
       "</table>\n",
       "</div>"
      ],
      "text/plain": [
       "level_type          A      B      C     D     E    F    G    H    I    J    K  \\\n",
       "attempts_range                                                                  \n",
       "1               37407  21091  11588  5865  2383  945  750  616  478  545  388   \n",
       "2               16324  12691   8617  4742  2125  744  474  346  300  292  246   \n",
       "3                3825   3812   3004  1752   814  305  158   99   96   90   70   \n",
       "4                1208   1475   1265   745   360  131   76   81   44   39   28   \n",
       "5                 472    661    607   358   197   77   38   17   17   19   10   \n",
       "6                 482    689    795   463   318  116   48   25   20   30   17   \n",
       "\n",
       "level_type        L    M   N  \n",
       "attempts_range                \n",
       "1               245  142  33  \n",
       "2               160   57  17  \n",
       "3                34   17   6  \n",
       "4                19    5   2  \n",
       "5                 9    2   0  \n",
       "6                13    4   0  "
      ]
     },
     "execution_count": 183,
     "metadata": {},
     "output_type": "execute_result"
    }
   ],
   "source": [
    "crstab4=pd.crosstab(fnl['attempts_range'],fnl['level_type'])\n",
    "crstab4"
   ]
  },
  {
   "cell_type": "code",
   "execution_count": 184,
   "id": "8a6d6ae0",
   "metadata": {},
   "outputs": [
    {
     "data": {
      "text/plain": [
       "(5926.309306591319,\n",
       " 0.0,\n",
       " 65,\n",
       " array([[3.18429078e+04, 2.15522705e+04, 1.37976336e+04, 7.42510619e+03,\n",
       "         3.30437221e+03, 1.23600690e+03, 8.23293642e+02, 6.31333984e+02,\n",
       "         5.09226313e+02, 5.41219589e+02, 4.04714944e+02, 2.55946210e+02,\n",
       "         1.21041228e+02, 3.09268337e+01],\n",
       "        [1.81982087e+04, 1.23171137e+04, 7.88534191e+03, 4.24344513e+03,\n",
       "         1.88844736e+03, 7.06377437e+02, 4.70511977e+02, 3.60807112e+02,\n",
       "         2.91022628e+02, 3.09306772e+02, 2.31294424e+02, 1.46273153e+02,\n",
       "         6.91750121e+01, 1.76746727e+01],\n",
       "        [5.43687652e+03, 3.67984715e+03, 2.35581595e+03, 1.26776693e+03,\n",
       "         5.64190425e+02, 2.11036535e+02, 1.40569633e+02, 1.07794330e+02,\n",
       "         8.69455956e+01, 9.24081461e+01, 6.91012639e+01, 4.37004041e+01,\n",
       "         2.06666494e+01, 5.28046549e+00],\n",
       "        [2.11498435e+03, 1.43148720e+03, 9.16429468e+02, 4.93170519e+02,\n",
       "         2.19474162e+02, 8.20947406e+01, 5.46826055e+01, 4.19327752e+01,\n",
       "         3.38224665e+01, 3.59474382e+01, 2.68808922e+01, 1.69997737e+01,\n",
       "         8.03947632e+00, 2.05413932e+00],\n",
       "        [9.59040000e+02, 6.49108104e+02, 4.15555093e+02, 2.23628253e+02,\n",
       "         9.95205948e+01, 3.72258736e+01, 2.47958364e+01, 1.90144238e+01,\n",
       "         1.53368030e+01, 1.63003717e+01, 1.21891450e+01, 7.70855019e+00,\n",
       "         3.64550186e+00, 9.31449814e-01],\n",
       "        [1.16598261e+03, 7.89173299e+02, 5.05223986e+02, 2.71882980e+02,\n",
       "         1.20995248e+02, 4.52585098e+01, 3.01463068e+01, 2.31173751e+01,\n",
       "         1.86461936e+01, 1.98176822e+01, 1.48193309e+01, 9.37190884e+00,\n",
       "         4.43213189e+00, 1.13243898e+00]]))"
      ]
     },
     "execution_count": 184,
     "metadata": {},
     "output_type": "execute_result"
    }
   ],
   "source": [
    "stat.chi2_contingency(crstab4)"
   ]
  },
  {
   "cell_type": "code",
   "execution_count": 185,
   "id": "2232c3ee",
   "metadata": {},
   "outputs": [],
   "source": [
    "Pi=[]\n",
    "for i in range (crstab4.shape[0]):\n",
    "    Pi.append((crstab4.iloc[i,].sum())/crstab4.sum().sum())\n",
    "    \n",
    "Pj=[]\n",
    "for j in range(crstab4.shape[1]):\n",
    "    Pj.append((crstab4.iloc[:,j].sum())/crstab4.sum().sum())\n",
    "\n",
    "lambda_x=[]\n",
    "sum_log_pi=0\n",
    "for i in Pi:\n",
    "    sum_log_pi+=np.log(i)\n",
    "for i in Pi:\n",
    "    lambda_x.append(np.log(i)-((sum_log_pi)/crstab4.shape[0]))\n",
    "lambda_y=[]\n",
    "sum_log_pj=0\n",
    "for j in Pj:\n",
    "    sum_log_pj+=np.log(j)\n",
    "for j in Pj:\n",
    "    lambda_y.append(np.log(j)-(sum_log_pj/crstab4.shape[1]))\n",
    "mu_estimate=np.log(crstab4.sum().sum())+(sum_log_pi/crstab4.shape[0])+(sum_log_pj/crstab4.shape[1])\n",
    "\n"
   ]
  },
  {
   "cell_type": "code",
   "execution_count": 186,
   "id": "b1ead08a",
   "metadata": {},
   "outputs": [
    {
     "data": {
      "text/html": [
       "<div>\n",
       "<style scoped>\n",
       "    .dataframe tbody tr th:only-of-type {\n",
       "        vertical-align: middle;\n",
       "    }\n",
       "\n",
       "    .dataframe tbody tr th {\n",
       "        vertical-align: top;\n",
       "    }\n",
       "\n",
       "    .dataframe thead th {\n",
       "        text-align: right;\n",
       "    }\n",
       "</style>\n",
       "<table border=\"1\" class=\"dataframe\">\n",
       "  <thead>\n",
       "    <tr style=\"text-align: right;\">\n",
       "      <th></th>\n",
       "      <th>0</th>\n",
       "      <th>1</th>\n",
       "      <th>2</th>\n",
       "      <th>3</th>\n",
       "      <th>4</th>\n",
       "      <th>5</th>\n",
       "      <th>6</th>\n",
       "      <th>7</th>\n",
       "      <th>8</th>\n",
       "      <th>9</th>\n",
       "      <th>10</th>\n",
       "      <th>11</th>\n",
       "      <th>12</th>\n",
       "      <th>13</th>\n",
       "    </tr>\n",
       "  </thead>\n",
       "  <tbody>\n",
       "    <tr>\n",
       "      <th>0</th>\n",
       "      <td>0.0</td>\n",
       "      <td>0.0</td>\n",
       "      <td>0.0</td>\n",
       "      <td>0.0</td>\n",
       "      <td>0.0</td>\n",
       "      <td>0.0</td>\n",
       "      <td>0.0</td>\n",
       "      <td>0.0</td>\n",
       "      <td>0.0</td>\n",
       "      <td>0.0</td>\n",
       "      <td>0.0</td>\n",
       "      <td>0.0</td>\n",
       "      <td>0.0</td>\n",
       "      <td>0.0</td>\n",
       "    </tr>\n",
       "    <tr>\n",
       "      <th>1</th>\n",
       "      <td>0.0</td>\n",
       "      <td>0.0</td>\n",
       "      <td>0.0</td>\n",
       "      <td>0.0</td>\n",
       "      <td>0.0</td>\n",
       "      <td>0.0</td>\n",
       "      <td>0.0</td>\n",
       "      <td>0.0</td>\n",
       "      <td>0.0</td>\n",
       "      <td>0.0</td>\n",
       "      <td>0.0</td>\n",
       "      <td>0.0</td>\n",
       "      <td>0.0</td>\n",
       "      <td>0.0</td>\n",
       "    </tr>\n",
       "    <tr>\n",
       "      <th>2</th>\n",
       "      <td>0.0</td>\n",
       "      <td>0.0</td>\n",
       "      <td>0.0</td>\n",
       "      <td>0.0</td>\n",
       "      <td>0.0</td>\n",
       "      <td>0.0</td>\n",
       "      <td>0.0</td>\n",
       "      <td>0.0</td>\n",
       "      <td>0.0</td>\n",
       "      <td>0.0</td>\n",
       "      <td>0.0</td>\n",
       "      <td>0.0</td>\n",
       "      <td>0.0</td>\n",
       "      <td>0.0</td>\n",
       "    </tr>\n",
       "    <tr>\n",
       "      <th>3</th>\n",
       "      <td>0.0</td>\n",
       "      <td>0.0</td>\n",
       "      <td>0.0</td>\n",
       "      <td>0.0</td>\n",
       "      <td>0.0</td>\n",
       "      <td>0.0</td>\n",
       "      <td>0.0</td>\n",
       "      <td>0.0</td>\n",
       "      <td>0.0</td>\n",
       "      <td>0.0</td>\n",
       "      <td>0.0</td>\n",
       "      <td>0.0</td>\n",
       "      <td>0.0</td>\n",
       "      <td>0.0</td>\n",
       "    </tr>\n",
       "    <tr>\n",
       "      <th>4</th>\n",
       "      <td>0.0</td>\n",
       "      <td>0.0</td>\n",
       "      <td>0.0</td>\n",
       "      <td>0.0</td>\n",
       "      <td>0.0</td>\n",
       "      <td>0.0</td>\n",
       "      <td>0.0</td>\n",
       "      <td>0.0</td>\n",
       "      <td>0.0</td>\n",
       "      <td>0.0</td>\n",
       "      <td>0.0</td>\n",
       "      <td>0.0</td>\n",
       "      <td>0.0</td>\n",
       "      <td>0.0</td>\n",
       "    </tr>\n",
       "    <tr>\n",
       "      <th>5</th>\n",
       "      <td>0.0</td>\n",
       "      <td>0.0</td>\n",
       "      <td>0.0</td>\n",
       "      <td>0.0</td>\n",
       "      <td>0.0</td>\n",
       "      <td>0.0</td>\n",
       "      <td>0.0</td>\n",
       "      <td>0.0</td>\n",
       "      <td>0.0</td>\n",
       "      <td>0.0</td>\n",
       "      <td>0.0</td>\n",
       "      <td>0.0</td>\n",
       "      <td>0.0</td>\n",
       "      <td>0.0</td>\n",
       "    </tr>\n",
       "  </tbody>\n",
       "</table>\n",
       "</div>"
      ],
      "text/plain": [
       "    0    1    2    3    4    5    6    7    8    9    10   11   12   13\n",
       "0  0.0  0.0  0.0  0.0  0.0  0.0  0.0  0.0  0.0  0.0  0.0  0.0  0.0  0.0\n",
       "1  0.0  0.0  0.0  0.0  0.0  0.0  0.0  0.0  0.0  0.0  0.0  0.0  0.0  0.0\n",
       "2  0.0  0.0  0.0  0.0  0.0  0.0  0.0  0.0  0.0  0.0  0.0  0.0  0.0  0.0\n",
       "3  0.0  0.0  0.0  0.0  0.0  0.0  0.0  0.0  0.0  0.0  0.0  0.0  0.0  0.0\n",
       "4  0.0  0.0  0.0  0.0  0.0  0.0  0.0  0.0  0.0  0.0  0.0  0.0  0.0  0.0\n",
       "5  0.0  0.0  0.0  0.0  0.0  0.0  0.0  0.0  0.0  0.0  0.0  0.0  0.0  0.0"
      ]
     },
     "execution_count": 186,
     "metadata": {},
     "output_type": "execute_result"
    }
   ],
   "source": [
    "efrqncy=pd.DataFrame(np.zeros(shape=(crstab4.shape[0],crstab4.shape[1])))\n",
    "efrqncy"
   ]
  },
  {
   "cell_type": "code",
   "execution_count": 187,
   "id": "71b34ded",
   "metadata": {},
   "outputs": [
    {
     "data": {
      "text/html": [
       "<div>\n",
       "<style scoped>\n",
       "    .dataframe tbody tr th:only-of-type {\n",
       "        vertical-align: middle;\n",
       "    }\n",
       "\n",
       "    .dataframe tbody tr th {\n",
       "        vertical-align: top;\n",
       "    }\n",
       "\n",
       "    .dataframe thead th {\n",
       "        text-align: right;\n",
       "    }\n",
       "</style>\n",
       "<table border=\"1\" class=\"dataframe\">\n",
       "  <thead>\n",
       "    <tr style=\"text-align: right;\">\n",
       "      <th></th>\n",
       "      <th>0</th>\n",
       "      <th>1</th>\n",
       "      <th>2</th>\n",
       "      <th>3</th>\n",
       "      <th>4</th>\n",
       "      <th>5</th>\n",
       "      <th>6</th>\n",
       "      <th>7</th>\n",
       "      <th>8</th>\n",
       "      <th>9</th>\n",
       "      <th>10</th>\n",
       "      <th>11</th>\n",
       "      <th>12</th>\n",
       "      <th>13</th>\n",
       "    </tr>\n",
       "  </thead>\n",
       "  <tbody>\n",
       "    <tr>\n",
       "      <th>0</th>\n",
       "      <td>31842.907826</td>\n",
       "      <td>21552.270529</td>\n",
       "      <td>13797.633593</td>\n",
       "      <td>7425.106190</td>\n",
       "      <td>3304.372213</td>\n",
       "      <td>1236.006905</td>\n",
       "      <td>823.293642</td>\n",
       "      <td>631.333984</td>\n",
       "      <td>509.226313</td>\n",
       "      <td>541.219589</td>\n",
       "      <td>404.714944</td>\n",
       "      <td>255.946210</td>\n",
       "      <td>121.041228</td>\n",
       "      <td>30.926834</td>\n",
       "    </tr>\n",
       "    <tr>\n",
       "      <th>1</th>\n",
       "      <td>18198.208696</td>\n",
       "      <td>12317.113722</td>\n",
       "      <td>7885.341910</td>\n",
       "      <td>4243.445127</td>\n",
       "      <td>1888.447357</td>\n",
       "      <td>706.377437</td>\n",
       "      <td>470.511977</td>\n",
       "      <td>360.807112</td>\n",
       "      <td>291.022628</td>\n",
       "      <td>309.306772</td>\n",
       "      <td>231.294424</td>\n",
       "      <td>146.273153</td>\n",
       "      <td>69.175012</td>\n",
       "      <td>17.674673</td>\n",
       "    </tr>\n",
       "    <tr>\n",
       "      <th>2</th>\n",
       "      <td>5436.876522</td>\n",
       "      <td>3679.847150</td>\n",
       "      <td>2355.815950</td>\n",
       "      <td>1267.766931</td>\n",
       "      <td>564.190425</td>\n",
       "      <td>211.036535</td>\n",
       "      <td>140.569633</td>\n",
       "      <td>107.794330</td>\n",
       "      <td>86.945596</td>\n",
       "      <td>92.408146</td>\n",
       "      <td>69.101264</td>\n",
       "      <td>43.700404</td>\n",
       "      <td>20.666649</td>\n",
       "      <td>5.280465</td>\n",
       "    </tr>\n",
       "    <tr>\n",
       "      <th>3</th>\n",
       "      <td>2114.984348</td>\n",
       "      <td>1431.487196</td>\n",
       "      <td>916.429468</td>\n",
       "      <td>493.170519</td>\n",
       "      <td>219.474162</td>\n",
       "      <td>82.094741</td>\n",
       "      <td>54.682605</td>\n",
       "      <td>41.932775</td>\n",
       "      <td>33.822466</td>\n",
       "      <td>35.947438</td>\n",
       "      <td>26.880892</td>\n",
       "      <td>16.999774</td>\n",
       "      <td>8.039476</td>\n",
       "      <td>2.054139</td>\n",
       "    </tr>\n",
       "    <tr>\n",
       "      <th>4</th>\n",
       "      <td>959.040000</td>\n",
       "      <td>649.108104</td>\n",
       "      <td>415.555093</td>\n",
       "      <td>223.628253</td>\n",
       "      <td>99.520595</td>\n",
       "      <td>37.225874</td>\n",
       "      <td>24.795836</td>\n",
       "      <td>19.014424</td>\n",
       "      <td>15.336803</td>\n",
       "      <td>16.300372</td>\n",
       "      <td>12.189145</td>\n",
       "      <td>7.708550</td>\n",
       "      <td>3.645502</td>\n",
       "      <td>0.931450</td>\n",
       "    </tr>\n",
       "    <tr>\n",
       "      <th>5</th>\n",
       "      <td>1165.982609</td>\n",
       "      <td>789.173299</td>\n",
       "      <td>505.223986</td>\n",
       "      <td>271.882980</td>\n",
       "      <td>120.995248</td>\n",
       "      <td>45.258510</td>\n",
       "      <td>30.146307</td>\n",
       "      <td>23.117375</td>\n",
       "      <td>18.646194</td>\n",
       "      <td>19.817682</td>\n",
       "      <td>14.819331</td>\n",
       "      <td>9.371909</td>\n",
       "      <td>4.432132</td>\n",
       "      <td>1.132439</td>\n",
       "    </tr>\n",
       "  </tbody>\n",
       "</table>\n",
       "</div>"
      ],
      "text/plain": [
       "             0             1             2            3            4   \\\n",
       "0  31842.907826  21552.270529  13797.633593  7425.106190  3304.372213   \n",
       "1  18198.208696  12317.113722   7885.341910  4243.445127  1888.447357   \n",
       "2   5436.876522   3679.847150   2355.815950  1267.766931   564.190425   \n",
       "3   2114.984348   1431.487196    916.429468   493.170519   219.474162   \n",
       "4    959.040000    649.108104    415.555093   223.628253    99.520595   \n",
       "5   1165.982609    789.173299    505.223986   271.882980   120.995248   \n",
       "\n",
       "            5           6           7           8           9           10  \\\n",
       "0  1236.006905  823.293642  631.333984  509.226313  541.219589  404.714944   \n",
       "1   706.377437  470.511977  360.807112  291.022628  309.306772  231.294424   \n",
       "2   211.036535  140.569633  107.794330   86.945596   92.408146   69.101264   \n",
       "3    82.094741   54.682605   41.932775   33.822466   35.947438   26.880892   \n",
       "4    37.225874   24.795836   19.014424   15.336803   16.300372   12.189145   \n",
       "5    45.258510   30.146307   23.117375   18.646194   19.817682   14.819331   \n",
       "\n",
       "           11          12         13  \n",
       "0  255.946210  121.041228  30.926834  \n",
       "1  146.273153   69.175012  17.674673  \n",
       "2   43.700404   20.666649   5.280465  \n",
       "3   16.999774    8.039476   2.054139  \n",
       "4    7.708550    3.645502   0.931450  \n",
       "5    9.371909    4.432132   1.132439  "
      ]
     },
     "execution_count": 187,
     "metadata": {},
     "output_type": "execute_result"
    }
   ],
   "source": [
    "for i in range(6):\n",
    "    for j in range(14):\n",
    "        efrqncy.iloc[i,j]=np.exp(mu_estimate+lambda_x[i]+lambda_y[j])\n",
    "efrqncy     "
   ]
  },
  {
   "cell_type": "code",
   "execution_count": 188,
   "id": "87b0421e",
   "metadata": {},
   "outputs": [],
   "source": [
    "chi2_stat=0\n",
    "for i in range(6):\n",
    "    for j in range(14):\n",
    "        chi2_stat+=(np.square(crstab4.iloc[i,j]-efrqncy.iloc[i,j]))/efrqncy.iloc[i,j]"
   ]
  },
  {
   "cell_type": "code",
   "execution_count": 189,
   "id": "2c698778",
   "metadata": {},
   "outputs": [
    {
     "data": {
      "text/plain": [
       "5926.309306591315"
      ]
     },
     "execution_count": 189,
     "metadata": {},
     "output_type": "execute_result"
    }
   ],
   "source": [
    "chi2_stat"
   ]
  },
  {
   "cell_type": "code",
   "execution_count": 190,
   "id": "587777c1",
   "metadata": {},
   "outputs": [],
   "source": [
    "g=pd.DataFrame(np.zeros(shape=(crstab4.shape[0],crstab4.shape[1])))"
   ]
  },
  {
   "cell_type": "code",
   "execution_count": 191,
   "id": "4bb4eb86",
   "metadata": {},
   "outputs": [],
   "source": [
    "for i in range(6):\n",
    "    for j in range(14):\n",
    "         g.iloc[i,j]=(crstab4.iloc[i,j])*(np.log(crstab4.iloc[i,j]/efrqncy.iloc[i,j]))"
   ]
  },
  {
   "cell_type": "code",
   "execution_count": 192,
   "id": "b56f0eef",
   "metadata": {},
   "outputs": [
    {
     "data": {
      "text/plain": [
       "5905.42240811896"
      ]
     },
     "execution_count": 192,
     "metadata": {},
     "output_type": "execute_result"
    }
   ],
   "source": [
    "G=2*g.sum().sum()\n",
    "G"
   ]
  },
  {
   "cell_type": "code",
   "execution_count": 193,
   "id": "34e72dc6",
   "metadata": {},
   "outputs": [
    {
     "data": {
      "text/plain": [
       "65"
      ]
     },
     "execution_count": 193,
     "metadata": {},
     "output_type": "execute_result"
    }
   ],
   "source": [
    "df=crstab4.shape[0]*crstab4.shape[1]-(1+crstab4.shape[0]-1+crstab4.shape[1]-1)\n",
    "df"
   ]
  },
  {
   "cell_type": "code",
   "execution_count": 194,
   "id": "16dc271a",
   "metadata": {},
   "outputs": [
    {
     "data": {
      "text/plain": [
       "0.0"
      ]
     },
     "execution_count": 194,
     "metadata": {},
     "output_type": "execute_result"
    }
   ],
   "source": [
    "from scipy.stats.distributions import chi2\n",
    "chi2.sf(5926.309306591315,65)"
   ]
  },
  {
   "cell_type": "code",
   "execution_count": 195,
   "id": "32715e6c",
   "metadata": {},
   "outputs": [
    {
     "data": {
      "text/plain": [
       "0.0"
      ]
     },
     "execution_count": 195,
     "metadata": {},
     "output_type": "execute_result"
    }
   ],
   "source": [
    "chi2.sf(5905.42240811896,65)"
   ]
  },
  {
   "cell_type": "markdown",
   "id": "e3eb95ac",
   "metadata": {},
   "source": [
    "###### P value is 0 which is less than 0.05 so we reject null hypotheis and  cocnlude that  mean attempts range is not same for all problem_type."
   ]
  },
  {
   "cell_type": "markdown",
   "id": "16a07af9",
   "metadata": {},
   "source": [
    "#### Days and attempts range"
   ]
  },
  {
   "cell_type": "code",
   "execution_count": 196,
   "id": "e7ed5b9c",
   "metadata": {},
   "outputs": [],
   "source": [
    "#Anova assumption testing"
   ]
  },
  {
   "cell_type": "code",
   "execution_count": 197,
   "id": "eea07f7f",
   "metadata": {},
   "outputs": [],
   "source": [
    "k=[]\n",
    "for i in fnl['attempts_range'].unique():\n",
    "    k.append(fnl[fnl['attempts_range']==i]['days'])"
   ]
  },
  {
   "cell_type": "code",
   "execution_count": 198,
   "id": "d1adca41",
   "metadata": {},
   "outputs": [
    {
     "data": {
      "text/plain": [
       "BartlettResult(statistic=756.4297953736315, pvalue=3.0764508321480157e-161)"
      ]
     },
     "execution_count": 198,
     "metadata": {},
     "output_type": "execute_result"
    }
   ],
   "source": [
    "stat.bartlett(k[0],k[1],k[2],k[3],k[4],k[5])"
   ]
  },
  {
   "cell_type": "code",
   "execution_count": 199,
   "id": "b48da1f5",
   "metadata": {},
   "outputs": [],
   "source": [
    "#canot carry anova"
   ]
  },
  {
   "cell_type": "code",
   "execution_count": 200,
   "id": "34a782e6",
   "metadata": {},
   "outputs": [
    {
     "data": {
      "text/plain": [
       "KruskalResult(statistic=272.431118627788, pvalue=8.41030431084778e-57)"
      ]
     },
     "execution_count": 200,
     "metadata": {},
     "output_type": "execute_result"
    }
   ],
   "source": [
    "stat.kruskal(k[0],k[1],k[2],k[3],k[4],k[5])"
   ]
  },
  {
   "cell_type": "markdown",
   "id": "ad99f360",
   "metadata": {},
   "source": [
    "##### p value is less than 0.05 so so there is relation"
   ]
  },
  {
   "cell_type": "code",
   "execution_count": null,
   "id": "8cc862fc",
   "metadata": {},
   "outputs": [],
   "source": []
  },
  {
   "cell_type": "markdown",
   "id": "c23631d4",
   "metadata": {},
   "source": [
    "#### follower count"
   ]
  },
  {
   "cell_type": "code",
   "execution_count": 201,
   "id": "9723ff0b",
   "metadata": {},
   "outputs": [],
   "source": [
    "k=[]\n",
    "for i in fnl['attempts_range'].unique():\n",
    "    k.append(fnl[fnl['attempts_range']==i]['follower_count'])"
   ]
  },
  {
   "cell_type": "code",
   "execution_count": 202,
   "id": "b0cc9049",
   "metadata": {},
   "outputs": [
    {
     "data": {
      "text/plain": [
       "BartlettResult(statistic=8490.856367309114, pvalue=0.0)"
      ]
     },
     "execution_count": 202,
     "metadata": {},
     "output_type": "execute_result"
    }
   ],
   "source": [
    "stat.bartlett(k[0],k[1],k[2],k[3],k[4],k[5])"
   ]
  },
  {
   "cell_type": "code",
   "execution_count": 203,
   "id": "ce04bfc5",
   "metadata": {},
   "outputs": [],
   "source": [
    "#Variance is less not constant so go for nonprmtrc"
   ]
  },
  {
   "cell_type": "code",
   "execution_count": 204,
   "id": "d385bf20",
   "metadata": {},
   "outputs": [
    {
     "data": {
      "text/plain": [
       "KruskalResult(statistic=106.79332153108783, pvalue=1.9494035247446547e-21)"
      ]
     },
     "execution_count": 204,
     "metadata": {},
     "output_type": "execute_result"
    }
   ],
   "source": [
    "stat.kruskal(k[0],k[1],k[2],k[3],k[4],k[5])"
   ]
  },
  {
   "cell_type": "code",
   "execution_count": 205,
   "id": "a6c6212b",
   "metadata": {},
   "outputs": [
    {
     "data": {
      "text/html": [
       "<div>\n",
       "<style scoped>\n",
       "    .dataframe tbody tr th:only-of-type {\n",
       "        vertical-align: middle;\n",
       "    }\n",
       "\n",
       "    .dataframe tbody tr th {\n",
       "        vertical-align: top;\n",
       "    }\n",
       "\n",
       "    .dataframe thead th {\n",
       "        text-align: right;\n",
       "    }\n",
       "</style>\n",
       "<table border=\"1\" class=\"dataframe\">\n",
       "  <thead>\n",
       "    <tr style=\"text-align: right;\">\n",
       "      <th></th>\n",
       "      <th>user_id</th>\n",
       "      <th>submission_count</th>\n",
       "      <th>problem_solved</th>\n",
       "      <th>contribution</th>\n",
       "      <th>country</th>\n",
       "      <th>follower_count</th>\n",
       "      <th>last_online_time_seconds</th>\n",
       "      <th>max_rating</th>\n",
       "      <th>rating</th>\n",
       "      <th>rank</th>\n",
       "      <th>registration_time_seconds</th>\n",
       "      <th>problem_id</th>\n",
       "      <th>attempts_range</th>\n",
       "      <th>level_type</th>\n",
       "      <th>points</th>\n",
       "      <th>tags</th>\n",
       "      <th>timespent</th>\n",
       "      <th>days</th>\n",
       "    </tr>\n",
       "  </thead>\n",
       "  <tbody>\n",
       "    <tr>\n",
       "      <th>0</th>\n",
       "      <td>user_3311</td>\n",
       "      <td>47</td>\n",
       "      <td>40</td>\n",
       "      <td>0</td>\n",
       "      <td>NaN</td>\n",
       "      <td>4</td>\n",
       "      <td>1504111645</td>\n",
       "      <td>348.337</td>\n",
       "      <td>330.849</td>\n",
       "      <td>intermediate</td>\n",
       "      <td>1466686436</td>\n",
       "      <td>prob_75</td>\n",
       "      <td>1</td>\n",
       "      <td>A</td>\n",
       "      <td>500.0</td>\n",
       "      <td>implementation</td>\n",
       "      <td>433 days 03:53:29</td>\n",
       "      <td>433.162141</td>\n",
       "    </tr>\n",
       "  </tbody>\n",
       "</table>\n",
       "</div>"
      ],
      "text/plain": [
       "     user_id  submission_count  problem_solved  contribution country  \\\n",
       "0  user_3311                47              40             0     NaN   \n",
       "\n",
       "   follower_count  last_online_time_seconds  max_rating   rating  \\\n",
       "0               4                1504111645     348.337  330.849   \n",
       "\n",
       "           rank  registration_time_seconds problem_id attempts_range  \\\n",
       "0  intermediate                 1466686436    prob_75              1   \n",
       "\n",
       "  level_type  points            tags         timespent        days  \n",
       "0          A   500.0  implementation 433 days 03:53:29  433.162141  "
      ]
     },
     "execution_count": 205,
     "metadata": {},
     "output_type": "execute_result"
    }
   ],
   "source": [
    "fnl.head(1)"
   ]
  },
  {
   "cell_type": "markdown",
   "id": "3832f550",
   "metadata": {},
   "source": [
    "##### p value is less than 0.05 so so there is relation"
   ]
  },
  {
   "cell_type": "markdown",
   "id": "180b6a13",
   "metadata": {},
   "source": [
    "## ordinal regression testing"
   ]
  },
  {
   "cell_type": "code",
   "execution_count": 206,
   "id": "baf253c5",
   "metadata": {},
   "outputs": [],
   "source": [
    "df1=fnl[['submission_count','rating','points','max_rating','attempts_range']]\n",
    "from pandas.api.types import CategoricalDtype\n",
    "cat_type = CategoricalDtype(categories=[1,2,3,4,5,6], ordered=True)\n",
    "df1[\"attempts_range\"] = df1[\"attempts_range\"].astype(cat_type)\n"
   ]
  },
  {
   "cell_type": "code",
   "execution_count": 207,
   "id": "7e7802d7",
   "metadata": {},
   "outputs": [
    {
     "name": "stdout",
     "output_type": "stream",
     "text": [
      "Requirement already satisfied: statsmodels in c:\\users\\shraj\\anaconda3\\lib\\site-packages (0.14.0)\n",
      "Requirement already satisfied: patsy>=0.5.2 in c:\\users\\shraj\\anaconda3\\lib\\site-packages (from statsmodels) (0.5.2)\n",
      "Requirement already satisfied: scipy!=1.9.2,>=1.4 in c:\\users\\shraj\\anaconda3\\lib\\site-packages (from statsmodels) (1.7.1)\n",
      "Requirement already satisfied: packaging>=21.3 in c:\\users\\shraj\\anaconda3\\lib\\site-packages (from statsmodels) (23.1)\n",
      "Requirement already satisfied: pandas>=1.0 in c:\\users\\shraj\\anaconda3\\lib\\site-packages (from statsmodels) (1.3.4)\n",
      "Requirement already satisfied: numpy>=1.18 in c:\\users\\shraj\\anaconda3\\lib\\site-packages (from statsmodels) (1.20.3)\n",
      "Requirement already satisfied: pytz>=2017.3 in c:\\users\\shraj\\anaconda3\\lib\\site-packages (from pandas>=1.0->statsmodels) (2021.3)\n",
      "Requirement already satisfied: python-dateutil>=2.7.3 in c:\\users\\shraj\\anaconda3\\lib\\site-packages (from pandas>=1.0->statsmodels) (2.8.2)\n",
      "Requirement already satisfied: six in c:\\users\\shraj\\anaconda3\\lib\\site-packages (from patsy>=0.5.2->statsmodels) (1.16.0)\n",
      "Note: you may need to restart the kernel to use updated packages.\n"
     ]
    }
   ],
   "source": [
    "pip install statsmodels"
   ]
  },
  {
   "cell_type": "markdown",
   "id": "47244aa0",
   "metadata": {},
   "source": [
    "# submsn"
   ]
  },
  {
   "cell_type": "code",
   "execution_count": 208,
   "id": "fcc63a51",
   "metadata": {},
   "outputs": [
    {
     "name": "stdout",
     "output_type": "stream",
     "text": [
      "Optimization terminated successfully.\n",
      "         Current function value: 1.177035\n",
      "         Iterations: 11\n",
      "         Function evaluations: 15\n",
      "         Gradient evaluations: 15\n"
     ]
    },
    {
     "data": {
      "text/html": [
       "<table class=\"simpletable\">\n",
       "<caption>OrderedModel Results</caption>\n",
       "<tr>\n",
       "  <th>Dep. Variable:</th>      <td>attempts_range</td>   <th>  Log-Likelihood:    </th> <td>-1.8206e+05</td>\n",
       "</tr>\n",
       "<tr>\n",
       "  <th>Model:</th>               <td>OrderedModel</td>    <th>  AIC:               </th>  <td>3.641e+05</td> \n",
       "</tr>\n",
       "<tr>\n",
       "  <th>Method:</th>           <td>Maximum Likelihood</td> <th>  BIC:               </th>  <td>3.642e+05</td> \n",
       "</tr>\n",
       "<tr>\n",
       "  <th>Date:</th>              <td>Wed, 09 Aug 2023</td>  <th>                     </th>      <td> </td>     \n",
       "</tr>\n",
       "<tr>\n",
       "  <th>Time:</th>                  <td>21:28:26</td>      <th>                     </th>      <td> </td>     \n",
       "</tr>\n",
       "<tr>\n",
       "  <th>No. Observations:</th>       <td>154675</td>       <th>                     </th>      <td> </td>     \n",
       "</tr>\n",
       "<tr>\n",
       "  <th>Df Residuals:</th>           <td>154669</td>       <th>                     </th>      <td> </td>     \n",
       "</tr>\n",
       "<tr>\n",
       "  <th>Df Model:</th>               <td>     1</td>       <th>                     </th>      <td> </td>     \n",
       "</tr>\n",
       "</table>\n",
       "<table class=\"simpletable\">\n",
       "<tr>\n",
       "          <td></td>            <th>coef</th>     <th>std err</th>      <th>z</th>      <th>P>|z|</th>  <th>[0.025</th>    <th>0.975]</th>  \n",
       "</tr>\n",
       "<tr>\n",
       "  <th>submission_count</th> <td>-3.494e-05</td> <td> 7.35e-06</td> <td>   -4.754</td> <td> 0.000</td> <td>-4.93e-05</td> <td>-2.05e-05</td>\n",
       "</tr>\n",
       "<tr>\n",
       "  <th>1/2</th>              <td>    0.0704</td> <td>    0.004</td> <td>   16.783</td> <td> 0.000</td> <td>    0.062</td> <td>    0.079</td>\n",
       "</tr>\n",
       "<tr>\n",
       "  <th>2/3</th>              <td>   -0.1022</td> <td>    0.004</td> <td>  -25.287</td> <td> 0.000</td> <td>   -0.110</td> <td>   -0.094</td>\n",
       "</tr>\n",
       "<tr>\n",
       "  <th>3/4</th>              <td>   -0.7292</td> <td>    0.008</td> <td>  -91.953</td> <td> 0.000</td> <td>   -0.745</td> <td>   -0.714</td>\n",
       "</tr>\n",
       "<tr>\n",
       "  <th>4/5</th>              <td>   -1.0908</td> <td>    0.013</td> <td>  -83.855</td> <td> 0.000</td> <td>   -1.116</td> <td>   -1.065</td>\n",
       "</tr>\n",
       "<tr>\n",
       "  <th>5/6</th>              <td>   -1.3501</td> <td>    0.020</td> <td>  -69.143</td> <td> 0.000</td> <td>   -1.388</td> <td>   -1.312</td>\n",
       "</tr>\n",
       "</table>"
      ],
      "text/latex": [
       "\\begin{center}\n",
       "\\begin{tabular}{lclc}\n",
       "\\toprule\n",
       "\\textbf{Dep. Variable:}    &  attempts\\_range   & \\textbf{  Log-Likelihood:    } & -1.8206e+05  \\\\\n",
       "\\textbf{Model:}            &    OrderedModel    & \\textbf{  AIC:               } &  3.641e+05   \\\\\n",
       "\\textbf{Method:}           & Maximum Likelihood & \\textbf{  BIC:               } &  3.642e+05   \\\\\n",
       "\\textbf{Date:}             &  Wed, 09 Aug 2023  & \\textbf{                     } &              \\\\\n",
       "\\textbf{Time:}             &      21:28:26      & \\textbf{                     } &              \\\\\n",
       "\\textbf{No. Observations:} &       154675       & \\textbf{                     } &              \\\\\n",
       "\\textbf{Df Residuals:}     &       154669       & \\textbf{                     } &              \\\\\n",
       "\\textbf{Df Model:}         &            1       & \\textbf{                     } &              \\\\\n",
       "\\bottomrule\n",
       "\\end{tabular}\n",
       "\\begin{tabular}{lcccccc}\n",
       "                           & \\textbf{coef} & \\textbf{std err} & \\textbf{z} & \\textbf{P$> |$z$|$} & \\textbf{[0.025} & \\textbf{0.975]}  \\\\\n",
       "\\midrule\n",
       "\\textbf{submission\\_count} &   -3.494e-05  &     7.35e-06     &    -4.754  &         0.000        &    -4.93e-05    &    -2.05e-05     \\\\\n",
       "\\textbf{1/2}               &       0.0704  &        0.004     &    16.783  &         0.000        &        0.062    &        0.079     \\\\\n",
       "\\textbf{2/3}               &      -0.1022  &        0.004     &   -25.287  &         0.000        &       -0.110    &       -0.094     \\\\\n",
       "\\textbf{3/4}               &      -0.7292  &        0.008     &   -91.953  &         0.000        &       -0.745    &       -0.714     \\\\\n",
       "\\textbf{4/5}               &      -1.0908  &        0.013     &   -83.855  &         0.000        &       -1.116    &       -1.065     \\\\\n",
       "\\textbf{5/6}               &      -1.3501  &        0.020     &   -69.143  &         0.000        &       -1.388    &       -1.312     \\\\\n",
       "\\bottomrule\n",
       "\\end{tabular}\n",
       "%\\caption{OrderedModel Results}\n",
       "\\end{center}"
      ],
      "text/plain": [
       "<class 'statsmodels.iolib.summary.Summary'>\n",
       "\"\"\"\n",
       "                             OrderedModel Results                             \n",
       "==============================================================================\n",
       "Dep. Variable:         attempts_range   Log-Likelihood:            -1.8206e+05\n",
       "Model:                   OrderedModel   AIC:                         3.641e+05\n",
       "Method:            Maximum Likelihood   BIC:                         3.642e+05\n",
       "Date:                Wed, 09 Aug 2023                                         \n",
       "Time:                        21:28:26                                         \n",
       "No. Observations:              154675                                         \n",
       "Df Residuals:                  154669                                         \n",
       "Df Model:                           1                                         \n",
       "====================================================================================\n",
       "                       coef    std err          z      P>|z|      [0.025      0.975]\n",
       "------------------------------------------------------------------------------------\n",
       "submission_count -3.494e-05   7.35e-06     -4.754      0.000   -4.93e-05   -2.05e-05\n",
       "1/2                  0.0704      0.004     16.783      0.000       0.062       0.079\n",
       "2/3                 -0.1022      0.004    -25.287      0.000      -0.110      -0.094\n",
       "3/4                 -0.7292      0.008    -91.953      0.000      -0.745      -0.714\n",
       "4/5                 -1.0908      0.013    -83.855      0.000      -1.116      -1.065\n",
       "5/6                 -1.3501      0.020    -69.143      0.000      -1.388      -1.312\n",
       "====================================================================================\n",
       "\"\"\""
      ]
     },
     "execution_count": 208,
     "metadata": {},
     "output_type": "execute_result"
    }
   ],
   "source": [
    "from statsmodels.miscmodels.ordinal_model import OrderedModel\n",
    "\n",
    "mod_prob = OrderedModel(df1['attempts_range'],\n",
    "                        df1['submission_count'],\n",
    "                        distr='probit')\n",
    "\n",
    "res_prob = mod_prob.fit(method='bfgs')\n",
    "res_prob.summary()"
   ]
  },
  {
   "cell_type": "code",
   "execution_count": 209,
   "id": "0f343581",
   "metadata": {},
   "outputs": [],
   "source": [
    "#There is relation"
   ]
  },
  {
   "cell_type": "code",
   "execution_count": 233,
   "id": "ec593d67",
   "metadata": {},
   "outputs": [
    {
     "data": {
      "text/plain": [
       "0.9999650606103947"
      ]
     },
     "execution_count": 233,
     "metadata": {},
     "output_type": "execute_result"
    }
   ],
   "source": []
  },
  {
   "cell_type": "markdown",
   "id": "661b1bef",
   "metadata": {},
   "source": [
    "### ratings"
   ]
  },
  {
   "cell_type": "code",
   "execution_count": 210,
   "id": "26c05565",
   "metadata": {},
   "outputs": [
    {
     "name": "stdout",
     "output_type": "stream",
     "text": [
      "Optimization terminated successfully.\n",
      "         Current function value: 1.175954\n",
      "         Iterations: 20\n",
      "         Function evaluations: 23\n",
      "         Gradient evaluations: 23\n"
     ]
    },
    {
     "data": {
      "text/html": [
       "<table class=\"simpletable\">\n",
       "<caption>OrderedModel Results</caption>\n",
       "<tr>\n",
       "  <th>Dep. Variable:</th>      <td>attempts_range</td>   <th>  Log-Likelihood:    </th> <td>-1.8189e+05</td>\n",
       "</tr>\n",
       "<tr>\n",
       "  <th>Model:</th>               <td>OrderedModel</td>    <th>  AIC:               </th>  <td>3.638e+05</td> \n",
       "</tr>\n",
       "<tr>\n",
       "  <th>Method:</th>           <td>Maximum Likelihood</td> <th>  BIC:               </th>  <td>3.639e+05</td> \n",
       "</tr>\n",
       "<tr>\n",
       "  <th>Date:</th>              <td>Wed, 09 Aug 2023</td>  <th>                     </th>      <td> </td>     \n",
       "</tr>\n",
       "<tr>\n",
       "  <th>Time:</th>                  <td>21:28:34</td>      <th>                     </th>      <td> </td>     \n",
       "</tr>\n",
       "<tr>\n",
       "  <th>No. Observations:</th>       <td>154675</td>       <th>                     </th>      <td> </td>     \n",
       "</tr>\n",
       "<tr>\n",
       "  <th>Df Residuals:</th>           <td>154669</td>       <th>                     </th>      <td> </td>     \n",
       "</tr>\n",
       "<tr>\n",
       "  <th>Df Model:</th>               <td>     1</td>       <th>                     </th>      <td> </td>     \n",
       "</tr>\n",
       "</table>\n",
       "<table class=\"simpletable\">\n",
       "<tr>\n",
       "     <td></td>       <th>coef</th>     <th>std err</th>      <th>z</th>      <th>P>|z|</th>  <th>[0.025</th>    <th>0.975]</th>  \n",
       "</tr>\n",
       "<tr>\n",
       "  <th>rating</th> <td>   -0.0005</td> <td> 2.61e-05</td> <td>  -18.869</td> <td> 0.000</td> <td>   -0.001</td> <td>   -0.000</td>\n",
       "</tr>\n",
       "<tr>\n",
       "  <th>1/2</th>    <td>   -0.0977</td> <td>    0.010</td> <td>   -9.672</td> <td> 0.000</td> <td>   -0.117</td> <td>   -0.078</td>\n",
       "</tr>\n",
       "<tr>\n",
       "  <th>2/3</th>    <td>   -0.1006</td> <td>    0.004</td> <td>  -24.891</td> <td> 0.000</td> <td>   -0.109</td> <td>   -0.093</td>\n",
       "</tr>\n",
       "<tr>\n",
       "  <th>3/4</th>    <td>   -0.7280</td> <td>    0.008</td> <td>  -91.815</td> <td> 0.000</td> <td>   -0.744</td> <td>   -0.712</td>\n",
       "</tr>\n",
       "<tr>\n",
       "  <th>4/5</th>    <td>   -1.0905</td> <td>    0.013</td> <td>  -83.837</td> <td> 0.000</td> <td>   -1.116</td> <td>   -1.065</td>\n",
       "</tr>\n",
       "<tr>\n",
       "  <th>5/6</th>    <td>   -1.3507</td> <td>    0.020</td> <td>  -69.165</td> <td> 0.000</td> <td>   -1.389</td> <td>   -1.312</td>\n",
       "</tr>\n",
       "</table>"
      ],
      "text/latex": [
       "\\begin{center}\n",
       "\\begin{tabular}{lclc}\n",
       "\\toprule\n",
       "\\textbf{Dep. Variable:}    &  attempts\\_range   & \\textbf{  Log-Likelihood:    } & -1.8189e+05  \\\\\n",
       "\\textbf{Model:}            &    OrderedModel    & \\textbf{  AIC:               } &  3.638e+05   \\\\\n",
       "\\textbf{Method:}           & Maximum Likelihood & \\textbf{  BIC:               } &  3.639e+05   \\\\\n",
       "\\textbf{Date:}             &  Wed, 09 Aug 2023  & \\textbf{                     } &              \\\\\n",
       "\\textbf{Time:}             &      21:28:34      & \\textbf{                     } &              \\\\\n",
       "\\textbf{No. Observations:} &       154675       & \\textbf{                     } &              \\\\\n",
       "\\textbf{Df Residuals:}     &       154669       & \\textbf{                     } &              \\\\\n",
       "\\textbf{Df Model:}         &            1       & \\textbf{                     } &              \\\\\n",
       "\\bottomrule\n",
       "\\end{tabular}\n",
       "\\begin{tabular}{lcccccc}\n",
       "                & \\textbf{coef} & \\textbf{std err} & \\textbf{z} & \\textbf{P$> |$z$|$} & \\textbf{[0.025} & \\textbf{0.975]}  \\\\\n",
       "\\midrule\n",
       "\\textbf{rating} &      -0.0005  &     2.61e-05     &   -18.869  &         0.000        &       -0.001    &       -0.000     \\\\\n",
       "\\textbf{1/2}    &      -0.0977  &        0.010     &    -9.672  &         0.000        &       -0.117    &       -0.078     \\\\\n",
       "\\textbf{2/3}    &      -0.1006  &        0.004     &   -24.891  &         0.000        &       -0.109    &       -0.093     \\\\\n",
       "\\textbf{3/4}    &      -0.7280  &        0.008     &   -91.815  &         0.000        &       -0.744    &       -0.712     \\\\\n",
       "\\textbf{4/5}    &      -1.0905  &        0.013     &   -83.837  &         0.000        &       -1.116    &       -1.065     \\\\\n",
       "\\textbf{5/6}    &      -1.3507  &        0.020     &   -69.165  &         0.000        &       -1.389    &       -1.312     \\\\\n",
       "\\bottomrule\n",
       "\\end{tabular}\n",
       "%\\caption{OrderedModel Results}\n",
       "\\end{center}"
      ],
      "text/plain": [
       "<class 'statsmodels.iolib.summary.Summary'>\n",
       "\"\"\"\n",
       "                             OrderedModel Results                             \n",
       "==============================================================================\n",
       "Dep. Variable:         attempts_range   Log-Likelihood:            -1.8189e+05\n",
       "Model:                   OrderedModel   AIC:                         3.638e+05\n",
       "Method:            Maximum Likelihood   BIC:                         3.639e+05\n",
       "Date:                Wed, 09 Aug 2023                                         \n",
       "Time:                        21:28:34                                         \n",
       "No. Observations:              154675                                         \n",
       "Df Residuals:                  154669                                         \n",
       "Df Model:                           1                                         \n",
       "==============================================================================\n",
       "                 coef    std err          z      P>|z|      [0.025      0.975]\n",
       "------------------------------------------------------------------------------\n",
       "rating        -0.0005   2.61e-05    -18.869      0.000      -0.001      -0.000\n",
       "1/2           -0.0977      0.010     -9.672      0.000      -0.117      -0.078\n",
       "2/3           -0.1006      0.004    -24.891      0.000      -0.109      -0.093\n",
       "3/4           -0.7280      0.008    -91.815      0.000      -0.744      -0.712\n",
       "4/5           -1.0905      0.013    -83.837      0.000      -1.116      -1.065\n",
       "5/6           -1.3507      0.020    -69.165      0.000      -1.389      -1.312\n",
       "==============================================================================\n",
       "\"\"\""
      ]
     },
     "execution_count": 210,
     "metadata": {},
     "output_type": "execute_result"
    }
   ],
   "source": [
    "from statsmodels.miscmodels.ordinal_model import OrderedModel\n",
    "\n",
    "mod_prob = OrderedModel(df1['attempts_range'],\n",
    "                        df1['rating'],\n",
    "                        distr='probit')\n",
    "\n",
    "res_prob = mod_prob.fit(method='bfgs')\n",
    "res_prob.summary()"
   ]
  },
  {
   "cell_type": "code",
   "execution_count": 232,
   "id": "3782437e",
   "metadata": {},
   "outputs": [
    {
     "ename": "AttributeError",
     "evalue": "'OrderedResults' object has no attribute 'print_summary'",
     "output_type": "error",
     "traceback": [
      "\u001b[1;31m---------------------------------------------------------------------------\u001b[0m",
      "\u001b[1;31mAttributeError\u001b[0m                            Traceback (most recent call last)",
      "\u001b[1;32m~\\AppData\\Local\\Temp/ipykernel_22148/2930123935.py\u001b[0m in \u001b[0;36m<module>\u001b[1;34m\u001b[0m\n\u001b[1;32m----> 1\u001b[1;33m \u001b[0mres_prob\u001b[0m\u001b[1;33m.\u001b[0m\u001b[0mprint_summary\u001b[0m\u001b[1;33m(\u001b[0m\u001b[1;33m)\u001b[0m\u001b[1;33m\u001b[0m\u001b[1;33m\u001b[0m\u001b[0m\n\u001b[0m",
      "\u001b[1;32m~\\anaconda3\\lib\\site-packages\\statsmodels\\base\\wrapper.py\u001b[0m in \u001b[0;36m__getattribute__\u001b[1;34m(self, attr)\u001b[0m\n\u001b[0;32m     32\u001b[0m             \u001b[1;32mpass\u001b[0m\u001b[1;33m\u001b[0m\u001b[1;33m\u001b[0m\u001b[0m\n\u001b[0;32m     33\u001b[0m \u001b[1;33m\u001b[0m\u001b[0m\n\u001b[1;32m---> 34\u001b[1;33m         \u001b[0mobj\u001b[0m \u001b[1;33m=\u001b[0m \u001b[0mgetattr\u001b[0m\u001b[1;33m(\u001b[0m\u001b[0mresults\u001b[0m\u001b[1;33m,\u001b[0m \u001b[0mattr\u001b[0m\u001b[1;33m)\u001b[0m\u001b[1;33m\u001b[0m\u001b[1;33m\u001b[0m\u001b[0m\n\u001b[0m\u001b[0;32m     35\u001b[0m         \u001b[0mdata\u001b[0m \u001b[1;33m=\u001b[0m \u001b[0mresults\u001b[0m\u001b[1;33m.\u001b[0m\u001b[0mmodel\u001b[0m\u001b[1;33m.\u001b[0m\u001b[0mdata\u001b[0m\u001b[1;33m\u001b[0m\u001b[1;33m\u001b[0m\u001b[0m\n\u001b[0;32m     36\u001b[0m         \u001b[0mhow\u001b[0m \u001b[1;33m=\u001b[0m \u001b[0mself\u001b[0m\u001b[1;33m.\u001b[0m\u001b[0m_wrap_attrs\u001b[0m\u001b[1;33m.\u001b[0m\u001b[0mget\u001b[0m\u001b[1;33m(\u001b[0m\u001b[0mattr\u001b[0m\u001b[1;33m)\u001b[0m\u001b[1;33m\u001b[0m\u001b[1;33m\u001b[0m\u001b[0m\n",
      "\u001b[1;31mAttributeError\u001b[0m: 'OrderedResults' object has no attribute 'print_summary'"
     ]
    }
   ],
   "source": [
    "res_prob.print_summary()"
   ]
  },
  {
   "cell_type": "code",
   "execution_count": 211,
   "id": "7e951f94",
   "metadata": {},
   "outputs": [],
   "source": [
    "# Pvalue is 0.0 so reltion exist"
   ]
  },
  {
   "cell_type": "code",
   "execution_count": null,
   "id": "07165bbd",
   "metadata": {},
   "outputs": [],
   "source": []
  },
  {
   "cell_type": "markdown",
   "id": "66eb088f",
   "metadata": {},
   "source": [
    "# Points"
   ]
  },
  {
   "cell_type": "code",
   "execution_count": 212,
   "id": "15226bc7",
   "metadata": {},
   "outputs": [
    {
     "name": "stdout",
     "output_type": "stream",
     "text": [
      "Optimization terminated successfully.\n",
      "         Current function value: 1.147640\n",
      "         Iterations: 27\n",
      "         Function evaluations: 31\n",
      "         Gradient evaluations: 31\n"
     ]
    },
    {
     "data": {
      "text/html": [
       "<table class=\"simpletable\">\n",
       "<caption>OrderedModel Results</caption>\n",
       "<tr>\n",
       "  <th>Dep. Variable:</th>      <td>attempts_range</td>   <th>  Log-Likelihood:    </th> <td>-1.7751e+05</td>\n",
       "</tr>\n",
       "<tr>\n",
       "  <th>Model:</th>               <td>OrderedModel</td>    <th>  AIC:               </th>  <td>3.550e+05</td> \n",
       "</tr>\n",
       "<tr>\n",
       "  <th>Method:</th>           <td>Maximum Likelihood</td> <th>  BIC:               </th>  <td>3.551e+05</td> \n",
       "</tr>\n",
       "<tr>\n",
       "  <th>Date:</th>              <td>Wed, 09 Aug 2023</td>  <th>                     </th>      <td> </td>     \n",
       "</tr>\n",
       "<tr>\n",
       "  <th>Time:</th>                  <td>21:28:46</td>      <th>                     </th>      <td> </td>     \n",
       "</tr>\n",
       "<tr>\n",
       "  <th>No. Observations:</th>       <td>154675</td>       <th>                     </th>      <td> </td>     \n",
       "</tr>\n",
       "<tr>\n",
       "  <th>Df Residuals:</th>           <td>154669</td>       <th>                     </th>      <td> </td>     \n",
       "</tr>\n",
       "<tr>\n",
       "  <th>Df Model:</th>               <td>     1</td>       <th>                     </th>      <td> </td>     \n",
       "</tr>\n",
       "</table>\n",
       "<table class=\"simpletable\">\n",
       "<tr>\n",
       "     <td></td>       <th>coef</th>     <th>std err</th>      <th>z</th>      <th>P>|z|</th>  <th>[0.025</th>    <th>0.975]</th>  \n",
       "</tr>\n",
       "<tr>\n",
       "  <th>points</th> <td>    0.0005</td> <td> 5.56e-06</td> <td>   95.522</td> <td> 0.000</td> <td>    0.001</td> <td>    0.001</td>\n",
       "</tr>\n",
       "<tr>\n",
       "  <th>1/2</th>    <td>    0.6131</td> <td>    0.006</td> <td>   94.981</td> <td> 0.000</td> <td>    0.600</td> <td>    0.626</td>\n",
       "</tr>\n",
       "<tr>\n",
       "  <th>2/3</th>    <td>   -0.0635</td> <td>    0.004</td> <td>  -15.714</td> <td> 0.000</td> <td>   -0.071</td> <td>   -0.056</td>\n",
       "</tr>\n",
       "<tr>\n",
       "  <th>3/4</th>    <td>   -0.6847</td> <td>    0.008</td> <td>  -86.556</td> <td> 0.000</td> <td>   -0.700</td> <td>   -0.669</td>\n",
       "</tr>\n",
       "<tr>\n",
       "  <th>4/5</th>    <td>   -1.0424</td> <td>    0.013</td> <td>  -80.344</td> <td> 0.000</td> <td>   -1.068</td> <td>   -1.017</td>\n",
       "</tr>\n",
       "<tr>\n",
       "  <th>5/6</th>    <td>   -1.2988</td> <td>    0.019</td> <td>  -66.673</td> <td> 0.000</td> <td>   -1.337</td> <td>   -1.261</td>\n",
       "</tr>\n",
       "</table>"
      ],
      "text/latex": [
       "\\begin{center}\n",
       "\\begin{tabular}{lclc}\n",
       "\\toprule\n",
       "\\textbf{Dep. Variable:}    &  attempts\\_range   & \\textbf{  Log-Likelihood:    } & -1.7751e+05  \\\\\n",
       "\\textbf{Model:}            &    OrderedModel    & \\textbf{  AIC:               } &  3.550e+05   \\\\\n",
       "\\textbf{Method:}           & Maximum Likelihood & \\textbf{  BIC:               } &  3.551e+05   \\\\\n",
       "\\textbf{Date:}             &  Wed, 09 Aug 2023  & \\textbf{                     } &              \\\\\n",
       "\\textbf{Time:}             &      21:28:46      & \\textbf{                     } &              \\\\\n",
       "\\textbf{No. Observations:} &       154675       & \\textbf{                     } &              \\\\\n",
       "\\textbf{Df Residuals:}     &       154669       & \\textbf{                     } &              \\\\\n",
       "\\textbf{Df Model:}         &            1       & \\textbf{                     } &              \\\\\n",
       "\\bottomrule\n",
       "\\end{tabular}\n",
       "\\begin{tabular}{lcccccc}\n",
       "                & \\textbf{coef} & \\textbf{std err} & \\textbf{z} & \\textbf{P$> |$z$|$} & \\textbf{[0.025} & \\textbf{0.975]}  \\\\\n",
       "\\midrule\n",
       "\\textbf{points} &       0.0005  &     5.56e-06     &    95.522  &         0.000        &        0.001    &        0.001     \\\\\n",
       "\\textbf{1/2}    &       0.6131  &        0.006     &    94.981  &         0.000        &        0.600    &        0.626     \\\\\n",
       "\\textbf{2/3}    &      -0.0635  &        0.004     &   -15.714  &         0.000        &       -0.071    &       -0.056     \\\\\n",
       "\\textbf{3/4}    &      -0.6847  &        0.008     &   -86.556  &         0.000        &       -0.700    &       -0.669     \\\\\n",
       "\\textbf{4/5}    &      -1.0424  &        0.013     &   -80.344  &         0.000        &       -1.068    &       -1.017     \\\\\n",
       "\\textbf{5/6}    &      -1.2988  &        0.019     &   -66.673  &         0.000        &       -1.337    &       -1.261     \\\\\n",
       "\\bottomrule\n",
       "\\end{tabular}\n",
       "%\\caption{OrderedModel Results}\n",
       "\\end{center}"
      ],
      "text/plain": [
       "<class 'statsmodels.iolib.summary.Summary'>\n",
       "\"\"\"\n",
       "                             OrderedModel Results                             \n",
       "==============================================================================\n",
       "Dep. Variable:         attempts_range   Log-Likelihood:            -1.7751e+05\n",
       "Model:                   OrderedModel   AIC:                         3.550e+05\n",
       "Method:            Maximum Likelihood   BIC:                         3.551e+05\n",
       "Date:                Wed, 09 Aug 2023                                         \n",
       "Time:                        21:28:46                                         \n",
       "No. Observations:              154675                                         \n",
       "Df Residuals:                  154669                                         \n",
       "Df Model:                           1                                         \n",
       "==============================================================================\n",
       "                 coef    std err          z      P>|z|      [0.025      0.975]\n",
       "------------------------------------------------------------------------------\n",
       "points         0.0005   5.56e-06     95.522      0.000       0.001       0.001\n",
       "1/2            0.6131      0.006     94.981      0.000       0.600       0.626\n",
       "2/3           -0.0635      0.004    -15.714      0.000      -0.071      -0.056\n",
       "3/4           -0.6847      0.008    -86.556      0.000      -0.700      -0.669\n",
       "4/5           -1.0424      0.013    -80.344      0.000      -1.068      -1.017\n",
       "5/6           -1.2988      0.019    -66.673      0.000      -1.337      -1.261\n",
       "==============================================================================\n",
       "\"\"\""
      ]
     },
     "execution_count": 212,
     "metadata": {},
     "output_type": "execute_result"
    }
   ],
   "source": [
    "from statsmodels.miscmodels.ordinal_model import OrderedModel\n",
    "\n",
    "mod_prob = OrderedModel(df1['attempts_range'],\n",
    "                        df1['points'],\n",
    "                        distr='probit')\n",
    "\n",
    "res_prob = mod_prob.fit(method='bfgs')\n",
    "res_prob.summary()"
   ]
  },
  {
   "cell_type": "code",
   "execution_count": 213,
   "id": "e3bb58b7",
   "metadata": {},
   "outputs": [],
   "source": [
    "#relation exist"
   ]
  },
  {
   "cell_type": "code",
   "execution_count": null,
   "id": "33c29308",
   "metadata": {},
   "outputs": [],
   "source": []
  },
  {
   "cell_type": "markdown",
   "id": "9b8571d3",
   "metadata": {},
   "source": [
    "# max_ratings"
   ]
  },
  {
   "cell_type": "code",
   "execution_count": null,
   "id": "e77b3989",
   "metadata": {},
   "outputs": [],
   "source": []
  },
  {
   "cell_type": "code",
   "execution_count": 214,
   "id": "54db3409",
   "metadata": {},
   "outputs": [
    {
     "name": "stdout",
     "output_type": "stream",
     "text": [
      "Optimization terminated successfully.\n",
      "         Current function value: 1.175761\n",
      "         Iterations: 21\n",
      "         Function evaluations: 24\n",
      "         Gradient evaluations: 24\n"
     ]
    },
    {
     "data": {
      "text/html": [
       "<table class=\"simpletable\">\n",
       "<caption>OrderedModel Results</caption>\n",
       "<tr>\n",
       "  <th>Dep. Variable:</th>      <td>attempts_range</td>   <th>  Log-Likelihood:    </th> <td>-1.8186e+05</td>\n",
       "</tr>\n",
       "<tr>\n",
       "  <th>Model:</th>               <td>OrderedModel</td>    <th>  AIC:               </th>  <td>3.637e+05</td> \n",
       "</tr>\n",
       "<tr>\n",
       "  <th>Method:</th>           <td>Maximum Likelihood</td> <th>  BIC:               </th>  <td>3.638e+05</td> \n",
       "</tr>\n",
       "<tr>\n",
       "  <th>Date:</th>              <td>Wed, 09 Aug 2023</td>  <th>                     </th>      <td> </td>     \n",
       "</tr>\n",
       "<tr>\n",
       "  <th>Time:</th>                  <td>21:28:55</td>      <th>                     </th>      <td> </td>     \n",
       "</tr>\n",
       "<tr>\n",
       "  <th>No. Observations:</th>       <td>154675</td>       <th>                     </th>      <td> </td>     \n",
       "</tr>\n",
       "<tr>\n",
       "  <th>Df Residuals:</th>           <td>154669</td>       <th>                     </th>      <td> </td>     \n",
       "</tr>\n",
       "<tr>\n",
       "  <th>Df Model:</th>               <td>     1</td>       <th>                     </th>      <td> </td>     \n",
       "</tr>\n",
       "</table>\n",
       "<table class=\"simpletable\">\n",
       "<tr>\n",
       "       <td></td>         <th>coef</th>     <th>std err</th>      <th>z</th>      <th>P>|z|</th>  <th>[0.025</th>    <th>0.975]</th>  \n",
       "</tr>\n",
       "<tr>\n",
       "  <th>max_rating</th> <td>   -0.0006</td> <td> 2.95e-05</td> <td>  -20.352</td> <td> 0.000</td> <td>   -0.001</td> <td>   -0.001</td>\n",
       "</tr>\n",
       "<tr>\n",
       "  <th>1/2</th>        <td>   -0.1613</td> <td>    0.012</td> <td>  -12.984</td> <td> 0.000</td> <td>   -0.186</td> <td>   -0.137</td>\n",
       "</tr>\n",
       "<tr>\n",
       "  <th>2/3</th>        <td>   -0.1003</td> <td>    0.004</td> <td>  -24.825</td> <td> 0.000</td> <td>   -0.108</td> <td>   -0.092</td>\n",
       "</tr>\n",
       "<tr>\n",
       "  <th>3/4</th>        <td>   -0.7278</td> <td>    0.008</td> <td>  -91.784</td> <td> 0.000</td> <td>   -0.743</td> <td>   -0.712</td>\n",
       "</tr>\n",
       "<tr>\n",
       "  <th>4/5</th>        <td>   -1.0903</td> <td>    0.013</td> <td>  -83.825</td> <td> 0.000</td> <td>   -1.116</td> <td>   -1.065</td>\n",
       "</tr>\n",
       "<tr>\n",
       "  <th>5/6</th>        <td>   -1.3507</td> <td>    0.020</td> <td>  -69.164</td> <td> 0.000</td> <td>   -1.389</td> <td>   -1.312</td>\n",
       "</tr>\n",
       "</table>"
      ],
      "text/latex": [
       "\\begin{center}\n",
       "\\begin{tabular}{lclc}\n",
       "\\toprule\n",
       "\\textbf{Dep. Variable:}    &  attempts\\_range   & \\textbf{  Log-Likelihood:    } & -1.8186e+05  \\\\\n",
       "\\textbf{Model:}            &    OrderedModel    & \\textbf{  AIC:               } &  3.637e+05   \\\\\n",
       "\\textbf{Method:}           & Maximum Likelihood & \\textbf{  BIC:               } &  3.638e+05   \\\\\n",
       "\\textbf{Date:}             &  Wed, 09 Aug 2023  & \\textbf{                     } &              \\\\\n",
       "\\textbf{Time:}             &      21:28:55      & \\textbf{                     } &              \\\\\n",
       "\\textbf{No. Observations:} &       154675       & \\textbf{                     } &              \\\\\n",
       "\\textbf{Df Residuals:}     &       154669       & \\textbf{                     } &              \\\\\n",
       "\\textbf{Df Model:}         &            1       & \\textbf{                     } &              \\\\\n",
       "\\bottomrule\n",
       "\\end{tabular}\n",
       "\\begin{tabular}{lcccccc}\n",
       "                     & \\textbf{coef} & \\textbf{std err} & \\textbf{z} & \\textbf{P$> |$z$|$} & \\textbf{[0.025} & \\textbf{0.975]}  \\\\\n",
       "\\midrule\n",
       "\\textbf{max\\_rating} &      -0.0006  &     2.95e-05     &   -20.352  &         0.000        &       -0.001    &       -0.001     \\\\\n",
       "\\textbf{1/2}         &      -0.1613  &        0.012     &   -12.984  &         0.000        &       -0.186    &       -0.137     \\\\\n",
       "\\textbf{2/3}         &      -0.1003  &        0.004     &   -24.825  &         0.000        &       -0.108    &       -0.092     \\\\\n",
       "\\textbf{3/4}         &      -0.7278  &        0.008     &   -91.784  &         0.000        &       -0.743    &       -0.712     \\\\\n",
       "\\textbf{4/5}         &      -1.0903  &        0.013     &   -83.825  &         0.000        &       -1.116    &       -1.065     \\\\\n",
       "\\textbf{5/6}         &      -1.3507  &        0.020     &   -69.164  &         0.000        &       -1.389    &       -1.312     \\\\\n",
       "\\bottomrule\n",
       "\\end{tabular}\n",
       "%\\caption{OrderedModel Results}\n",
       "\\end{center}"
      ],
      "text/plain": [
       "<class 'statsmodels.iolib.summary.Summary'>\n",
       "\"\"\"\n",
       "                             OrderedModel Results                             \n",
       "==============================================================================\n",
       "Dep. Variable:         attempts_range   Log-Likelihood:            -1.8186e+05\n",
       "Model:                   OrderedModel   AIC:                         3.637e+05\n",
       "Method:            Maximum Likelihood   BIC:                         3.638e+05\n",
       "Date:                Wed, 09 Aug 2023                                         \n",
       "Time:                        21:28:55                                         \n",
       "No. Observations:              154675                                         \n",
       "Df Residuals:                  154669                                         \n",
       "Df Model:                           1                                         \n",
       "==============================================================================\n",
       "                 coef    std err          z      P>|z|      [0.025      0.975]\n",
       "------------------------------------------------------------------------------\n",
       "max_rating    -0.0006   2.95e-05    -20.352      0.000      -0.001      -0.001\n",
       "1/2           -0.1613      0.012    -12.984      0.000      -0.186      -0.137\n",
       "2/3           -0.1003      0.004    -24.825      0.000      -0.108      -0.092\n",
       "3/4           -0.7278      0.008    -91.784      0.000      -0.743      -0.712\n",
       "4/5           -1.0903      0.013    -83.825      0.000      -1.116      -1.065\n",
       "5/6           -1.3507      0.020    -69.164      0.000      -1.389      -1.312\n",
       "==============================================================================\n",
       "\"\"\""
      ]
     },
     "execution_count": 214,
     "metadata": {},
     "output_type": "execute_result"
    }
   ],
   "source": [
    "from statsmodels.miscmodels.ordinal_model import OrderedModel\n",
    "\n",
    "mod_prob = OrderedModel(df1['attempts_range'],\n",
    "                        df1['max_rating'],\n",
    "                        distr='probit')\n",
    "\n",
    "res_prob = mod_prob.fit(method='bfgs')\n",
    "res_prob.summary()"
   ]
  },
  {
   "cell_type": "code",
   "execution_count": null,
   "id": "a3d8d98f",
   "metadata": {},
   "outputs": [],
   "source": []
  },
  {
   "cell_type": "code",
   "execution_count": null,
   "id": "498fe596",
   "metadata": {},
   "outputs": [],
   "source": []
  },
  {
   "cell_type": "code",
   "execution_count": 215,
   "id": "67f3691c",
   "metadata": {},
   "outputs": [
    {
     "name": "stdout",
     "output_type": "stream",
     "text": [
      "Requirement already satisfied: statsmodels in c:\\users\\shraj\\anaconda3\\lib\\site-packages (0.14.0)\n",
      "Note: you may need to restart the kernel to use updated packages.\n"
     ]
    }
   ],
   "source": [
    "pip install --upgrade --no-deps statsmodels"
   ]
  },
  {
   "cell_type": "code",
   "execution_count": null,
   "id": "c6c86860",
   "metadata": {},
   "outputs": [],
   "source": []
  },
  {
   "cell_type": "code",
   "execution_count": null,
   "id": "a1d6dfde",
   "metadata": {},
   "outputs": [],
   "source": []
  },
  {
   "cell_type": "code",
   "execution_count": null,
   "id": "c9fdf0d3",
   "metadata": {},
   "outputs": [],
   "source": []
  },
  {
   "cell_type": "code",
   "execution_count": null,
   "id": "3b7e491d",
   "metadata": {},
   "outputs": [],
   "source": []
  },
  {
   "cell_type": "code",
   "execution_count": 216,
   "id": "0a54f0ff",
   "metadata": {},
   "outputs": [
    {
     "data": {
      "text/html": [
       "<div>\n",
       "<style scoped>\n",
       "    .dataframe tbody tr th:only-of-type {\n",
       "        vertical-align: middle;\n",
       "    }\n",
       "\n",
       "    .dataframe tbody tr th {\n",
       "        vertical-align: top;\n",
       "    }\n",
       "\n",
       "    .dataframe thead th {\n",
       "        text-align: right;\n",
       "    }\n",
       "</style>\n",
       "<table border=\"1\" class=\"dataframe\">\n",
       "  <thead>\n",
       "    <tr style=\"text-align: right;\">\n",
       "      <th></th>\n",
       "      <th>user_id</th>\n",
       "      <th>submission_count</th>\n",
       "      <th>problem_solved</th>\n",
       "      <th>contribution</th>\n",
       "      <th>country</th>\n",
       "      <th>follower_count</th>\n",
       "      <th>last_online_time_seconds</th>\n",
       "      <th>max_rating</th>\n",
       "      <th>rating</th>\n",
       "      <th>rank</th>\n",
       "      <th>registration_time_seconds</th>\n",
       "      <th>problem_id</th>\n",
       "      <th>attempts_range</th>\n",
       "      <th>level_type</th>\n",
       "      <th>points</th>\n",
       "      <th>tags</th>\n",
       "      <th>timespent</th>\n",
       "      <th>days</th>\n",
       "    </tr>\n",
       "  </thead>\n",
       "  <tbody>\n",
       "    <tr>\n",
       "      <th>0</th>\n",
       "      <td>user_3311</td>\n",
       "      <td>47</td>\n",
       "      <td>40</td>\n",
       "      <td>0</td>\n",
       "      <td>NaN</td>\n",
       "      <td>4</td>\n",
       "      <td>1504111645</td>\n",
       "      <td>348.337</td>\n",
       "      <td>330.849</td>\n",
       "      <td>intermediate</td>\n",
       "      <td>1466686436</td>\n",
       "      <td>prob_75</td>\n",
       "      <td>1</td>\n",
       "      <td>A</td>\n",
       "      <td>500.0</td>\n",
       "      <td>implementation</td>\n",
       "      <td>433 days 03:53:29</td>\n",
       "      <td>433.162141</td>\n",
       "    </tr>\n",
       "    <tr>\n",
       "      <th>1</th>\n",
       "      <td>user_1972</td>\n",
       "      <td>107</td>\n",
       "      <td>99</td>\n",
       "      <td>0</td>\n",
       "      <td>India</td>\n",
       "      <td>11</td>\n",
       "      <td>1504291325</td>\n",
       "      <td>304.186</td>\n",
       "      <td>203.842</td>\n",
       "      <td>beginner</td>\n",
       "      <td>1439050893</td>\n",
       "      <td>prob_75</td>\n",
       "      <td>2</td>\n",
       "      <td>A</td>\n",
       "      <td>500.0</td>\n",
       "      <td>implementation</td>\n",
       "      <td>755 days 02:20:32</td>\n",
       "      <td>755.097593</td>\n",
       "    </tr>\n",
       "    <tr>\n",
       "      <th>2</th>\n",
       "      <td>user_3317</td>\n",
       "      <td>735</td>\n",
       "      <td>715</td>\n",
       "      <td>0</td>\n",
       "      <td>Vietnam</td>\n",
       "      <td>9</td>\n",
       "      <td>1484278246</td>\n",
       "      <td>419.438</td>\n",
       "      <td>353.211</td>\n",
       "      <td>intermediate</td>\n",
       "      <td>1421847147</td>\n",
       "      <td>prob_75</td>\n",
       "      <td>2</td>\n",
       "      <td>A</td>\n",
       "      <td>500.0</td>\n",
       "      <td>implementation</td>\n",
       "      <td>722 days 13:58:19</td>\n",
       "      <td>722.582164</td>\n",
       "    </tr>\n",
       "    <tr>\n",
       "      <th>3</th>\n",
       "      <td>user_2412</td>\n",
       "      <td>169</td>\n",
       "      <td>159</td>\n",
       "      <td>0</td>\n",
       "      <td>NaN</td>\n",
       "      <td>2</td>\n",
       "      <td>1505569083</td>\n",
       "      <td>345.757</td>\n",
       "      <td>345.757</td>\n",
       "      <td>intermediate</td>\n",
       "      <td>1429008478</td>\n",
       "      <td>prob_75</td>\n",
       "      <td>1</td>\n",
       "      <td>A</td>\n",
       "      <td>500.0</td>\n",
       "      <td>implementation</td>\n",
       "      <td>886 days 02:50:05</td>\n",
       "      <td>886.118113</td>\n",
       "    </tr>\n",
       "    <tr>\n",
       "      <th>4</th>\n",
       "      <td>user_872</td>\n",
       "      <td>113</td>\n",
       "      <td>95</td>\n",
       "      <td>0</td>\n",
       "      <td>Bangladesh</td>\n",
       "      <td>7</td>\n",
       "      <td>1504977695</td>\n",
       "      <td>314.220</td>\n",
       "      <td>89.163</td>\n",
       "      <td>beginner</td>\n",
       "      <td>1480081730</td>\n",
       "      <td>prob_75</td>\n",
       "      <td>1</td>\n",
       "      <td>A</td>\n",
       "      <td>500.0</td>\n",
       "      <td>implementation</td>\n",
       "      <td>288 days 03:32:45</td>\n",
       "      <td>288.147743</td>\n",
       "    </tr>\n",
       "  </tbody>\n",
       "</table>\n",
       "</div>"
      ],
      "text/plain": [
       "     user_id  submission_count  problem_solved  contribution     country  \\\n",
       "0  user_3311                47              40             0         NaN   \n",
       "1  user_1972               107              99             0       India   \n",
       "2  user_3317               735             715             0     Vietnam   \n",
       "3  user_2412               169             159             0         NaN   \n",
       "4   user_872               113              95             0  Bangladesh   \n",
       "\n",
       "   follower_count  last_online_time_seconds  max_rating   rating  \\\n",
       "0               4                1504111645     348.337  330.849   \n",
       "1              11                1504291325     304.186  203.842   \n",
       "2               9                1484278246     419.438  353.211   \n",
       "3               2                1505569083     345.757  345.757   \n",
       "4               7                1504977695     314.220   89.163   \n",
       "\n",
       "           rank  registration_time_seconds problem_id attempts_range  \\\n",
       "0  intermediate                 1466686436    prob_75              1   \n",
       "1      beginner                 1439050893    prob_75              2   \n",
       "2  intermediate                 1421847147    prob_75              2   \n",
       "3  intermediate                 1429008478    prob_75              1   \n",
       "4      beginner                 1480081730    prob_75              1   \n",
       "\n",
       "  level_type  points            tags         timespent        days  \n",
       "0          A   500.0  implementation 433 days 03:53:29  433.162141  \n",
       "1          A   500.0  implementation 755 days 02:20:32  755.097593  \n",
       "2          A   500.0  implementation 722 days 13:58:19  722.582164  \n",
       "3          A   500.0  implementation 886 days 02:50:05  886.118113  \n",
       "4          A   500.0  implementation 288 days 03:32:45  288.147743  "
      ]
     },
     "execution_count": 216,
     "metadata": {},
     "output_type": "execute_result"
    }
   ],
   "source": [
    "fnl.head()"
   ]
  },
  {
   "cell_type": "code",
   "execution_count": null,
   "id": "d843bf71",
   "metadata": {},
   "outputs": [],
   "source": []
  },
  {
   "cell_type": "code",
   "execution_count": null,
   "id": "b93f2e67",
   "metadata": {},
   "outputs": [],
   "source": []
  },
  {
   "cell_type": "code",
   "execution_count": null,
   "id": "f9eb02b4",
   "metadata": {},
   "outputs": [],
   "source": []
  },
  {
   "cell_type": "code",
   "execution_count": null,
   "id": "2cb60915",
   "metadata": {},
   "outputs": [],
   "source": []
  },
  {
   "cell_type": "code",
   "execution_count": null,
   "id": "d1f766df",
   "metadata": {},
   "outputs": [],
   "source": []
  },
  {
   "cell_type": "code",
   "execution_count": null,
   "id": "2adc8966",
   "metadata": {},
   "outputs": [],
   "source": []
  },
  {
   "cell_type": "markdown",
   "id": "317ce1cf",
   "metadata": {},
   "source": [
    "###### Contribution columns was left uncleand so we are  taking care of it"
   ]
  },
  {
   "cell_type": "code",
   "execution_count": 217,
   "id": "a747e9a1",
   "metadata": {},
   "outputs": [
    {
     "data": {
      "text/plain": [
       "intermediate    116\n",
       "beginner        107\n",
       "advanced         15\n",
       "expert            1\n",
       "Name: rank, dtype: int64"
      ]
     },
     "execution_count": 217,
     "metadata": {},
     "output_type": "execute_result"
    }
   ],
   "source": [
    "# Investigating negative values in contribution columns\n",
    "user[user['contribution']<0]['rank'].value_counts()"
   ]
  },
  {
   "cell_type": "code",
   "execution_count": 218,
   "id": "2ebe1fa8",
   "metadata": {},
   "outputs": [
    {
     "data": {
      "text/plain": [
       "array([ -8,  -3,  -1,  -4, -11,  -2,  -7, -15,  -9, -22,  -5, -12,  -6,\n",
       "       -13, -14, -16, -10, -32, -20, -19, -24, -18, -17, -28, -38, -26,\n",
       "       -27, -64, -21, -44], dtype=int64)"
      ]
     },
     "execution_count": 218,
     "metadata": {},
     "output_type": "execute_result"
    }
   ],
   "source": [
    "#Unique negative values\n",
    "user[user['contribution']<0]['contribution'].unique()"
   ]
  },
  {
   "cell_type": "code",
   "execution_count": 219,
   "id": "dbe5f514",
   "metadata": {},
   "outputs": [
    {
     "data": {
      "text/html": [
       "<div>\n",
       "<style scoped>\n",
       "    .dataframe tbody tr th:only-of-type {\n",
       "        vertical-align: middle;\n",
       "    }\n",
       "\n",
       "    .dataframe tbody tr th {\n",
       "        vertical-align: top;\n",
       "    }\n",
       "\n",
       "    .dataframe thead th {\n",
       "        text-align: right;\n",
       "    }\n",
       "</style>\n",
       "<table border=\"1\" class=\"dataframe\">\n",
       "  <thead>\n",
       "    <tr style=\"text-align: right;\">\n",
       "      <th></th>\n",
       "      <th>user_id</th>\n",
       "      <th>submission_count</th>\n",
       "      <th>problem_solved</th>\n",
       "      <th>contribution</th>\n",
       "      <th>country</th>\n",
       "      <th>follower_count</th>\n",
       "      <th>last_online_time_seconds</th>\n",
       "      <th>max_rating</th>\n",
       "      <th>rating</th>\n",
       "      <th>rank</th>\n",
       "      <th>registration_time_seconds</th>\n",
       "      <th>timespent</th>\n",
       "      <th>days</th>\n",
       "    </tr>\n",
       "  </thead>\n",
       "  <tbody>\n",
       "    <tr>\n",
       "      <th>3474</th>\n",
       "      <td>user_1213</td>\n",
       "      <td>1270</td>\n",
       "      <td>1192</td>\n",
       "      <td>-44</td>\n",
       "      <td>Syria</td>\n",
       "      <td>41</td>\n",
       "      <td>1505512827</td>\n",
       "      <td>331.135</td>\n",
       "      <td>280.103</td>\n",
       "      <td>beginner</td>\n",
       "      <td>1427122828</td>\n",
       "      <td>907 days 06:59:59</td>\n",
       "      <td>907.291655</td>\n",
       "    </tr>\n",
       "  </tbody>\n",
       "</table>\n",
       "</div>"
      ],
      "text/plain": [
       "        user_id  submission_count  problem_solved  contribution country  \\\n",
       "3474  user_1213              1270            1192           -44   Syria   \n",
       "\n",
       "      follower_count  last_online_time_seconds  max_rating   rating      rank  \\\n",
       "3474              41                1505512827     331.135  280.103  beginner   \n",
       "\n",
       "      registration_time_seconds         timespent        days  \n",
       "3474                 1427122828 907 days 06:59:59  907.291655  "
      ]
     },
     "execution_count": 219,
     "metadata": {},
     "output_type": "execute_result"
    }
   ],
   "source": [
    "user[user['contribution']==-44]"
   ]
  },
  {
   "cell_type": "code",
   "execution_count": 220,
   "id": "50a72c57",
   "metadata": {},
   "outputs": [
    {
     "data": {
      "text/plain": [
       "Text(0, 0.5, 'rating')"
      ]
     },
     "execution_count": 220,
     "metadata": {},
     "output_type": "execute_result"
    },
    {
     "data": {
      "image/png": "[encoded data removed]",
      "text/plain": [
       "<Figure size 432x288 with 1 Axes>"
      ]
     },
     "metadata": {},
     "output_type": "display_data"
    }
   ],
   "source": [
    "#comparing cntrbtn wiht rating\n",
    "plt.scatter(user['contribution'],user['rating'])\n",
    "plt.xlabel(\"contribution\")\n",
    "plt.ylabel(\"rating\")"
   ]
  },
  {
   "cell_type": "markdown",
   "id": "b2ad598b",
   "metadata": {},
   "source": [
    "Can't figure out any strong relation"
   ]
  },
  {
   "cell_type": "code",
   "execution_count": 221,
   "id": "f563e404",
   "metadata": {},
   "outputs": [
    {
     "data": {
      "text/plain": [
       "KruskalResult(statistic=123.53232472060608, pvalue=5.601312544492822e-25)"
      ]
     },
     "execution_count": 221,
     "metadata": {},
     "output_type": "execute_result"
    }
   ],
   "source": [
    "# checking relation  between attempt range and contribution\n",
    "k=[]\n",
    "for i in fnl['attempts_range'].unique():\n",
    "    k.append(fnl[fnl['attempts_range']==i]['contribution'])\n",
    "stat.kruskal(k[0],k[1],k[2],k[3],k[4],k[5])"
   ]
  },
  {
   "cell_type": "code",
   "execution_count": 222,
   "id": "6ccb9d0b",
   "metadata": {},
   "outputs": [
    {
     "data": {
      "image/png": "[encoded data removed]",
      "text/plain": [
       "<Figure size 432x288 with 1 Axes>"
      ]
     },
     "metadata": {},
     "output_type": "display_data"
    }
   ],
   "source": [
    "sns.boxplot(y='contribution',x='attempts_range',data=fnl)\n",
    "plt.title(\"dstrbtn of cntrbtn with rspct to attempts range\")\n",
    "plt.show()"
   ]
  },
  {
   "cell_type": "code",
   "execution_count": 223,
   "id": "e70387f5",
   "metadata": {},
   "outputs": [
    {
     "name": "stdout",
     "output_type": "stream",
     "text": [
      "Shape of data file user (3571, 13)\n",
      "no of zero observation in contribution column of user data file 2530\n"
     ]
    }
   ],
   "source": [
    "print(\"Shape of data file user\",user.shape)\n",
    "print(\"no of zero observation in contribution column of user data file\",(user['contribution']==0).sum())"
   ]
  },
  {
   "cell_type": "code",
   "execution_count": 224,
   "id": "95aeee6a",
   "metadata": {},
   "outputs": [
    {
     "name": "stdout",
     "output_type": "stream",
     "text": [
      "percentage of observation zero in contribution column 70.84850182021843\n"
     ]
    }
   ],
   "source": [
    "print(\"percentage of observation zero in contribution column\",100*2530/3571)"
   ]
  },
  {
   "cell_type": "markdown",
   "id": "7a2ce1b3",
   "metadata": {},
   "source": [
    "Almost 71% of observations in user columns has value 0 so we deccide to drop contribution column"
   ]
  },
  {
   "cell_type": "markdown",
   "id": "7bd6be4b",
   "metadata": {},
   "source": [
    "###### We have completed our eda and Statitical analysis"
   ]
  },
  {
   "cell_type": "code",
   "execution_count": 225,
   "id": "c289b9c1",
   "metadata": {},
   "outputs": [],
   "source": [
    "#Lets drop some columns which are of less use\n",
    "df=fnl.copy()"
   ]
  },
  {
   "cell_type": "code",
   "execution_count": 226,
   "id": "d938b373",
   "metadata": {},
   "outputs": [],
   "source": [
    "df.drop([\"user_id\",\"contribution\",'country','last_online_time_seconds','registration_time_seconds','timespent'],axis=1,inplace=True)"
   ]
  },
  {
   "cell_type": "code",
   "execution_count": 227,
   "id": "dbc038bd",
   "metadata": {},
   "outputs": [
    {
     "data": {
      "text/html": [
       "<div>\n",
       "<style scoped>\n",
       "    .dataframe tbody tr th:only-of-type {\n",
       "        vertical-align: middle;\n",
       "    }\n",
       "\n",
       "    .dataframe tbody tr th {\n",
       "        vertical-align: top;\n",
       "    }\n",
       "\n",
       "    .dataframe thead th {\n",
       "        text-align: right;\n",
       "    }\n",
       "</style>\n",
       "<table border=\"1\" class=\"dataframe\">\n",
       "  <thead>\n",
       "    <tr style=\"text-align: right;\">\n",
       "      <th></th>\n",
       "      <th>submission_count</th>\n",
       "      <th>problem_solved</th>\n",
       "      <th>follower_count</th>\n",
       "      <th>max_rating</th>\n",
       "      <th>rating</th>\n",
       "      <th>rank</th>\n",
       "      <th>problem_id</th>\n",
       "      <th>attempts_range</th>\n",
       "      <th>level_type</th>\n",
       "      <th>points</th>\n",
       "      <th>tags</th>\n",
       "      <th>days</th>\n",
       "    </tr>\n",
       "  </thead>\n",
       "  <tbody>\n",
       "    <tr>\n",
       "      <th>0</th>\n",
       "      <td>47</td>\n",
       "      <td>40</td>\n",
       "      <td>4</td>\n",
       "      <td>348.337</td>\n",
       "      <td>330.849</td>\n",
       "      <td>intermediate</td>\n",
       "      <td>prob_75</td>\n",
       "      <td>1</td>\n",
       "      <td>A</td>\n",
       "      <td>500.0</td>\n",
       "      <td>implementation</td>\n",
       "      <td>433.162141</td>\n",
       "    </tr>\n",
       "    <tr>\n",
       "      <th>1</th>\n",
       "      <td>107</td>\n",
       "      <td>99</td>\n",
       "      <td>11</td>\n",
       "      <td>304.186</td>\n",
       "      <td>203.842</td>\n",
       "      <td>beginner</td>\n",
       "      <td>prob_75</td>\n",
       "      <td>2</td>\n",
       "      <td>A</td>\n",
       "      <td>500.0</td>\n",
       "      <td>implementation</td>\n",
       "      <td>755.097593</td>\n",
       "    </tr>\n",
       "    <tr>\n",
       "      <th>2</th>\n",
       "      <td>735</td>\n",
       "      <td>715</td>\n",
       "      <td>9</td>\n",
       "      <td>419.438</td>\n",
       "      <td>353.211</td>\n",
       "      <td>intermediate</td>\n",
       "      <td>prob_75</td>\n",
       "      <td>2</td>\n",
       "      <td>A</td>\n",
       "      <td>500.0</td>\n",
       "      <td>implementation</td>\n",
       "      <td>722.582164</td>\n",
       "    </tr>\n",
       "  </tbody>\n",
       "</table>\n",
       "</div>"
      ],
      "text/plain": [
       "   submission_count  problem_solved  follower_count  max_rating   rating  \\\n",
       "0                47              40               4     348.337  330.849   \n",
       "1               107              99              11     304.186  203.842   \n",
       "2               735             715               9     419.438  353.211   \n",
       "\n",
       "           rank problem_id attempts_range level_type  points            tags  \\\n",
       "0  intermediate    prob_75              1          A   500.0  implementation   \n",
       "1      beginner    prob_75              2          A   500.0  implementation   \n",
       "2  intermediate    prob_75              2          A   500.0  implementation   \n",
       "\n",
       "         days  \n",
       "0  433.162141  \n",
       "1  755.097593  \n",
       "2  722.582164  "
      ]
     },
     "execution_count": 227,
     "metadata": {},
     "output_type": "execute_result"
    }
   ],
   "source": [
    "#After droping some of the columns\n",
    "df.head(3)"
   ]
  },
  {
   "cell_type": "code",
   "execution_count": 228,
   "id": "36c6903c",
   "metadata": {},
   "outputs": [],
   "source": [
    "#lets save this data file and we will continue our model building in new file"
   ]
  },
  {
   "cell_type": "code",
   "execution_count": 229,
   "id": "c4c05301",
   "metadata": {},
   "outputs": [],
   "source": [
    "df.to_csv(\"D:\\Final project 4th sem\\mp.csv\")"
   ]
  },
  {
   "cell_type": "code",
   "execution_count": null,
   "id": "16426da7",
   "metadata": {},
   "outputs": [],
   "source": []
  },
  {
   "cell_type": "code",
   "execution_count": 230,
   "id": "62053033",
   "metadata": {},
   "outputs": [
    {
     "data": {
      "text/plain": [
       "1    82476\n",
       "2    47135\n",
       "3    14082\n",
       "4     5478\n",
       "6     3020\n",
       "5     2484\n",
       "Name: attempts_range, dtype: int64"
      ]
     },
     "execution_count": 230,
     "metadata": {},
     "output_type": "execute_result"
    }
   ],
   "source": [
    "fnl['attempts_range'].value_counts()"
   ]
  },
  {
   "cell_type": "code",
   "execution_count": 231,
   "id": "faa95ac5",
   "metadata": {},
   "outputs": [
    {
     "data": {
      "text/plain": [
       "1    82476\n",
       "2    47135\n",
       "3    14082\n",
       "4     5478\n",
       "6     3020\n",
       "5     2484\n",
       "Name: attempts_range, dtype: int64"
      ]
     },
     "execution_count": 231,
     "metadata": {},
     "output_type": "execute_result"
    }
   ],
   "source": [
    "fnl['attempts_range'].value_counts()"
   ]
  },
  {
   "cell_type": "code",
   "execution_count": null,
   "id": "4ebc91a2",
   "metadata": {},
   "outputs": [],
   "source": []
  }
 ],
 "metadata": {
  "kernelspec": {
   "display_name": "Python 3 (ipykernel)",
   "language": "python",
   "name": "python3"
  },
  "language_info": {
   "codemirror_mode": {
    "name": "ipython",
    "version": 3
   },
   "file_extension": ".py",
   "mimetype": "text/x-python",
   "name": "python",
   "nbconvert_exporter": "python",
   "pygments_lexer": "ipython3",
   "version": "3.9.18"
  }
 },
 "nbformat": 4,
 "nbformat_minor": 5
}
